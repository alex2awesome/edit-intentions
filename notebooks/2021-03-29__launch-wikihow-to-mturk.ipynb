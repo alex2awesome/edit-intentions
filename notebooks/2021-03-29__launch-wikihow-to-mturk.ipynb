{
 "cells": [
  {
   "cell_type": "code",
   "execution_count": 165,
   "metadata": {},
   "outputs": [],
   "source": [
    "from tqdm.auto import tqdm\n",
    "import boto3\n",
    "from boto.mturk.connection import MTurkConnection\n",
    "from boto.mturk.question import HTMLQuestion\n",
    "from boto.mturk.question import ExternalQuestion\n",
    "\n",
    "\n",
    "from IPython.display import display, HTML\n",
    "from boto.mturk.qualification import (\n",
    "    Qualifications,\n",
    "    PercentAssignmentsApprovedRequirement, \n",
    "    NumberHitsApprovedRequirement\n",
    ")\n",
    "\n",
    "import sys, os, json, re\n",
    "sys.path.insert(0, '../')\n",
    "from mturk import mturk_handler as um"
   ]
  },
  {
   "cell_type": "markdown",
   "metadata": {},
   "source": [
    "# Make file from template"
   ]
  },
  {
   "cell_type": "code",
   "execution_count": 166,
   "metadata": {},
   "outputs": [
    {
     "data": {
      "text/plain": [
       "<module 'mturk.make_mturk_from_json' from '../mturk/make_mturk_from_json.py'>"
      ]
     },
     "execution_count": 166,
     "metadata": {},
     "output_type": "execute_result"
    }
   ],
   "source": [
    "from mturk import make_mturk_from_json as mj\n",
    "from importlib import reload\n",
    "reload(mj)"
   ]
  },
  {
   "cell_type": "code",
   "execution_count": 167,
   "metadata": {},
   "outputs": [],
   "source": [
    "data_file = os.path.join('..', 'app', 'data', 'data-downsampled.json')"
   ]
  },
  {
   "cell_type": "code",
   "execution_count": 168,
   "metadata": {},
   "outputs": [],
   "source": [
    "with open(data_file) as f:\n",
    "    input_data = json.load(f)"
   ]
  },
  {
   "cell_type": "code",
   "execution_count": 169,
   "metadata": {
    "scrolled": true
   },
   "outputs": [
    {
     "name": "stdout",
     "output_type": "stream",
     "text": [
      "sample keys:\n",
      "('nyt', 810619, 0, 1)\n",
      "('independent', 976785, 0, 1)\n",
      "('ap', 1548, 4, 5)\n",
      "('ap', 3571, 14, 15)\n",
      "('ap', 767, 1, 2)\n",
      "\n",
      "num documents:\n",
      "400\n"
     ]
    }
   ],
   "source": [
    "PRINT_DETAILS = True\n",
    "keys = list(input_data.keys())\n",
    "if PRINT_DETAILS:\n",
    "    print('sample keys:')\n",
    "    print('\\n'.join(keys[:5]))\n",
    "    print('\\nnum documents:')\n",
    "    print(len(keys))\n",
    "\n",
    "SHUFFLE_DATA = False\n",
    "if SHUFFLE_DATA:\n",
    "    import random\n",
    "    random.shuffle(keys)"
   ]
  },
  {
   "cell_type": "code",
   "execution_count": 170,
   "metadata": {},
   "outputs": [],
   "source": [
    "# select file\n",
    "k = keys[0]"
   ]
  },
  {
   "cell_type": "code",
   "execution_count": 171,
   "metadata": {},
   "outputs": [],
   "source": [
    "# get data\n",
    "datum = input_data[k]\n",
    "nodes = datum['nodes']\n",
    "arcs = datum['arcs']\n",
    "for n in nodes:\n",
    "    n['sentence'] = n['sentence'].replace('\"', '')\n",
    "datum['nodes'] = nodes\n",
    "datum['arcs'] = arcs"
   ]
  },
  {
   "cell_type": "code",
   "execution_count": 172,
   "metadata": {},
   "outputs": [],
   "source": [
    "data_id = re.split('\\(\\'|\\'\\, |\\, |\\)', k)\n",
    "data_id = list(filter(lambda x: x != '', data_id))\n",
    "data_id = '-'.join(data_id)"
   ]
  },
  {
   "cell_type": "code",
   "execution_count": 173,
   "metadata": {
    "scrolled": true
   },
   "outputs": [],
   "source": [
    "output = mj.render_page(\n",
    "    datum, \n",
    "    data_id,\n",
    "    write=True, \n",
    "    template_folder='../app/templates/', \n",
    "    template_fn='visualize-doc-level-edits-jsplumb.html',\n",
    "    output_dir='../mturk/tasks_to_launch'\n",
    ")"
   ]
  },
  {
   "cell_type": "markdown",
   "metadata": {},
   "source": [
    "# Launch to MTurk"
   ]
  },
  {
   "cell_type": "code",
   "execution_count": 174,
   "metadata": {},
   "outputs": [],
   "source": [
    "mturk = um.MTurkHandler(environment='sandbox')"
   ]
  },
  {
   "cell_type": "code",
   "execution_count": 175,
   "metadata": {},
   "outputs": [
    {
     "data": {
      "text/plain": [
       "({'HIT': {'HITId': '33IXYHIZC8SR0UDSSBRAOF0DE5T2ED',\n",
       "   'HITTypeId': '33JNTVT0Y75US34LA352EB4VZEZ3WZ',\n",
       "   'HITGroupId': '3LUKZ8GFZ5QC1O62UVHGN8NXFKJWGU',\n",
       "   'CreationTime': datetime.datetime(2022, 10, 26, 17, 58, 47, tzinfo=tzlocal()),\n",
       "   'Title': 'Edit-Intentions Task v2',\n",
       "   'Description': 'Label the intentions behind each edit-action from a dropdown menu.',\n",
       "   'Question': '\\n\\n<HTMLQuestion xmlns=\"http://mechanicalturk.amazonaws.com/AWSMechanicalTurkDataSchemas/2011-11-11/HTMLQuestion.xsd\">\\n<HTMLContent><![CDATA[\\n\\n\\n\\n<!-- YOUR HTML BEGINS -->\\n<!DOCTYPE html>\\n<html>\\n<head>\\n<meta http-equiv=\\'Content-Type\\' content=\\'text/html; charset=UTF-8\\'/>\\n</head>\\n<link type=\"text/css\" href=\"https://getbootstrap.com/1.0.0/assets/css/bootstrap-1.0.0.min.css\">\\n<link rel=\"stylesheet\" href=\"https://maxcdn.bootstrapcdn.com/bootstrap/4.0.0/css/bootstrap.min.css\">\\n<link rel=\"stylesheet\" href=\"https://cdnjs.cloudflare.com/ajax/libs/jqueryui/1.12.1/jquery-ui.min.css\">\\n<script src=\"https://code.jquery.com/jquery-3.3.1.min.js\" crossorigin=\"anonymous\"></script>\\n<script src=\"https://cdnjs.cloudflare.com/ajax/libs/popper.js/1.12.9/umd/popper.min.js\"></script>\\n<script src=\"https://maxcdn.bootstrapcdn.com/bootstrap/4.0.0/js/bootstrap.min.js\"></script>\\n<script src=\"https://d3js.org/d3.v5.min.js\"></script>\\n<script src=\"https://cdnjs.cloudflare.com/ajax/libs/jqueryui/1.12.1/jquery-ui.min.js\"></script>\\n<script src=\"https://creativecouple.github.io/jquery-timing/jquery-timing.min.js\"></script>\\n<script src=\"https://cdnjs.cloudflare.com/ajax/libs/jqueryui-touch-punch/0.2.3/jquery.ui.touch-punch.min.js\"></script>\\n<!-- ContextMenu -->\\n<link rel=\"stylesheet\" href=\"https://cdnjs.cloudflare.com/ajax/libs/jquery-contextmenu/2.7.1/jquery.contextMenu.min.css\">\\n<script src=\"https://cdnjs.cloudflare.com/ajax/libs/jquery-contextmenu/2.7.1/jquery.contextMenu.min.js\"></script>\\n<script src=\"https://cdnjs.cloudflare.com/ajax/libs/jquery-contextmenu/2.7.1/jquery.ui.position.js\"></script>\\n\\n<!-- alertify -->\\n<script src=\"https://cdnjs.cloudflare.com/ajax/libs/AlertifyJS/1.13.1/alertify.min.js\"></script>\\n<link rel=\"stylesheet\" href=\"https://cdnjs.cloudflare.com/ajax/libs/AlertifyJS/1.13.1/css/alertify.min.css\">\\n<link rel=\"stylesheet\" href=\"https://cdnjs.cloudflare.com/ajax/libs/AlertifyJS/1.13.1/css/themes/bootstrap.min.css\">\\n<!-- <link rel=\"stylesheet\" href=\"https://cdnjs.cloudflare.com/ajax/libs/AlertifyJS/1.13.1/css/themes/default.css\"> -->\\n<script type=\\'text/javascript\\' src=\\'https://s3.amazonaws.com/mturk-public/externalHIT_v1.js\\'></script>\\n\\n<script src=\"https://cdn.jsdelivr.net/gh/qiao/difflib.js/dist/difflib-browser.js\" crossorigin=\"anonymous\"></script>\\n<script src=\"https://cdn.jsdelivr.net/gh/musclesoft/jquery-connections/jquery.connections.js\"></script>\\n\\n<link rel=\"stylesheet\" href=\"https://cdn.jsdelivr.net/gh/alex2awesome/edit-intentions@master/app/static/css/jsplumbtoolkit-defaults.css\">\\n<link rel=\"stylesheet\" href=\"https://cdn.jsdelivr.net/gh/alex2awesome/edit-intentions@master/app/static/css/jsplumbtoolkit-demo.css\">\\n<link rel=\"stylesheet\" href=\"https://cdn.jsdelivr.net/gh/alex2awesome/edit-intentions@master/app/static/css/main.css\">\\n\\n<script src=\"https://cdn.jsdelivr.net/gh/alex2awesome/edit-intentions@master/app/static/js/jquery.validate.js\"></script>\\n<script src=\"https://cdn.jsdelivr.net/gh/alex2awesome/edit-intentions@master/app/static/js/jsplumb.bundle.js\"></script>\\n<script src=\"https://cdn.jsdelivr.net/gh/alex2awesome/edit-intentions@master/app/static/js/additional-methods.js\"></script>\\n<script src=\"https://cdn.jsdelivr.net/gh/alex2awesome/edit-intentions@master/app/static/js/jsplumb.js\"></script>\\n\\n\\n<style>\\n    .hidden {\\n    transition: opacity 1s ease-out;\\n    opacity: 0;\\n    height: 0;\\n    overflow: hidden;\\n}\\n\\n.example{\\n    background-color: #efefef;\\n    margin-left: 20px;\\n    margin-right: 50px;\\n    padding: 10px;\\n    padding-bottom: 1px;\\n}\\n\\n.highlighted {\\n\\tbackground-color: yellow;\\n}\\n\\n.text-mouseover{\\n\\tborder-style: solid;\\n}\\n\\n#moving_div {\\n\\tposition: fixed;\\n\\twidth: 1px;\\n\\theight: 1px;\\n\\tz-index: -1;\\n}\\n.moving_line {\\n\\tz-index: -1;\\n}\\n\\n/* Handle the question text-boxes */\\n.textblock {\\n  border-radius: 4px;\\n  background: rgba(237, 245, 241, 0.87);\\n  display: inline-block;\\n  border: 2px solid Black;\\n  padding: 5px 10px 5px 10px;\\n  margin: 10px 10px 10px 10px;\\n  z-index: 1;\\n}\\n\\n.labelblock {\\n  border-radius: 1px;\\n  background: rgba(187, 198, 188, 0.8);\\n  display: inline-block;\\n  border: 2px solid Black;\\n  padding: 5px 10px 5px 10px;\\n  margin: 10px 10px 10px 10px;\\n  z-index: 1;\\n}\\n\\n.textblock_pool {\\n\\theight: 200px;\\n}\\n\\n.textblock_span {\\n\\tpadding-right: 10px;\\n}\\n\\n.subset-subj {\\n\\tbackground: rgba(175, 255, 141, 0.6);\\n\\tbackground-color: rgba(175, 255, 141, 0.6);\\n}\\n\\n/* handle line styles*/\\n.connection {\\n\\tborder: 20px;\\n    border-width: 2.5px;\\n\\tz-index: 0;\\n\\t/*display: table;*/\\n\\tborder-radius: 100%;\\n\\t/*pointer-events:none;*/\\n\\tcolor: rgb(200, 200, 200);\\n\\tcolor: rgba(0, 0, 0, 0.7);\\n}\\n\\n.shaded {\\n\\tborder-color: #55f;\\n    /*border-radius: 20px;*/\\n    /*border-width: 5px;*/\\n}\\n\\n.dropdown-menu {\\n    position: absolute;\\n    z-index: 100;\\n}\\n\\n\\n.deleted{\\n    background-color:rgba(241,114,114,0.68)\\n}\\n\\n.added{\\n    background-color:rgba(175, 255, 141, 0.6);\\n}\\n\\n.annotation{\\n    height: 50%;\\n}\\n\\n#submitButton{\\n    z-index: 5;\\n}\\n\\n#feedback{\\n    width: 100%;\\n}\\n\\nhr.hr-medium{\\n    border: 3px solid black;\\n}\\n\\nbody{\\n    margin: 10px !important;\\n}\\n\\n/* arrows */\\n.arrow {\\n  border: solid black;\\n  border-width: 0 3px 3px 0;\\n  display: inline-block;\\n  padding: 3px;\\n  position: relative;\\n}\\n\\n.right {\\n  transform: rotate(-45deg);\\n  -webkit-transform: rotate(-45deg);\\n}\\n\\n.left {\\n  transform: rotate(135deg);\\n  -webkit-transform: rotate(135deg);\\n}\\n\\n.up {\\n  transform: rotate(-135deg);\\n  -webkit-transform: rotate(-135deg);\\n}\\n\\n.down {\\n  transform: rotate(45deg);\\n  -webkit-transform: rotate(45deg);\\n}\\n\\n</style>\\n<!-- jquery connections -->\\n<body>\\n\\n    <div class=\"row instructions\">\\n        <div class=\"col-12\">\\n            <div id=\"accordion\">\\n              <div class=\"card\">\\n                <div class=\"card-header\" id=\"hello_header\">\\n                  <h5 class=\"mb-0\">\\n                    <button class=\"btn btn-link\" type=\"button\" data-toggle=\"collapse\" data-target=\"#hello\">\\n                      Hello, about us, and thank you for your help!\\n                    </button>\\n                  </h5>\\n                </div>\\n                <div id=\"hello\" class=\"collapse show\" aria-labelledby=\"hello_header\" data-parent=\"#accordion\">\\n                  <div class=\"card-body\">\\n                    Hello! We are small research collaboration at University of Southern California, University of Illinois Urbana-Champaign and\\n                      University of California Los Angeles trying to build AI tools to help better understand the work journalists do.\\n                    <br><br>\\n                    Our goal in this work is to study how articles unfold over time — ultimately we\\'d like to build tools to help local news rooms allocate resources for breaking stories.\\n                      First, we need to study how seasoned editors go about editing and updating stories.\\n                    <br><br>\\n                    We are calibrating our payment scheme <b>to meet a $25 per hour wage</b>. Apologies if at first it is miscalibrated, we\\'re not sure at\\n                      this moment how long the tasks will take.\\n                      <br><br>\\n                    Please take a moment to review some of the <b><u>Examples</u></b> and skim the <b><u>Instructions</u></b> in the sections below. If you\\'ve already watched the <b><u>Video</u></b> and have a good idea of the task, feel free to skip that section.\\n                  </div>\\n                </div>\\n              </div>\\n              <div class=\"card\">\\n                <div class=\"card-header\" id=\"headingOne\">\\n                  <h5 class=\"mb-0\">\\n                    <button class=\"btn btn-link collapsed\" data-toggle=\"collapse\" type=\"button\" data-target=\"#collapseTwo\" aria-expanded=\"false\" aria-controls=\"collapseTwo\">\\n                      Instructions\\n                    </button>\\n                  </h5>\\n                </div>\\n                <div id=\"collapseTwo\" class=\"collapse\" aria-labelledby=\"headingOne\" data-parent=\"#accordion\">\\n                    <div class=\"card-body\">\\n                        <i><u><b>NOTE: THIS SECTION IS OLD. The updated instructions should go here.</b></u></i>\\n                        <br><br>\\n                        You will be adding, deleting and moving sentences around in a news article to anticipate what a future version looks like.\\n                        <br><br>\\n                        * <b><u>Add a sentence</u></b> either <i>below</i> or <i>above</i> the current sentence by pressing the <span style=\"background-color: rgba(0,160,0,0.63)\">Add &uarr;</span> or <span style=\"background-color: rgba(0,160,0,0.63)\">Add &darr;</span> buttons. Adding a sentence means that you feel there is substantially new information, a novel viewpoint or quote, or necessary background\\n                        information that needs to be present.\\n                        <br><br>\\n                        * <b><u>Move a sentence</u></b> by dragging it around on the canvas. Moving a sentence,  (or what we\\'re calling <b><i>refactoring</i></b>) means that the importance of a sentence should be either increased or decreased within the article. <b><u>Please note:</u></b> refactors are rare!\\n                        <br><br>\\n                        * <b><u>Delete a sentence</u></b> by hitting the <span style=\"background-color: rgba(0,160,0,0.63)\">Delete</span> button. Deleting an <b>Added</b> sentence just reverses that action - we will not record this. Deleting a sentence that is present means you feel it needs to be (a) substantially rewritten (ergo: a new sentence should also be <b>Added</b>), or (b) the sentence no longer applies given new information that was added.\\n                        <br><br>\\n                        * <b><u>Edit a sentence</u></b> by hitting the <span style=\"background-color: rgba(0,160,0,0.63)\">Edit</span> button. Editing a sentence means that the wording might change a little bit due to other changes happening around the sentence or events within the sentence being updated.\\n                        <br><br>\\n                        * <b><u>Leaving a sentence unchanged</u></b> means that you don\\'t really expect the sentence to change at all in the next version of the article.\\n                        <br><br>\\n                        When you\\'re ready to submit, please hit the <span style=\"background-color: rgba(0,160,0,0.63)\">Submit</span> button and please check to see what the actual edits were so you can improve for next task!\\n                    </div>\\n                </div>\\n              </div>\\n              <div class=\"card\">\\n                <div class=\"card-header\" id=\"headingOne\">\\n                  <h5 class=\"mb-0\">\\n                    <button class=\"btn btn-link collapsed\" data-toggle=\"collapse\" type=\"button\" data-target=\"#collapseFour\" aria-expanded=\"false\" aria-controls=\"collapseFour\">\\n                      Video\\n                    </button>\\n                  </h5>\\n                </div>\\n                <div id=\"collapseFour\" class=\"collapse\" aria-labelledby=\"headingOne\" data-parent=\"#accordion\">\\n                    <div class=\"card-body\">\\n                        <i><b><u>NOTE: THIS SECTION IS OLD. An updated video can go here.</u></b></i>\\n                        <br><br>\\n                        Here is a video showing how to interact with our page and a demonstration of the thought process I think is appropriate for this task. However, you are professional journalists and you know better than I do!\\n                        <br><br>\\n                        <iframe width=\"560\" height=\"315\" src=\"https://www.youtube.com/embed/nEF6uVoSZdE\" title=\"YouTube video player\" frameborder=\"0\" allow=\"accelerometer; autoplay; clipboard-write; encrypted-media; gyroscope; picture-in-picture\" allowfullscreen></iframe>\\n                    </div>\\n                </div>\\n              </div>\\n              <div class=\"card\">\\n                <div class=\"card-header\" id=\"headingOne\">\\n                  <h5 class=\"mb-0\">\\n                    <button class=\"btn btn-link collapsed\" data-toggle=\"collapse\" type=\"button\" data-target=\"#collapseThree\" aria-expanded=\"false\" aria-controls=\"collapseThree\">\\n                      Examples\\n                    </button>\\n                  </h5>\\n                </div>\\n                <div id=\"collapseThree\" class=\"collapse\" aria-labelledby=\"headingOne\" data-parent=\"#accordion\">\\n                    <div class=\"card-body\">\\n                        <i><u><b>NOTE: THIS SECTION IS OLD. Updated examples links can go here if we find good ones, and I can host them on app-engine pretty easily. Or, we can just take screenshots.</b></u></i>\\n                        <h5>Local Crime</h5>\\n                        <div class=\"example\">\\n                            <a target=\\'_blank\\' rel=\\'noopener noreferrer\\' href=\"https://news-edits-dot-usc-research.appspot.com/check_task?source=reuters&doc_id=2436&v_x=0&v_y=1\">https://news-edits-dot-usc-research.appspot.com/check_task?source=reuters&doc_id=2436&v_x=0&v_y=1</a>\\n                        </div>\\n                        The above example is a good example of a local crime article where the phrase \"...no mention of...\" indicates that an upcoming draft will include deletions (of that sentence) and additions of new information.\\n                        <hr>\\n                        <!--                        -->\\n                        <h5>Events update:</h5>\\n                        <div class=\"example\">\\n                            <a target=\\'_blank\\' rel=\\'noopener noreferrer\\' href=\"\">https://news-edits-dot-usc-research.appspot.com/check_task?source=independent&doc_id=1587638&v_x=1&v_y=2</a>\\n                            <br>\\n                            <a target=\\'_blank\\' rel=\\'noopener noreferrer\\' href=\"\">https://news-edits-dot-usc-research.appspot.com/check_task?source=nyt&doc_id=1828967&v_x=1&v_y=2</a>\\n                        </div>\\n                        In both of these articles, an event is unfolding. They are both clearly breaking news, so as more information about the main event comes in, we will update the article.\\n                        <hr>\\n                        <!--                        -->\\n                        <h5>More information about the main event</h5>\\n                        <div class=\"example\">\\n                            <a target=\\'_blank\\' rel=\\'noopener noreferrer\\' href=\"\">https://news-edits-dot-usc-research.appspot.com/check_task?source=nyt&doc_id=1870033&v_x=0&v_y=1</a>\\n                        </div>\\n                        The phrase \"This is a developing story\" is really a good clue in this example.\\n                        <hr>\\n                        <!--                        -->\\n                        <h5>More background:</h5>\\n                        <div class=\"example\">\\n                            <a target=\\'_blank\\' rel=\\'noopener noreferrer\\' href=\"\">https://news-edits-dot-usc-research.appspot.com/check_task?source=wp&doc_id=1115575&v_x=0&v_y=1</a>\\n                        </div>\\n                        This article needed a lot more background.\\n                        <hr>\\n                        <!--                        -->\\n                        <h5>More viewpoints:</h5>\\n                        <div class=\"example\">\\n                            <a target=\\'_blank\\' rel=\\'noopener noreferrer\\' href=\"\">https://news-edits-dot-usc-research.appspot.com/check_task?source=wp&doc_id=1125102&v_x=0&v_y=1</a>\\n                        </div>\\n                         This is a good example of a piece where we really need to hear from more voices, like parents, anonymous sources, etc.\\n                        <hr>\\n                        <h5>Article Rewrite</h5>\\n                        <div class=\"example\">\\n                            <a target=\\'_blank\\' rel=\\'noopener noreferrer\\' href=\"\">https://news-edits-dot-usc-research.appspot.com/check_task?source=ap&doc_id=220&v_x=2&v_y=3</a>\\n                        </div>\\n                        Good example of when the old article wasn\\'t really written in a newsy style and needed to be updated.\\n                        <hr>\\n                        <!--                        -->\\n                        <h5>Many Edits</h5>\\n                        <div class=\"example\">\\n                            <a target=\\'_blank\\' rel=\\'noopener noreferrer\\' href=\"\">https://news-edits-dot-usc-research.appspot.com/check_task?source=bbc&doc_id=1248390&v_x=1&v_y=2</a>\\n                        </div>\\n                        This article is really dense. There are a lot of time-dependent numbers here, so it\\'s likely that a lot of them will be updated. Also, an additional viewpoint is added.\\n                    </div>\\n                </div>\\n              </div>\\n              <div class=\"card\">\\n                <div class=\"card-header\" id=\"todoHeader\">\\n                  <h5 class=\"mb-0\">\\n                    <button class=\"btn btn-link collapsed\" data-toggle=\"collapse\" type=\"button\" data-target=\"#toDo\" aria-expanded=\"false\" aria-controls=\"collapseThree\">\\n                      TO-DO Before Launch\\n                    </button>\\n                  </h5>\\n                </div>\\n                <div id=\"toDo\" class=\"collapse\" aria-labelledby=\"todoHeader\" data-parent=\"#accordion\">\\n                    <div class=\"card-body\">\\n                        We have the following items on our to-do list for the interface before we launch it:\\n                        <br>\\n                        <br>\\n                        <ul>\\n                            <li>Task Semantics:\\n                                <ul>\\n                                    <li>Finalize schema with appropriate addition/deletion/edit sub-schemas</li>\\n                                    <li>Write instructions</li>\\n                                </ul>\\n                            </li>\\n                            <li>Annotation: Annotate a subset of documents ourselves, in order to:\\n                                <ul>\\n                                    <li>Collect good challenging/interesting/pedagogical examples for the instructions.</li>\\n                                    <li>Collect a gold dataset with which to recruit workers.</li>\\n                                </ul>\\n                            </li>\\n                            <li>Visual/Technical Interface Upgrades:\\n                                <ul>\\n                                    <li>Put labels for edit-dropdown on the bezier-curves </li>\\n                                    <li>Put an additional textfield or dropdown in each addition/deletion box so that the user can note if the addition/deletion corresponds to an update.</li>\\n                                    <li>Put an additional \"+\" sign by each dropdown so that we can allow users to add >1 intention per edit.</li>\\n                                    <li>Make the entire layout response to size-changes for dropdowns results from the previous two changes.</li>\\n                                    <li>Make sure we\\'re collecting all the data on submission, test on Amazon.</li>\\n                                </ul>\\n                            </li>\\n\\n                        </ul>\\n                    </div>\\n                </div>\\n              </div>\\n            </div>\\n            </div>\\n        </div>\\n\\n\\n\\n<form name=\\'mturk_form\\' method=\\'post\\' id=\\'mturk_form\\' action=\\'/mturk/externalSubmit\\'>\\n<input type=\\'hidden\\' value=\\'\\' name=\\'assignmentId\\' id=\\'assignmentId\\'/>\\n<div class=\"jtk-page-container\">\\n    <div class=\"jtk-container\">\\n        <div class=\"jtk-demo-main\">\\n            <div class=\"table table-hover container\">\\n                <p>Article Key: nyt-810619-0-1</p>\\n                <br>\\n                <div class=\"row header\">\\n                    <div class=\"col-2\"></div>\\n                    <div class=\"col-3\"><h4>Old Version</h4></div>\\n                    <div class=\"col-1\"></div>\\n                    <div class=\"col-3\"><h4>New Version</h4></div>\\n                    <div class=\"col-2\"></div>\\n                </div>\\n                <div class=\"row text jtk-demo-canvas canvas-wide flowchart-demo jtk-surface jtk-surface-nopan\" id=\"canvas\">\\n                    <div class=\"col-2 labelblock_pool_x\"></div>\\n                    <div class=\"col-3 textblock_pool_version_x\" doc_id=\"nyt-810619-0-1\" ></div>\\n                    <div class=\"col-1 filler\" doc_id=\"nyt-810619-0-1\" ></div>\\n                    <div class=\"col-3 textblock_pool_version_y\" doc_id=\"nyt-810619-0-1\" ></div>\\n                    <div class=\"col-2 labelblock_pool_y\"></div>\\n                </div>\\n            </div>\\n        </div>\\n    </div>\\n</div>\\n\\n<button type=\"submit\" id=\\'submitButton\\' value=\\'Submit\\'>Submit form</button>\\n</form>\\n\\n<script language=\\'Javascript\\'>\\n\\n    function zip() {\\n        for (var i = 0; i < arguments.length; i++) {\\n            if (!arguments[i].length || !arguments.toString()) {\\n                return false;\\n            }\\n            if (i >= 1) {\\n                if (arguments[i].length !== arguments[i - 1].length) {\\n                    return false;\\n                }\\n            }\\n        }\\n        var zipped = [];\\n        for (var j = 0; j < arguments[0].length; j++) {\\n            var toBeZipped = [];\\n            for (var k = 0; k < arguments.length; k++) {\\n                toBeZipped.push(arguments[k][j]);\\n            }\\n            zipped.push(toBeZipped);\\n        }\\n        return zipped;\\n    }\\n\\n    function get_word_diff_ratio(s_old, s_new) {\\n        var s_old_words = s_old.split(\\' \\')\\n        var s_new_words = s_new.split(\\' \\')\\n        var s = new difflib.SequenceMatcher(null, s_old_words, s_new_words)\\n        return s.ratio()\\n    }\\n\\n    function get_list_diff(l_old, l_new){\\n        var vars_old = []\\n        var vars_new = []\\n        var diffs = difflib.ndiff(l_old, l_new)\\n        var in_question = false\\n        diffs.forEach(function(item, idx){\\n            var label = item[0]\\n            var text = item.slice(2)\\n            if (label == \\'?\\'){\\n                return\\n            }\\n\\n            else if (label == \\'-\\'){\\n                vars_old.push({\\n                    \\'text\\': text,\\n                    \\'tag\\': \\'-\\'\\n                })\\n                if (\\n                        // if something is removed from the old sentence, a \\'?\\' will be present in the next idx\\n                        ((idx < diffs.length - 1) && (diffs[idx + 1][0] == \\'?\\'))\\n                        // if NOTHING is removed from the old sentence, a \\'?\\' might still be present in 2 idxs, unless the next sentence is a - as well.\\n                     || ((idx < diffs.length - 2) && (diffs[idx + 2][0] == \\'?\\') && (diffs[idx + 1][0] != \\'-\\'))\\n                ){\\n                    in_question = true\\n                    return\\n                }\\n                // test if the sentences are substantially similar, but for some reason ndiff marked them as different.\\n                if ((idx < (diffs.length - 1)) && (diffs[idx + 1][0] == \\'+\\')){\\n                    var text_new = diffs[idx + 1].slice(2)\\n                    if (get_word_diff_ratio(text, text_new) > .8) {\\n                        in_question = true\\n                        return\\n                    }\\n                }\\n                vars_new.push({\\n                    \\'text\\': \\'\\',\\n                    \\'tag\\': \\' \\'\\n                })\\n            }\\n            else if (label == \\'+\\'){\\n                vars_new.push({\\n                    \\'text\\': text,\\n                    \\'tag\\': \\'+\\'\\n                })\\n                if (in_question){\\n                    in_question = false\\n                }\\n                else{\\n                    vars_old.push({\\n                        \\'text\\':\\'\\',\\n                        \\'tag\\': \\' \\'\\n                    })\\n                }\\n            }\\n            else {\\n                vars_old.push({\\n                    \\'text\\': text,\\n                    \\'tag\\': \\' \\'\\n                })\\n                vars_new.push({\\n                    \\'text\\': text,\\n                    \\'tag\\': \\' \\'\\n                })\\n            }\\n        })\\n        return [vars_old, vars_new]\\n    }\\n\\n    function get_word_diffs(s_old, s_new) {\\n        var s_old_words = s_old.split(\\' \\')\\n        var s_new_words = s_new.split(\\' \\')\\n        return get_list_diff(s_old_words, s_new_words)\\n    }\\n\\n    function html_compare_sentences(old_sent, new_sent) {\\n        var sents = get_word_diffs(old_sent, new_sent)\\n        old_sent = sents[0]\\n        new_sent = sents[1]\\n        var new_html = []\\n        var old_html = []\\n        var max_idx = Math.max(old_sent.length, new_sent.length)\\n        for (var idx = 0; idx < max_idx; idx++) {\\n            var w_old = old_sent[idx]\\n            var w_new = new_sent[idx]\\n            if (w_old[\\'tag\\'] == \\'-\\') {\\n                old_html.push(\\'<span class=\"deleted\">\\' + w_old[\\'text\\'] + \\'</span>\\')\\n            } else {\\n                old_html.push(w_old[\\'text\\'])\\n            }\\n            if (w_new[\\'tag\\'] == \\'+\\') {\\n                new_html.push(\\'<span class=\"added\">\\' + w_new[\\'text\\'] + \\' </span>\\')\\n            } else {\\n                new_html.push(w_new[\\'text\\'])\\n            }\\n        }\\n        return [old_html.join(\\' \\'), new_html.join(\\' \\')]\\n    }\\n\\n    var window_height = $( window ).height();\\n    String.prototype.replaceAll = function(search, replacement) {\\n        var target = this;\\n        return target.replace(new RegExp(search, \\'g\\'), replacement);\\n    };\\n    String.prototype.toTitleCase = function() {\\n        var target = this;\\n        return target.replace(/(?:^|\\\\s)\\\\w/g, function(match) {\\n            return match.toUpperCase();\\n        });\\n    };\\n    Array.prototype.remove_duplicates = function() {\\n        var arr = this;\\n        let s = new Set(arr);\\n        let it = s.values();\\n        return Array.from(it);\\n    };\\n    Array.prototype.remove_by_value = function(val) {\\n      for (var i = 0; i < this.length; i++) {\\n        if (this[i] === val) {\\n          this.splice(i, 1);\\n          i = i - 1;\\n        }\\n      }\\n      return this;\\n    };\\n\\n    // page handling\\n    class PageManager {\\n        constructor(\\n            data,\\n            textblock_dim,\\n            demo,\\n            check,\\n            doc_key,\\n            textblock_pool_min\\n        ) {\\n            this.data = data\\n            this.demo = demo\\n            this.check = check\\n            this.doc_key = doc_key\\n            // dimensions for textblock divs\\n            this.textblock_pool_min = textblock_pool_min\\n            this.textblock_dim = textblock_dim;\\n            this.start_line_id = null\\n            // z-index for dropdown needs to increase every click :/ maybe not the best implementation\\n            this.curr_dropdown_zindex = 3\\n            this._init_jsplumb()\\n            this.num_lines= 0\\n            this.node_to_arc_dict = {} // map each node to a list of arcs\\n            this.arc_to_node_dict = {} // map each arc to the nodes on either side of it\\n            this.arc_to_obj_dict = {}\\n        }\\n\\n        _init_jsplumb(){\\n            var that = this\\n            that.instance = window.jsp = jsPlumb.getInstance({\\n                ConnectionOverlays: [\\n                    [ \"Arrow\", {\\n                        location: 1,\\n                        visible:true,\\n                        width:11,\\n                        length:11,\\n                        id:\"ARROW\",\\n                    } ],\\n                ],\\n                Container: \"canvas\",\\n                Endpoint:[ \"Dot\", { radius: 3 },  ],\\n            });\\n\\n            // .. and this is the hover style.\\n            const connectorHoverStyle = {\\n                strokeWidth: 3,\\n                stroke: \"#216477\",\\n                outlineWidth: 5,\\n                outlineStroke: \"white\",\\n            }\\n            const endpointHoverStyle = {\\n                fill: \"#216477\",\\n                stroke: \"#216477\"\\n            }\\n            // the definition of source endpoints (the small blue ones)\\n            this.endpoint = {\\n                endpoint: \"Dot\",\\n                paintStyle: {\\n                    stroke: \"#7AB02C\",\\n                    fill: \"gray\",\\n                    radius: 5,\\n                    strokeWidth: 1\\n                },\\n                isDetachable: false,\\n                isSource: true,\\n                connector: [ \"Bezier\", { curviness: 50, alwaysRespectStubs: true } ],\\n                hoverPaintStyle: endpointHoverStyle,\\n                connectorHoverStyle: connectorHoverStyle,\\n            }\\n        }\\n\\n        _draw_all_connections(){\\n            var that = this\\n            // draw the connections\\n            $(this.data.arcs).each( function(i, d) {\\n                if ((d.sent_idx_x != null) && (d.sent_idx_y != null)) {\\n                    that._draw_connection(d.sent_idx_x, d.sent_idx_y, d.line_sel)\\n                }\\n            })\\n        }\\n\\n        draw_canvas(){\\n            var that = this\\n            this.versions = this.data[\\'nodes\\'].map(function(d){return d[\\'version\\']})\\n            this.x_vers = d3.min(that.versions)\\n            this.y_vers = d3.max(that.versions)\\n            this.version_mapper = {[that.x_vers]: \\'x\\', [that.y_vers] : \\'y\\'}\\n            this.add_del_redundancy = {\\'x\\': [], \\'y\\': [] }\\n            this.node_edit_action_dict = {\\'x\\': {}, \\'y\\': {}}\\n\\n            // create textblocks\\n            $(this.data.nodes).each(function (i, d) {\\n                var vers = that.version_mapper[d.version]\\n                that.create_textblock(d.sentence, vers, d.sent_idx)\\n                that.add_del_redundancy[vers].push(d.sent_idx)\\n                that.node_edit_action_dict[vers][d.sent_idx] = \\'unchanged\\'\\n            })\\n\\n            // create links between edited segments and update the PageManager\\'s classes\\n            $(this.data.arcs).each( function(i, d){\\n                if ((d.sent_idx_x != null ) && (d.sent_idx_y != null)){\\n                    var sel = that.update_node_data_with_new_connection(d.sent_idx_x, d.sent_idx_y)\\n                    d.line_sel = sel\\n                    that.add_del_redundancy[\\'x\\'].remove_by_value(d.sent_idx_x)\\n                    that.add_del_redundancy[\\'y\\'].remove_by_value(d.sent_idx_y)\\n                    that.node_edit_action_dict[\\'x\\'][d.sent_idx_x] = \\'edited-\\' + d.sent_idx_y\\n                    that.node_edit_action_dict[\\'y\\'][d.sent_idx_y] = \\'edited-\\' + d.sent_idx_x\\n                }\\n            })\\n\\n            // delete/add\\n            $(that.add_del_redundancy[\\'x\\']).each(function(i, d){\\n                $(\\'#sentence-x-\\' + d).addClass(\\'deleted\\')\\n                that.node_edit_action_dict[\\'x\\'][d] = \\'deleted\\'\\n            })\\n            $(that.add_del_redundancy[\\'y\\']).each(function(i, d){\\n                $(\\'#sentence-y-\\' + d).addClass(\\'added\\')\\n                that.node_edit_action_dict[\\'y\\'][d] = \\'added\\'\\n            })\\n\\n            // create label-boxes\\n            $(this.data.nodes).each(function (i, d) {\\n                var vers = that.version_mapper[d.version]\\n                that.create_label_block(vers, d.sent_idx, that.node_edit_action_dict[vers][d.sent_idx])\\n            })\\n            this._draw_all_connections()\\n        }\\n\\n        _get_new_connection_idx(){\\n            this.num_lines =  this.num_lines + 1\\n            return this.num_lines\\n        }\\n\\n        _draw_connection(left_id, right_id, line_selector){\\n            var left_id = \\'sentence-x-\\' + left_id\\n            var right_id = \\'sentence-y-\\' + right_id\\n            this.instance.addEndpoint(\\n                left_id,\\n                this.endpoint,\\n                { anchor: \"RightMiddle\",  uuid: left_id + \"RightMiddle\", connectionsDetachable: false, cssClass: \\'endpoint\\'}\\n            );\\n            this.instance.addEndpoint(\\n                right_id,\\n                this.endpoint,\\n                { anchor: \"LeftMiddle\", uuid: right_id + \"LeftMiddle\" , connectionsDetachable: false, cssClass: \\'endpoint\\'}\\n            );\\n            var con = this.instance.connect({\\n                uuids: [left_id + \"RightMiddle\", right_id + \"LeftMiddle\"],\\n                \\n                isDetachable: false,\\n                cssClass: line_selector + \\' line\\',\\n            })\\n            this.arc_to_obj_dict[line_selector] = con\\n            return con\\n        }\\n\\n        _get_all_text_connected_to_one_node(node_selector, other_side){\\n            var that = this\\n            var node_text = $(\\'#\\' + node_selector).attr(\\'orig-text\\')\\n            var arcs = this.node_to_arc_dict[node_selector]\\n            var all_incoming_text = arcs\\n                .map(function(d){ return that.arc_to_node_dict[d][other_side]})\\n                .sort(function( d1, d2) { return d1.split(\\'-\\')[2] - d2.split(\\'-\\')[2]})\\n                .map(function(d) {return $(\\'#\\' + d).attr(\\'orig-text\\')} )\\n\\n\\n            if (other_side == \\'y\\'){\\n                return html_compare_sentences(node_text, all_incoming_text.join(\\' \\'))[0]\\n            } else {\\n                return html_compare_sentences(all_incoming_text.join(\\' \\'), node_text)[1]\\n            }\\n        }\\n\\n        // update internal data structures\\n        update_node_data_with_new_connection(left_textblock, right_textblock){\\n            var line_selector = \\'line-\\' + this._get_new_connection_idx()\\n            // update diff text for all lines leading into a node\\n            var textblock_x_selector = \\'sentence-x-\\' + left_textblock\\n            var textblock_y_selector = \\'sentence-y-\\' + right_textblock\\n\\n            this.node_to_arc_dict[textblock_x_selector] = (this.node_to_arc_dict[textblock_x_selector] || []).concat(line_selector)\\n            this.node_to_arc_dict[textblock_y_selector] = (this.node_to_arc_dict[textblock_y_selector] || []).concat(line_selector)\\n            this.arc_to_node_dict[line_selector] = {\\'x\\':  textblock_x_selector, \\'y\\': textblock_y_selector}\\n\\n            var x_html_all = this._get_all_text_connected_to_one_node(textblock_x_selector, \\'y\\')\\n            $(\\'#\\' + textblock_x_selector).html(x_html_all)\\n            var y_html_all = this._get_all_text_connected_to_one_node(textblock_y_selector, \\'x\\')\\n            $(\\'#\\' + textblock_y_selector).html(y_html_all)\\n\\n            return line_selector\\n        }\\n\\n        create_textblock(selected_text, version, block_id){\\n            var that = this\\n            // create textblock element for the righthand side\\n            var textblock_pool = $(\\'.textblock_pool_version_\\' + version)\\n\\n            // create textblock div\\n            var textblock_row = document.createElement(\\'div\\')\\n            $(textblock_row).addClass(\\'row\\')\\n\\n            //\\n            var textblock_div = document.createElement(\\'div\\')\\n            $(textblock_div)\\n                .addClass(\\'textblock\\') //  window jtk-node\\')\\n                .attr(\\'doc_id\\', that.doc_key)\\n                .attr(\\'id\\', \\'sentence-\\' + version + \\'-\\' + block_id)\\n                .attr(\\'orig-text\\', selected_text)\\n                .attr(\\'version\\', version)\\n                .attr(\\'orig-html\\', \\'<span class=\"textblock_span\">\\' + selected_text + \\'</span>\\')\\n                .attr(\\'html-all\\', \\'<span class=\"textblock_span\">\\' + selected_text + \\'</span>\\')\\n\\n            var textblock_span = document.createElement(\\'span\\')\\n            $(textblock_span).addClass(\\'textblock_span\\')\\n            textblock_span.textContent = selected_text\\n\\n            // append elements to the textblock\\n            $(textblock_div).append(textblock_span)\\n\\n            // handle line-drawing\\n            if (! this.demo){\\n                $(textblock_div).bind(\\'contextmenu\\', function(e) { e.preventDefault(); })\\n            }\\n\\n            // append textblock to the pool of textblocks\\n            $(textblock_row).append(textblock_div)\\n            $(textblock_row).appendTo(textblock_pool)\\n\\n            // dynamically resize the height of the textblock pool\\n            var multiplier = 2\\n            var new_height = d3.sum(\\n                textblock_pool.find(\\'.textblock\\').map(function(i, d){\\n                    return $(d).height() + multiplier * (\\n                        that.textblock_dim.margin + that.textblock_dim.border + that.textblock_dim.padding\\n                    )\\n            }))\\n           $(textblock_pool).css(\\'height\\', d3.max([this.textblock_pool_min, new_height]))\\n        }\\n\\n        create_label_block(version, block_id, edit_type) {\\n            var that = this\\n            var label_pool = $(\\'.labelblock_pool_\\' + version)\\n\\n            // create textblock div\\n            var label_row = document.createElement(\\'div\\')\\n            $(label_row).addClass(\\'row\\')\\n\\n            //\\n            var label_div = document.createElement(\\'div\\')\\n            $(label_div)\\n                .addClass(\\'labelblock\\')\\n                .attr(\\'doc_id\\', that.doc_key)\\n                .attr(\\'id\\', \\'label-\\' + version + \\'-\\' + block_id)\\n\\n            if ((edit_type.split(\\'-\\')[0] == \\'edited\\' ) & (version == \\'y\\')){\\n                $(label_div)\\n                    .addClass(\\'hidden\\')\\n            }\\n\\n\\n            var label_span = document.createElement(\\'span\\')\\n            $(label_span).addClass(\\'label_span\\')\\n\\n            // append elements to the textblock\\n            $(label_div).append(label_span)\\n\\n            var header = \\'\\'\\n            if (edit_type == \\'added\\'){\\n                header = \\'Addition Intention\\'\\n            } else if (edit_type.split(\\'-\\')[0] == \\'edited\\'){\\n                header = \\'Edit Intention\\'\\n            } else if (edit_type == \\'deleted\\'){\\n                header = \\'Deletion Intention\\'\\n            }\\n\\n            var edit_html =`\\n                <select class=\"edit-intention\">\\n                    <option value=\"\" selected disabled></option>\\n                    <option value=\"\" disabled>Clarification</option>\\n                    <option value=\"\">&#160;&#160;&#160;Simplification</option>\\n                    <option value=\"\">&#160;&#160;&#160;Define term</option>\\n                    <option value=\"\" disabled>Copy Editing</option>\\n                    <option value=\"\">&#160;&#160;&#160;Style Changes</option>\\n                    <option value=\"\">&#160;&#160;&#160;Syntax Correction</option>\\n                    <option value=\"\" disabled>Elaboration</option>\\n                    <option value=\"\">&#160;&#160;&#160;Background</option>\\n                    <option value=\"\">&#160;&#160;&#160;Analysis</option>\\n                    <option value=\"\" disabled>Fact Update</option>\\n                    <option value=\"\">&#160;&#160;&#160;Event Update</option>\\n                    <option value=\"\">&#160;&#160;&#160;Quote Update</option>\\n                    <option value=\"\">&#160;&#160;&#160;Document Update</option>\\n                    <option value=\"\" disabled>Verification</option>\\n                    <option value=\"\">&#160;&#160;&#160;Correction</option>\\n                    <option value=\"\">&#160;&#160;&#160;Additional Sourcing</option>\\n                </select>\\n            `\\n            $(label_div).html(\\'<p>\\' + header + \\'</p>\\' + edit_html)\\n\\n            $(label_row).append(label_div)\\n            $(label_row).appendTo(label_pool)\\n            $(label_div).draggable()\\n\\n            var textblock_row = $(\\'#sentence-\\' + version + \\'-\\' + block_id).parent(\\'.row\\')\\n            var textblock_height = $(textblock_row).height()\\n            var this_height = $(label_row).height()\\n            var height = d3.max([textblock_height, this_height])\\n            // append textblock to the pool of textblocks\\n            $(textblock_row).height(height)\\n            $(label_row).height(height)\\n        }\\n\\n        _post_drawing_page(){\\n            const this_pagemanager = this\\n            $(\\'.textblock\\')\\n                .on(\\'mouseover\\', function(){\\n                    var this_textblock = this\\n                    $(this_textblock).addClass(\\'shaded\\')\\n\\n                    // update all the nodes on the other side as this node.\\n                    var node_arcs = this_pagemanager.node_to_arc_dict[this.id] || []\\n                    var version = $(this_textblock).attr(\\'version\\')\\n                    var version_swap = {\\'x\\':\\'y\\', \\'y\\':\\'x\\'}\\n                    var other_version = version_swap[version]\\n                    node_arcs.forEach(function(d){\\n                        // shade the arc itself\\n                        $(\\'.\\' + d).addClass(\\'shaded\\')\\n                        // get other textblock and the html that it should update to.\\n                        var other_textblock_sel = this_pagemanager.arc_to_node_dict[d][other_version]\\n                        // shade the other textblock that the arc connects\\n                        $(\\'#\\' + other_textblock_sel).addClass(\\'shaded\\')\\n                    })\\n                })\\n                .on(\\'mouseout\\', function(d) {\\n                    $(\\'.connection\\').removeClass(\\'shaded\\')\\n                    $(\\'.textblock\\').removeClass(\\'shaded\\')\\n                })\\n\\n        }\\n    }\\n\\n    textblock_dims = {\\n\\t\\t\\'margin\\': 5,\\n\\t\\t\\'border\\': 2,\\n\\t\\t\\'padding\\': 10\\n\\t}\\n\\n\\ttextblock_pool_min_height = 200\\n\\n    jsPlumb.ready(function () {\\n        var data = JSON.parse(\\'{\"arcs\": [{\"avg_sentence_distance_x\": NaN, \"avg_sentence_distance_y\": NaN, \"sent_idx_x\": NaN, \"sent_idx_y\": 1.0, \"version_x\": 0, \"version_y\": 1}, {\"avg_sentence_distance_x\": NaN, \"avg_sentence_distance_y\": NaN, \"sent_idx_x\": 2.0, \"sent_idx_y\": NaN, \"version_x\": 0, \"version_y\": 1}, {\"avg_sentence_distance_x\": NaN, \"avg_sentence_distance_y\": NaN, \"sent_idx_x\": NaN, \"sent_idx_y\": 2.0, \"version_x\": 0, \"version_y\": 1}, {\"avg_sentence_distance_x\": NaN, \"avg_sentence_distance_y\": NaN, \"sent_idx_x\": NaN, \"sent_idx_y\": 5.0, \"version_x\": 0, \"version_y\": 1}, {\"avg_sentence_distance_x\": 0.0, \"avg_sentence_distance_y\": 0.0, \"sent_idx_x\": 6.0, \"sent_idx_y\": 7.0, \"version_x\": 0, \"version_y\": 1}, {\"avg_sentence_distance_x\": NaN, \"avg_sentence_distance_y\": NaN, \"sent_idx_x\": 3.0, \"sent_idx_y\": NaN, \"version_x\": 0, \"version_y\": 1}, {\"avg_sentence_distance_x\": 0.4028614298221585, \"avg_sentence_distance_y\": 0.4028614298221584, \"sent_idx_x\": 0.0, \"sent_idx_y\": 4.0, \"version_x\": 0, \"version_y\": 1}, {\"avg_sentence_distance_x\": NaN, \"avg_sentence_distance_y\": NaN, \"sent_idx_x\": 4.0, \"sent_idx_y\": NaN, \"version_x\": 0, \"version_y\": 1}, {\"avg_sentence_distance_x\": NaN, \"avg_sentence_distance_y\": NaN, \"sent_idx_x\": NaN, \"sent_idx_y\": 6.0, \"version_x\": 0, \"version_y\": 1}, {\"avg_sentence_distance_x\": 0.4325973263835057, \"avg_sentence_distance_y\": 0.4297093500544741, \"sent_idx_x\": 1.0, \"sent_idx_y\": 0.0, \"version_x\": 0, \"version_y\": 1}], \"nodes\": [{\"sent_idx\": 0, \"sentence\": \"MOSCOW -- Malaysia Airlines reported Thursday it had lost contact with a flight bound from Amsterdam to Kuala Lumpur over Ukraine.\", \"version\": 0}, {\"sent_idx\": 1, \"sentence\": \"The Interfax news agency said the airliner, with 295 people on board, crashed in Ukraine near the Russian border and that it may have been shot down.\", \"version\": 0}, {\"sent_idx\": 2, \"sentence\": \"The Interfax report said the plane came down 20 miles short of entering Russian airspace.\", \"version\": 0}, {\"sent_idx\": 3, \"sentence\": \"\\\\u0027\\\\u0027Malaysia Airlines has lost contact of MH17 from Amsterdam,\\\\u0027\\\\u0027 a Malaysia Airlines Twitter post said.\", \"version\": 0}, {\"sent_idx\": 4, \"sentence\": \"\\\\u0027\\\\u0027The last known position was over Ukrainian airspace.\", \"version\": 0}, {\"sent_idx\": 5, \"sentence\": \"More details to follow.\", \"version\": 0}, {\"sent_idx\": 6, \"sentence\": \"\\\\u0027\\\\u0027\", \"version\": 0}, {\"sent_idx\": 0, \"sentence\": \"MOSCOW -- A Malaysia Airlines flight with nearly 300 people aboard crashed over eastern Ukraine near the Russian border on Thursday, the Ukraine government and a regional European aviation official reported, and the Interfax news agency said it had been shot down.\", \"version\": 1}, {\"sent_idx\": 1, \"sentence\": \"Ukraine\\\\u0027s president, Petro O. Poroshenko, said in a statement that he was calling for an immediate investigation of the crashed flight, a Boeing 777.\", \"version\": 1}, {\"sent_idx\": 2, \"sentence\": \"He did not rule out that it might have been shot down.\", \"version\": 1}, {\"sent_idx\": 3, \"sentence\": \"Eastern Ukraine has been roiled for months by a violent pro-Russian political separatist movement.\", \"version\": 1}, {\"sent_idx\": 4, \"sentence\": \"Malaysia Airlines said it had lost contact with a flight, MH17, from Amsterdam to Kuala Lumpur over Ukraine but offered no further details immediately.\", \"version\": 1}, {\"sent_idx\": 5, \"sentence\": \"Hishammuddin Hussein, Malaysia\\\\u0027s defense minister, responded to reports that the aircraft had disappeared and might have been shot down by posting a series of terse messages on Twitter: \\\\u0027\\\\u0027Monitoring this closely,\\\\u0027\\\\u0027 said one.\", \"version\": 1}, {\"sent_idx\": 6, \"sentence\": \"In another, he referred to the ministry of defense in saying that, \\\\u0027\\\\u0027I have directed MINDEF to get confirmation.\", \"version\": 1}, {\"sent_idx\": 7, \"sentence\": \"\\\\u0027\\\\u0027\", \"version\": 1}]}\\'.replaceAll(\\'NaN\\', \\'null\\'))\\n        \\n        pm = new PageManager(data, textblock_dims, false, false, \"nyt-810619-0-1\", textblock_pool_min_height)\\n        pm.draw_canvas()\\n        pm._post_drawing_page()\\n    })\\n\\n    //\\n    // mturk\\n    // handle data\\n    class SubmitHandler{\\n        constructor() {\\n            turkSetAssignmentID();\\n            this.GENERIC_THANKS_MESSAGE = \\'Thank you so much for your help with our task!\\'\\n        }\\n\\n        get_data_from_dom() {\\n            this.output = []\\n            var ids = $(\\'.labelblock\\').map(function(i, d){return $(d).attr(\\'id\\')})\\n            var versions = $(ids).map(function(i, d){return d.split(\\'-\\')[1]})\\n            var sent_idxs = $(ids).map(function(i, d){return d.split(\\'-\\')[2]})\\n            var labels = $(\\'.labelblock\\').find(\":selected\").map(function(i, d){ return $(d).text()})\\n            var is_hidden = $(\\'.labelblock\\').map(function(i, d){return $(d).hasClass(\\'hidden\\')})\\n            for (var i = 0; i < versions.length; i++){\\n                var datum = {}\\n                datum[\\'version\\'] = versions[i]\\n                datum[\\'sent_idx\\'] = sent_idxs[i]\\n                var action = pm.node_edit_action_dict[versions[i]][sent_idxs[i]]\\n                if (action.split(\\'-\\')[0] == \\'edited\\'){\\n                    datum[\\'action\\'] = \\'edited\\'\\n                    datum[\\'other_version_sent_idx\\'] = action.split(\\'-\\')[1]\\n                } else {\\n                    datum[\\'action\\'] = action\\n                }\\n                datum[\\'is_hidden\\'] = is_hidden[i]\\n                datum[\\'label\\'] = labels[i]\\n                this.output.push(datum)\\n            }\\n        }\\n\\n        gather_and_submit_data(submit_button, submit_click_event) {\\n            this.submit_button = submit_button\\n            this.submit_click_event = submit_click_event\\n            this.get_data_from_dom()\\n            this.first_confirm() // -> second_confirm -> third_confirm -> submit_data\\n        }\\n\\n        first_confirm(){\\n            var that = this\\n            // First question\\n            var non_hidden_data = that.output.filter(function(d, i){ return d[\\'is_hidden\\'] == false })\\n            var uncompleted = non_hidden_data.map(function(d){return d[\\'label\\'] == \\'\\'})\\n            if (d3.sum(uncompleted) > 0){\\n                alert(\\'You have at least one unfilled intention-box. Please check and resubmit!!\\')\\n            } else {\\n                that.second_confirm()\\n            }\\n        }\\n\\n        second_confirm(){\\n            var that = this\\n            setTimeout(function() {\\n                alertify.confirm(\\n                    \"Great! Your submission is valid. Do you want to recheck your answers?\"\\n                ).set(\\'header\\', \\'<em>Looks good! Ready to Submit?</em>\\')\\n                    .set(\\'labels\\', {\\n                        ok: \"Continue, submit!\",\\n                        cancel: \"Let me recheck...\"\\n                    })\\n                    .set(\\'onok\\', function () {\\n                        alertify.success(\\'Ok! Submitting...\\')\\n                        alertify.success(that.GENERIC_THANKS_MESSAGE)\\n                        that.submit_data()\\n                    })\\n                    .set(\\'oncancel\\', function () {\\n                        alertify.error(\\'Thanks for being diligent! Please recheck and resubmit!\\')\\n                    })\\n            }, 700)\\n        }\\n        submit_data(){\\n            \\n            // submit mturk\\n            $(\\'#data\\').attr(\\'value\\', JSON.stringify(this.output))\\n            $(this.submit_button).trigger(this.submit_click_event.type);\\n            \\n        }\\n    }\\n\\n    // submit button click\\n    var clicked=false\\n    $(\\'#submitButton\\').on(\\'click\\', function(submit_click_event){\\n        var sh = new SubmitHandler()\\n        var submit_button = this\\n        submit_click_event.preventDefault();\\n        sh.gather_and_submit_data(submit_button, submit_click_event);\\n    })\\n\\n</script>\\n</body>\\n</html>\\n<!-- YOUR HTML ENDS -->\\n\\n\\n]]>\\n</HTMLContent>\\n<FrameHeight>600</FrameHeight>\\n</HTMLQuestion>\\n',\n",
       "   'Keywords': 'text, sorting, highlighting',\n",
       "   'HITStatus': 'Assignable',\n",
       "   'MaxAssignments': 3,\n",
       "   'Reward': '0.30',\n",
       "   'AutoApprovalDelayInSeconds': 28800,\n",
       "   'Expiration': datetime.datetime(2022, 10, 28, 17, 58, 47, tzinfo=tzlocal()),\n",
       "   'AssignmentDurationInSeconds': 6000,\n",
       "   'QualificationRequirements': [{'QualificationTypeId': '000000000000000000L0',\n",
       "     'Comparator': 'GreaterThanOrEqualTo',\n",
       "     'IntegerValues': [80],\n",
       "     'RequiredToPreview': False,\n",
       "     'ActionsGuarded': 'Accept'},\n",
       "    {'QualificationTypeId': '00000000000000000071',\n",
       "     'Comparator': 'EqualTo',\n",
       "     'LocaleValues': [{'Country': 'US'}],\n",
       "     'RequiredToPreview': True,\n",
       "     'ActionsGuarded': 'PreviewAndAccept'},\n",
       "    {'QualificationTypeId': '000000000000000000L0',\n",
       "     'Comparator': 'GreaterThanOrEqualTo',\n",
       "     'IntegerValues': [90],\n",
       "     'RequiredToPreview': False,\n",
       "     'ActionsGuarded': 'Accept'}],\n",
       "   'HITReviewStatus': 'NotReviewed',\n",
       "   'NumberOfAssignmentsPending': 0,\n",
       "   'NumberOfAssignmentsAvailable': 3,\n",
       "   'NumberOfAssignmentsCompleted': 0},\n",
       "  'ResponseMetadata': {'RequestId': '797306bf-f41d-4b5e-a020-abf9b6e0b514',\n",
       "   'HTTPStatusCode': 200,\n",
       "   'HTTPHeaders': {'x-amzn-requestid': '797306bf-f41d-4b5e-a020-abf9b6e0b514',\n",
       "    'content-type': 'application/x-amz-json-1.1',\n",
       "    'content-length': '51256',\n",
       "    'date': 'Wed, 26 Oct 2022 21:58:47 GMT'},\n",
       "   'RetryAttempts': 0}},\n",
       " '33IXYHIZC8SR0UDSSBRAOF0DE5T2ED')"
      ]
     },
     "execution_count": 175,
     "metadata": {},
     "output_type": "execute_result"
    }
   ],
   "source": [
    "mj.launch_HIT(\n",
    "    mturk_handler=mturk, \n",
    "    question_html=output['html'],\n",
    "    title='Edit-Intentions Task v2',\n",
    "    description='Label the intentions behind each edit-action from a dropdown menu.'\n",
    ")"
   ]
  },
  {
   "cell_type": "code",
   "execution_count": null,
   "metadata": {},
   "outputs": [],
   "source": []
  },
  {
   "cell_type": "code",
   "execution_count": null,
   "metadata": {},
   "outputs": [],
   "source": []
  },
  {
   "cell_type": "code",
   "execution_count": null,
   "metadata": {},
   "outputs": [],
   "source": []
  },
  {
   "cell_type": "code",
   "execution_count": null,
   "metadata": {},
   "outputs": [],
   "source": []
  },
  {
   "cell_type": "code",
   "execution_count": null,
   "metadata": {},
   "outputs": [],
   "source": []
  },
  {
   "cell_type": "code",
   "execution_count": null,
   "metadata": {},
   "outputs": [],
   "source": []
  }
 ],
 "metadata": {
  "hide_input": false,
  "kernelspec": {
   "display_name": "Python 3",
   "language": "python",
   "name": "python3"
  },
  "language_info": {
   "codemirror_mode": {
    "name": "ipython",
    "version": 3
   },
   "file_extension": ".py",
   "mimetype": "text/x-python",
   "name": "python",
   "nbconvert_exporter": "python",
   "pygments_lexer": "ipython3",
   "version": "3.7.6"
  }
 },
 "nbformat": 4,
 "nbformat_minor": 4
}
