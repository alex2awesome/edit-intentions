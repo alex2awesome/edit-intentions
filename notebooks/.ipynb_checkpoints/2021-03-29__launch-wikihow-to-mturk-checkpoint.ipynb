{
 "cells": [
  {
   "cell_type": "code",
   "execution_count": 5,
   "metadata": {},
   "outputs": [],
   "source": [
    "from tqdm.auto import tqdm\n",
    "import boto3\n",
    "from boto.mturk.connection import MTurkConnection\n",
    "from boto.mturk.question import HTMLQuestion\n",
    "from boto.mturk.question import ExternalQuestion\n",
    "\n",
    "\n",
    "from IPython.display import display, HTML\n",
    "from boto.mturk.qualification import (\n",
    "    Qualifications,\n",
    "    PercentAssignmentsApprovedRequirement, \n",
    "    NumberHitsApprovedRequirement\n",
    ")\n",
    "\n",
    "import sys\n",
    "sys.path.insert(0, '../')\n",
    "from mturk import mturk_handler as um"
   ]
  },
  {
   "cell_type": "markdown",
   "metadata": {},
   "source": [
    "python3 make_mturk_from_json.py \\\n",
    "  --data_jsonl_files \"json_files/qualification.jsonl\" \\\n",
    "  --qual_jsonl_files \"json_files/qualification.jsonl\" \\\n",
    "  --out_dir \"html_files/sandbox_test_1\" \\\n",
    "  --num_total_hits 1 \\\n",
    "  --max_word_per_sentence 20 \\\n",
    "  --img_root \"https://multimodal-sequencing-images-test-1.s3-us-west-1.amazonaws.com/images/\" "
   ]
  },
  {
   "cell_type": "markdown",
   "metadata": {},
   "source": [
    "# Make JSON for HTML"
   ]
  },
  {
   "cell_type": "code",
   "execution_count": null,
   "metadata": {},
   "outputs": [],
   "source": [
    "import json\n",
    "wiki_raw = []\n",
    "for line in open('../data/wiki-unprocessed-demo.json'):\n",
    "    wiki_raw.append(json.loads(line))\n",
    "\n",
    "steps_to_sample = np.random.choice(range(30), 10, replace=False)\n",
    "\n",
    "steps_to_sample\n",
    "\n",
    "np.argsort(steps_to_sample)\n",
    "\n",
    "steps_to_sample"
   ]
  },
  {
   "cell_type": "code",
   "execution_count": 108,
   "metadata": {},
   "outputs": [],
   "source": [
    "from mturk import make_json_for_mturk as pmj"
   ]
  },
  {
   "cell_type": "code",
   "execution_count": 111,
   "metadata": {},
   "outputs": [],
   "source": [
    "pmj_parser = pmj.get_parser()"
   ]
  },
  {
   "cell_type": "code",
   "execution_count": 121,
   "metadata": {},
   "outputs": [],
   "source": [
    "pmj_args = pmj_parser.parse_args([\n",
    "    '--n_rows_to_sample', '10',\n",
    "    '--data_path', '../mturk/raw_files',\n",
    "    '--output_dir', '../mturk/json_files/',\n",
    "])"
   ]
  },
  {
   "cell_type": "code",
   "execution_count": 122,
   "metadata": {},
   "outputs": [
    {
     "data": {
      "text/plain": [
       "Namespace(data_path='../mturk/raw_files', n_rows_to_sample=10, n_steps_to_sample=None, output_dir='../mturk/json_files/', output_fn=None, seed=42)"
      ]
     },
     "execution_count": 122,
     "metadata": {},
     "output_type": "execute_result"
    }
   ],
   "source": [
    "reload(pmj)\n",
    "pmj_args"
   ]
  },
  {
   "cell_type": "code",
   "execution_count": 123,
   "metadata": {},
   "outputs": [],
   "source": [
    "pmj.main(pmj_args)"
   ]
  },
  {
   "cell_type": "code",
   "execution_count": null,
   "metadata": {},
   "outputs": [],
   "source": []
  },
  {
   "cell_type": "code",
   "execution_count": null,
   "metadata": {},
   "outputs": [],
   "source": []
  },
  {
   "cell_type": "code",
   "execution_count": null,
   "metadata": {},
   "outputs": [],
   "source": []
  },
  {
   "cell_type": "markdown",
   "metadata": {},
   "source": [
    "# Make file from template"
   ]
  },
  {
   "cell_type": "code",
   "execution_count": 24,
   "metadata": {},
   "outputs": [],
   "source": [
    "from mturk import make_mturk_from_json as mj"
   ]
  },
  {
   "cell_type": "code",
   "execution_count": 28,
   "metadata": {},
   "outputs": [],
   "source": [
    "from importlib import reload"
   ]
  },
  {
   "cell_type": "code",
   "execution_count": 167,
   "metadata": {},
   "outputs": [
    {
     "data": {
      "text/plain": [
       "<module 'mturk.make_mturk_from_json' from '../mturk/make_mturk_from_json.py'>"
      ]
     },
     "execution_count": 167,
     "metadata": {},
     "output_type": "execute_result"
    }
   ],
   "source": [
    "reload(mj)"
   ]
  },
  {
   "cell_type": "code",
   "execution_count": 168,
   "metadata": {},
   "outputs": [],
   "source": [
    "parser = mj.get_parser()"
   ]
  },
  {
   "cell_type": "code",
   "execution_count": 169,
   "metadata": {},
   "outputs": [],
   "source": [
    "args = parser.parse_args(args=[\n",
    "    '--data_jsonl_files', '../mturk/json_files/wikihow-sample-2.jsonl', \n",
    "    '--qual_jsonl_files', \"../mturk/json_files/wikihow-sample-2.jsonl\",\n",
    "    '--img_root', \"https://storage.cloud.google.com/usc-data/wikihow/\",    \n",
    "    '--num_total_hits', '1', \n",
    "    '--max_word_per_sentence', '20',\n",
    "    '--template_folder', '../mturk/templates',\n",
    "    ## \n",
    "    '--title', 'Sort some steps!',\n",
    "    '--description', 'Drag instructions the order you think they should be completed.'\n",
    "])"
   ]
  },
  {
   "cell_type": "code",
   "execution_count": 135,
   "metadata": {
    "scrolled": true
   },
   "outputs": [
    {
     "name": "stdout",
     "output_type": "stream",
     "text": [
      "Folder: html_files exists, overwrite (y/n)? y\n"
     ]
    }
   ],
   "source": [
    "html_output = mj.main(args=args)"
   ]
  },
  {
   "cell_type": "code",
   "execution_count": 143,
   "metadata": {},
   "outputs": [],
   "source": [
    "html_str = html_output[0]['html']"
   ]
  },
  {
   "cell_type": "code",
   "execution_count": 140,
   "metadata": {},
   "outputs": [
    {
     "data": {
      "text/plain": [
       "Namespace(HIT_lifetime=None, assignment_autoapproval=None, assignment_duration=None, data_jsonl_files=['../mturk/json_files/wikihow-sample-2.jsonl'], description=None, img_root='https://storage.cloud.google.com/usc-data/wikihow/', launch_HITs=False, max_assignments=None, max_word_per_sentence=20, mix_modality=False, mix_task=False, mturk_env='sandbox', num_gene_per_hit=4, num_items_per_sample=5, num_qual_per_hit=1, num_samples_per_hit=5, num_total_hits=1, out_dir='html_files', qual_jsonl_files=['../mturk/json_files/wikihow-sample-2.jsonl'], reward=None, seed=42, template_folder='../mturk/templates', title=None)"
      ]
     },
     "execution_count": 140,
     "metadata": {},
     "output_type": "execute_result"
    }
   ],
   "source": [
    "args"
   ]
  },
  {
   "cell_type": "code",
   "execution_count": 141,
   "metadata": {},
   "outputs": [
    {
     "data": {
      "text/html": [
       "<div>\n",
       "<style scoped>\n",
       "    .dataframe tbody tr th:only-of-type {\n",
       "        vertical-align: middle;\n",
       "    }\n",
       "\n",
       "    .dataframe tbody tr th {\n",
       "        vertical-align: top;\n",
       "    }\n",
       "\n",
       "    .dataframe thead th {\n",
       "        text-align: right;\n",
       "    }\n",
       "</style>\n",
       "<table border=\"1\" class=\"dataframe\">\n",
       "  <thead>\n",
       "    <tr style=\"text-align: right;\">\n",
       "      <th></th>\n",
       "      <th>label</th>\n",
       "      <th>html</th>\n",
       "    </tr>\n",
       "  </thead>\n",
       "  <tbody>\n",
       "    <tr>\n",
       "      <th>0</th>\n",
       "      <td>task-1-multimodal</td>\n",
       "      <td>&lt;HTMLQuestion xmlns=\"http://mechanicalturk.ama...</td>\n",
       "    </tr>\n",
       "    <tr>\n",
       "      <th>1</th>\n",
       "      <td>task-1-unimodal</td>\n",
       "      <td>&lt;HTMLQuestion xmlns=\"http://mechanicalturk.ama...</td>\n",
       "    </tr>\n",
       "  </tbody>\n",
       "</table>\n",
       "</div>"
      ],
      "text/plain": [
       "               label                                               html\n",
       "0  task-1-multimodal  <HTMLQuestion xmlns=\"http://mechanicalturk.ama...\n",
       "1    task-1-unimodal  <HTMLQuestion xmlns=\"http://mechanicalturk.ama..."
      ]
     },
     "execution_count": 141,
     "metadata": {},
     "output_type": "execute_result"
    }
   ],
   "source": [
    "pd.DataFrame(html_output)"
   ]
  },
  {
   "cell_type": "code",
   "execution_count": 92,
   "metadata": {},
   "outputs": [],
   "source": [
    "import numpy as np \n",
    "from IPython.display import display, HTML"
   ]
  },
  {
   "cell_type": "code",
   "execution_count": 142,
   "metadata": {},
   "outputs": [],
   "source": [
    "html = HTML(html_output[0]['html'])"
   ]
  },
  {
   "cell_type": "markdown",
   "metadata": {},
   "source": [
    "# Launch to MTurk"
   ]
  },
  {
   "cell_type": "code",
   "execution_count": 170,
   "metadata": {},
   "outputs": [],
   "source": [
    "mturk = um.MTurkHandler(environment='sandbox')"
   ]
  },
  {
   "cell_type": "code",
   "execution_count": 171,
   "metadata": {},
   "outputs": [
    {
     "data": {
      "text/plain": [
       "Namespace(HIT_lifetime=None, assignment_autoapproval=None, assignment_duration=None, data_jsonl_files=['../mturk/json_files/wikihow-sample-2.jsonl'], description='Drag instructions the order you think they should be completed.', img_root='https://storage.cloud.google.com/usc-data/wikihow/', keywords=None, launch_HITs=False, max_assignments=None, max_word_per_sentence=20, mix_modality=False, mix_task=False, mturk_env='sandbox', num_items_per_sample=5, num_qual_per_hit=1, num_samples_per_hit=5, num_total_hits=1, out_dir='html_files', qual_jsonl_files=['../mturk/json_files/wikihow-sample-2.jsonl'], reward=None, seed=42, template_folder='../mturk/templates', title='Sort some steps!')"
      ]
     },
     "execution_count": 171,
     "metadata": {},
     "output_type": "execute_result"
    }
   ],
   "source": [
    "args"
   ]
  },
  {
   "cell_type": "code",
   "execution_count": 172,
   "metadata": {},
   "outputs": [
    {
     "data": {
      "text/plain": [
       "<module 'mturk.make_mturk_from_json' from '../mturk/make_mturk_from_json.py'>"
      ]
     },
     "execution_count": 172,
     "metadata": {},
     "output_type": "execute_result"
    }
   ],
   "source": [
    "reload(mj)"
   ]
  },
  {
   "cell_type": "code",
   "execution_count": 173,
   "metadata": {},
   "outputs": [
    {
     "data": {
      "text/plain": [
       "{'HIT': {'HITId': '371DNNCG57C4BSXEYNP6XSDHUAU8TF',\n",
       "  'HITTypeId': '36I764H9FAUMG98TZMFCASJTGRPVBB',\n",
       "  'HITGroupId': '3QVO2PZ6PTIBQA2520QWU8EBB09QBK',\n",
       "  'CreationTime': datetime.datetime(2021, 3, 30, 15, 42, 14, tzinfo=tzlocal()),\n",
       "  'Title': 'Sort some steps!',\n",
       "  'Description': 'Drag instructions the order you think they should be completed.',\n",
       "  'Question': '<HTMLQuestion xmlns=\"http://mechanicalturk.amazonaws.com/AWSMechanicalTurkDataSchemas/2011-11-11/HTMLQuestion.xsd\">\\n<HTMLContent><![CDATA[\\n\\n<!-- YOUR HTML BEGINS -->\\n<!doctype html>\\n<link rel=\"stylesheet\" href=\"https://maxcdn.bootstrapcdn.com/bootstrap/4.0.0/css/bootstrap.min.css\">\\n<link rel=\"stylesheet\" href=\"https://code.jquery.com/ui/1.12.1/themes/base/jquery-ui.css\">\\n<style type=\"text/css\">\\nbody {\\n    margin: 25px !important;\\n}\\n\\n\\n.hidden {\\n    transition: opacity 1s ease-out;\\n    opacity: 0;\\n    height: 0;\\n    overflow: hidden;\\n}\\n/*.visible {\\n    opacity: 1;\\n    height: auto;\\n}\\n*/\\n.highlighted {\\n\\tbackground-color: yellow;\\n}\\n\\n.droppable {\\n\\twidth: 100%;\\n\\t/*height: 150px; */\\n\\tpadding: 0.5em;\\n\\tfloat: left; \\n\\tmargin: 20px;\\n    border-radius: 5px;\\n}\\n\\n.textblock {\\n    width: 100%;\\n    border-radius: 10px;\\n    z-index: 2;\\n    /*padding: 5em;*/\\n    display: inline-block;\\n    padding: 0.5em;\\n    margin: 10px;\\n    /*  */\\n    background: rgba(154, 154, 150, 0.34);\\n    border: 1px solid Black;\\n}\\n\\n.step-1 {\\n\\tbackground: rgba(42, 127, 142, 0.8);\\n}\\n\\n.step-2 {\\n\\tbackground: rgba(200, 53, 53, 0.8);\\n}\\n\\n.step-3 {\\n\\tbackground: rgba(206, 194, 85, 0.75);\\n}\\n\\n.step-4 {\\n\\tbackground: rgba(104, 231, 58, 0.86);\\n}\\n\\n.step-5 {\\n\\tbackground: rgba(228, 72, 239, 0.84);\\n}\\n\\nimg {\\n    max-width:100%;\\n    max-height:100%;\\n    margin: 3px;\\n    border-radius: 10px;\\n}\\n\\n\\n.cancel_highlight{\\n    font-size: 10pt;\\n    cursor: pointer;\\n}\\n\\n.cancel_highlight:hover {\\n  color: hotpink;\\n}\\n\\n\\n</style>\\n\\n<script src=\"https://code.jquery.com/jquery-3.3.1.min.js\" crossorigin=\"anonymous\"></script>\\n<script src=\"https://cdnjs.cloudflare.com/ajax/libs/popper.js/1.12.9/umd/popper.min.js\"></script>\\n<script src=\"https://maxcdn.bootstrapcdn.com/bootstrap/4.0.0/js/bootstrap.min.js\"></script>\\n<script src=\"https://d3js.org/d3.v5.min.js\"></script>\\n<script src=\"https://code.jquery.com/ui/1.12.1/jquery-ui.js\"></script>\\n<body>\\n<h2><u>Sequence the Events:</u></h2>\\n\\nThe goal of this HIT: below  are  5  sets \\nof initially <u>randomly ordered events</u>, extracted from\\nseveral steps of a visual instrunctional manual. <b>We request that you put them into the proper order</b>\\nthat you think they should occur (or need to be performed in). We ask you to do following two things:\\n\\n<ol>\\n    <li><b><u>Order the blocks:</u></b> Drag each block <b>in the <u>first</u> row</b> into its appropriate slot <b>in the <u>second</u> row</b>.</li>\\n    <li>(Optionally) Highlight the words (or phrases) of the text you relied on to infer the proper order. Simply select the words with your cursor.</li>\\n</ol>\\n\\n<hr>\\n\\n    \\n    <h3><u>Set 1</u></h3>\\n    <div class=\"draggable_container\">\\n        <div class=\"row annotation hover\"> <!-- justify-content-center\">-->\\n              <div class=\"col-10\">\\n                  <div class=\"textblock_pool\" doc_id=\"18151\">\\n                      \\n                        <div class=\"col-2 textblock draggable-group-1\" doc_id=\"18151\" block_id=\"0\">\\n                            \\n                                <img src=\"https://storage.cloud.google.com/usc-data/wikihow/assets-1/www.wikihow.com/images/thumb/8/8f/Clean-Cast-Aluminum-Step-8-Version-2.jpg/v4-460px-Clean-Cast-Aluminum-Step-8-Version-2.jpg\">\\n                            \\n                            <span class=\"textblock_span\" orig_html=\"<b>Clean a cast aluminum pan right after it has been used.<b><br>Clean a cast aluminum pan right after it has been\" curr_html=\"<b>Clean a cast aluminum pan right after it has been used.<b><br>Clean a cast aluminum pan right after it has been\">\\n                                <b>Clean a cast aluminum pan right after it has been used.<b><br>Clean a cast aluminum pan right after it has been\\n                            </span>\\n                        </div>\\n                      \\n                        <div class=\"col-2 textblock draggable-group-1\" doc_id=\"18151\" block_id=\"1\">\\n                            \\n                                <img src=\"https://storage.cloud.google.com/usc-data/wikihow/assets-1/www.wikihow.com/images/thumb/f/f8/Clean-Cast-Aluminum-Step-2-Version-2.jpg/550px-nowatermark-Clean-Cast-Aluminum-Step-2-Version-2.jpg\">\\n                            \\n                            <span class=\"textblock_span\" orig_html=\"<b>Scrub the item with a soft toothbrush or a non-abrasive pad.<b><br>Scrub the item with a soft toothbrush or a non-abrasive\" curr_html=\"<b>Scrub the item with a soft toothbrush or a non-abrasive pad.<b><br>Scrub the item with a soft toothbrush or a non-abrasive\">\\n                                <b>Scrub the item with a soft toothbrush or a non-abrasive pad.<b><br>Scrub the item with a soft toothbrush or a non-abrasive\\n                            </span>\\n                        </div>\\n                      \\n                        <div class=\"col-2 textblock draggable-group-1\" doc_id=\"18151\" block_id=\"2\">\\n                            \\n                                <img src=\"https://storage.cloud.google.com/usc-data/wikihow/assets-1/www.wikihow.com/images/thumb/7/74/Clean-Cast-Aluminum-Step-6-Version-2.jpg/550px-nowatermark-Clean-Cast-Aluminum-Step-6-Version-2.jpg\">\\n                            \\n                            <span class=\"textblock_span\" orig_html=\"<b>Clean the item with a mild detergent and water.<b><br>Clean the item with a mild detergent and water. Dilute in the\" curr_html=\"<b>Clean the item with a mild detergent and water.<b><br>Clean the item with a mild detergent and water. Dilute in the\">\\n                                <b>Clean the item with a mild detergent and water.<b><br>Clean the item with a mild detergent and water. Dilute in the\\n                            </span>\\n                        </div>\\n                      \\n                        <div class=\"col-2 textblock draggable-group-1\" doc_id=\"18151\" block_id=\"3\">\\n                            \\n                                <img src=\"https://storage.cloud.google.com/usc-data/wikihow/assets-1/www.wikihow.com/images/thumb/4/4d/Clean-Cast-Aluminum-Step-1-Version-2.jpg/550px-nowatermark-Clean-Cast-Aluminum-Step-1-Version-2.jpg\">\\n                            \\n                            <span class=\"textblock_span\" orig_html=\"<b>Boil the cast aluminum item in a solution of cream of tartar and water.<b><br>Boil the cast aluminum item in a\" curr_html=\"<b>Boil the cast aluminum item in a solution of cream of tartar and water.<b><br>Boil the cast aluminum item in a\">\\n                                <b>Boil the cast aluminum item in a solution of cream of tartar and water.<b><br>Boil the cast aluminum item in a\\n                            </span>\\n                        </div>\\n                      \\n                        <div class=\"col-2 textblock draggable-group-1\" doc_id=\"18151\" block_id=\"4\">\\n                            \\n                                <img src=\"https://storage.cloud.google.com/usc-data/wikihow/assets-1/www.wikihow.com/images/thumb/8/83/Clean-Cast-Aluminum-Step-9-Version-2.jpg/550px-nowatermark-Clean-Cast-Aluminum-Step-9-Version-2.jpg\">\\n                            \\n                            <span class=\"textblock_span\" orig_html=\"<b>Fix any warped areas on the aluminum with a hammer and a piece of wood.<b><br>Fix any warped areas on the\" curr_html=\"<b>Fix any warped areas on the aluminum with a hammer and a piece of wood.<b><br>Fix any warped areas on the\">\\n                                <b>Fix any warped areas on the aluminum with a hammer and a piece of wood.<b><br>Fix any warped areas on the\\n                            </span>\\n                        </div>\\n                      \\n                        <div class=\"col-2 textblock draggable-group-1\" doc_id=\"18151\" block_id=\"5\">\\n                            \\n                                <img src=\"https://storage.cloud.google.com/usc-data/wikihow/assets-1/www.wikihow.com/images/thumb/8/85/Clean-Cast-Aluminum-Step-3-Version-2.jpg/550px-nowatermark-Clean-Cast-Aluminum-Step-3-Version-2.jpg\">\\n                            \\n                            <span class=\"textblock_span\" orig_html=\"<b>Use a mixture of lemon juice and water.<b><br>Use a mixture of lemon juice and water. The acidity in the lemon\" curr_html=\"<b>Use a mixture of lemon juice and water.<b><br>Use a mixture of lemon juice and water. The acidity in the lemon\">\\n                                <b>Use a mixture of lemon juice and water.<b><br>Use a mixture of lemon juice and water. The acidity in the lemon\\n                            </span>\\n                        </div>\\n                      \\n                        <div class=\"col-2 textblock draggable-group-1\" doc_id=\"18151\" block_id=\"6\">\\n                            \\n                                <img src=\"https://storage.cloud.google.com/usc-data/wikihow/assets-1/www.wikihow.com/images/thumb/4/48/Clean-Cast-Aluminum-Step-5-Version-2.jpg/v4-460px-Clean-Cast-Aluminum-Step-5-Version-2.jpg\">\\n                            \\n                            <span class=\"textblock_span\" orig_html=\"<b>Run the item through a self cleaning oven.<b><br>Run the item through a self cleaning oven. If you have access to\" curr_html=\"<b>Run the item through a self cleaning oven.<b><br>Run the item through a self cleaning oven. If you have access to\">\\n                                <b>Run the item through a self cleaning oven.<b><br>Run the item through a self cleaning oven. If you have access to\\n                            </span>\\n                        </div>\\n                      \\n                        <div class=\"col-2 textblock draggable-group-1\" doc_id=\"18151\" block_id=\"7\">\\n                            \\n                                <img src=\"https://storage.cloud.google.com/usc-data/wikihow/assets-1/www.wikihow.com/images/thumb/9/90/Clean-Cast-Aluminum-Step-4-Version-2.jpg/550px-nowatermark-Clean-Cast-Aluminum-Step-4-Version-2.jpg\">\\n                            \\n                            <span class=\"textblock_span\" orig_html=\"<b>Soak the item in dissolver spray and water.<b><br>Soak the item in dissolver spray and water. If you are looking to\" curr_html=\"<b>Soak the item in dissolver spray and water.<b><br>Soak the item in dissolver spray and water. If you are looking to\">\\n                                <b>Soak the item in dissolver spray and water.<b><br>Soak the item in dissolver spray and water. If you are looking to\\n                            </span>\\n                        </div>\\n                      \\n                        <div class=\"col-2 textblock draggable-group-1\" doc_id=\"18151\" block_id=\"8\">\\n                            \\n                                <img src=\"https://storage.cloud.google.com/usc-data/wikihow/assets-1/www.wikihow.com/images/thumb/9/9d/Clean-Cast-Aluminum-Step-7-Version-2.jpg/v4-460px-Clean-Cast-Aluminum-Step-7-Version-2.jpg\">\\n                            \\n                            <span class=\"textblock_span\" orig_html=\"<b>Wash cast aluminum furniture before storing it for the winter.<b><br>Wash cast aluminum furniture before storing it for the winter. You\" curr_html=\"<b>Wash cast aluminum furniture before storing it for the winter.<b><br>Wash cast aluminum furniture before storing it for the winter. You\">\\n                                <b>Wash cast aluminum furniture before storing it for the winter.<b><br>Wash cast aluminum furniture before storing it for the winter. You\\n                            </span>\\n                        </div>\\n                      \\n                  </div>\\n              </div>\\n        </div>\\n\\n        <!-- Droppable Buckets -->\\n        <div class=\"row\">\\n            \\n                <div class=\"col-2\">\\n                    <div class=\"ui-widget-header droppable slot-1 droppable-group-1\">\\n                        <span class=\"step_slot\">\\n                            <b>Step 1</b>\\n                        </span>\\n                    </div>\\n                </div>\\n            \\n                <div class=\"col-2\">\\n                    <div class=\"ui-widget-header droppable slot-2 droppable-group-1\">\\n                        <span class=\"step_slot\">\\n                            <b>Step 2</b>\\n                        </span>\\n                    </div>\\n                </div>\\n            \\n                <div class=\"col-2\">\\n                    <div class=\"ui-widget-header droppable slot-3 droppable-group-1\">\\n                        <span class=\"step_slot\">\\n                            <b>Step 3</b>\\n                        </span>\\n                    </div>\\n                </div>\\n            \\n                <div class=\"col-2\">\\n                    <div class=\"ui-widget-header droppable slot-4 droppable-group-1\">\\n                        <span class=\"step_slot\">\\n                            <b>Step 4</b>\\n                        </span>\\n                    </div>\\n                </div>\\n            \\n                <div class=\"col-2\">\\n                    <div class=\"ui-widget-header droppable slot-5 droppable-group-1\">\\n                        <span class=\"step_slot\">\\n                            <b>Step 5</b>\\n                        </span>\\n                    </div>\\n                </div>\\n            \\n                <div class=\"col-2\">\\n                    <div class=\"ui-widget-header droppable slot-6 droppable-group-1\">\\n                        <span class=\"step_slot\">\\n                            <b>Step 6</b>\\n                        </span>\\n                    </div>\\n                </div>\\n            \\n                <div class=\"col-2\">\\n                    <div class=\"ui-widget-header droppable slot-7 droppable-group-1\">\\n                        <span class=\"step_slot\">\\n                            <b>Step 7</b>\\n                        </span>\\n                    </div>\\n                </div>\\n            \\n                <div class=\"col-2\">\\n                    <div class=\"ui-widget-header droppable slot-8 droppable-group-1\">\\n                        <span class=\"step_slot\">\\n                            <b>Step 8</b>\\n                        </span>\\n                    </div>\\n                </div>\\n            \\n                <div class=\"col-2\">\\n                    <div class=\"ui-widget-header droppable slot-9 droppable-group-1\">\\n                        <span class=\"step_slot\">\\n                            <b>Step 9</b>\\n                        </span>\\n                    </div>\\n                </div>\\n            \\n        </div>\\n    </div>\\n\\n    <!-- Error Buttons -->\\n    <div class=\"row\">\\n          <div class=\"col-4\">\\n            <div class=\"error question\" doc_id=\"18151\" error_type=\\'error\\'>\\n              <p>\\n              <h4>Does this paragraph have errors?</h4>\\n              <div class=\"btn-group-vertical btn-group-toggle error_btn_grp\" role=\"group\" data-toggle=\"buttons\">\\n                  <div class=\"btn-group\">\\n                    <label class=\"btn btn-outline-success btn-sm active\" label=\"legit\">\\n                        <input type=\"radio\" name=\"options\" autocomplete=\"off\" checked>No errors</label>\\n                    <label class=\"btn btn-outline-danger btn-sm\" label=\"text_error\">\\n                        <input type=\"radio\" name=\"options\" autocomplete=\"off\" checked>Errors in Text</label>\\n                    <label class=\"btn btn-outline-danger btn-sm\" label=\"image_error\">\\n                     <input type=\"radio\" name=\"options\" autocomplete=\"off\" checked>Picture not Loading</label>\\n                  <!-- </div> -->\\n                  <!-- <div class=\"btn-group\"> -->\\n                    <label class=\"btn btn-outline-danger btn-sm otherbutton\" label=\"other\">\\n                        <input type=\"radio\" name=\"options\" autocomplete=\"off\" checked>Other</label>\\n                    <input type=\"text\" class=\"form-control hidden otherform\"\\n                           aria-label=\"Text input with radio button\" placeholder=\"S pecify...\">\\n                  </div>\\n              </div>\\n              </p>\\n            </div>\\n          </div>\\n    <!--</div><div class=\"row\">-->\\n          <div class=\"col-4\">\\n            <div class=\"error question\" doc_id=\"18151\" error_type=\\'confidence\\'>\\n              <p>\\n              <h4>How confident are you about your decision (1 low, 5 high)?</h4>\\n              <div class=\"btn-group-vertical btn-group-toggle\" role=\"group\" data-toggle=\"buttons\">\\n                  <div class=\"btn-group\">\\n                    <label class=\"btn btn-outline-success btn-sm\" label=\"redo\">\\n                        <input type=\"radio\" name=\"options\" autocomplete=\"off\" checked>1 - Not At All</label>\\n                    <label class=\"btn btn-outline-success btn-sm\" label=\"check\">\\n                        <input type=\"radio\" name=\"options\" autocomplete=\"off\" checked>2 - Somewhat</label>\\n                    <label class=\"btn btn-outline-success btn-sm\" label=\"glance\">\\n                        <input type=\"radio\" name=\"options\" autocomplete=\"off\" checked>3 - Moderately</label>\\n                  <!-- </div> -->\\n                  <!-- <div class=\"btn-group\"> -->\\n                    <label class=\"btn btn-outline-success btn-sm\" label=\"ok\">\\n                        <input type=\"radio\" name=\"options\" autocomplete=\"off\" checked>4 - Fairly</label>\\n                    <label class=\"btn btn-outline-success btn-sm\" label=\"perfect\">\\n                        <input type=\"radio\" name=\"options\" autocomplete=\"off\" checked>5 - Very</label>\\n                  </div>\\n              </div>\\n             </p>\\n            </div>\\n          </div>\\n    </div>\\n    <!---->\\n    <hr>\\n\\n    \\n    <h3><u>Set 2</u></h3>\\n    <div class=\"draggable_container\">\\n        <div class=\"row annotation hover\"> <!-- justify-content-center\">-->\\n              <div class=\"col-10\">\\n                  <div class=\"textblock_pool\" doc_id=\"18151\">\\n                      \\n                        <div class=\"col-2 textblock draggable-group-2\" doc_id=\"18151\" block_id=\"0\">\\n                            \\n                                <img src=\"https://storage.cloud.google.com/usc-data/wikihow/assets-1/www.wikihow.com/images/thumb/8/8f/Clean-Cast-Aluminum-Step-8-Version-2.jpg/v4-460px-Clean-Cast-Aluminum-Step-8-Version-2.jpg\">\\n                            \\n                            <span class=\"textblock_span\" orig_html=\"<b>Clean a cast aluminum pan right after it has been used.<b><br>Clean a cast aluminum pan right after it has been\" curr_html=\"<b>Clean a cast aluminum pan right after it has been used.<b><br>Clean a cast aluminum pan right after it has been\">\\n                                <b>Clean a cast aluminum pan right after it has been used.<b><br>Clean a cast aluminum pan right after it has been\\n                            </span>\\n                        </div>\\n                      \\n                        <div class=\"col-2 textblock draggable-group-2\" doc_id=\"18151\" block_id=\"1\">\\n                            \\n                                <img src=\"https://storage.cloud.google.com/usc-data/wikihow/assets-1/www.wikihow.com/images/thumb/f/f8/Clean-Cast-Aluminum-Step-2-Version-2.jpg/550px-nowatermark-Clean-Cast-Aluminum-Step-2-Version-2.jpg\">\\n                            \\n                            <span class=\"textblock_span\" orig_html=\"<b>Scrub the item with a soft toothbrush or a non-abrasive pad.<b><br>Scrub the item with a soft toothbrush or a non-abrasive\" curr_html=\"<b>Scrub the item with a soft toothbrush or a non-abrasive pad.<b><br>Scrub the item with a soft toothbrush or a non-abrasive\">\\n                                <b>Scrub the item with a soft toothbrush or a non-abrasive pad.<b><br>Scrub the item with a soft toothbrush or a non-abrasive\\n                            </span>\\n                        </div>\\n                      \\n                        <div class=\"col-2 textblock draggable-group-2\" doc_id=\"18151\" block_id=\"2\">\\n                            \\n                                <img src=\"https://storage.cloud.google.com/usc-data/wikihow/assets-1/www.wikihow.com/images/thumb/7/74/Clean-Cast-Aluminum-Step-6-Version-2.jpg/550px-nowatermark-Clean-Cast-Aluminum-Step-6-Version-2.jpg\">\\n                            \\n                            <span class=\"textblock_span\" orig_html=\"<b>Clean the item with a mild detergent and water.<b><br>Clean the item with a mild detergent and water. Dilute in the\" curr_html=\"<b>Clean the item with a mild detergent and water.<b><br>Clean the item with a mild detergent and water. Dilute in the\">\\n                                <b>Clean the item with a mild detergent and water.<b><br>Clean the item with a mild detergent and water. Dilute in the\\n                            </span>\\n                        </div>\\n                      \\n                        <div class=\"col-2 textblock draggable-group-2\" doc_id=\"18151\" block_id=\"3\">\\n                            \\n                                <img src=\"https://storage.cloud.google.com/usc-data/wikihow/assets-1/www.wikihow.com/images/thumb/4/4d/Clean-Cast-Aluminum-Step-1-Version-2.jpg/550px-nowatermark-Clean-Cast-Aluminum-Step-1-Version-2.jpg\">\\n                            \\n                            <span class=\"textblock_span\" orig_html=\"<b>Boil the cast aluminum item in a solution of cream of tartar and water.<b><br>Boil the cast aluminum item in a\" curr_html=\"<b>Boil the cast aluminum item in a solution of cream of tartar and water.<b><br>Boil the cast aluminum item in a\">\\n                                <b>Boil the cast aluminum item in a solution of cream of tartar and water.<b><br>Boil the cast aluminum item in a\\n                            </span>\\n                        </div>\\n                      \\n                        <div class=\"col-2 textblock draggable-group-2\" doc_id=\"18151\" block_id=\"4\">\\n                            \\n                                <img src=\"https://storage.cloud.google.com/usc-data/wikihow/assets-1/www.wikihow.com/images/thumb/8/83/Clean-Cast-Aluminum-Step-9-Version-2.jpg/550px-nowatermark-Clean-Cast-Aluminum-Step-9-Version-2.jpg\">\\n                            \\n                            <span class=\"textblock_span\" orig_html=\"<b>Fix any warped areas on the aluminum with a hammer and a piece of wood.<b><br>Fix any warped areas on the\" curr_html=\"<b>Fix any warped areas on the aluminum with a hammer and a piece of wood.<b><br>Fix any warped areas on the\">\\n                                <b>Fix any warped areas on the aluminum with a hammer and a piece of wood.<b><br>Fix any warped areas on the\\n                            </span>\\n                        </div>\\n                      \\n                        <div class=\"col-2 textblock draggable-group-2\" doc_id=\"18151\" block_id=\"5\">\\n                            \\n                                <img src=\"https://storage.cloud.google.com/usc-data/wikihow/assets-1/www.wikihow.com/images/thumb/8/85/Clean-Cast-Aluminum-Step-3-Version-2.jpg/550px-nowatermark-Clean-Cast-Aluminum-Step-3-Version-2.jpg\">\\n                            \\n                            <span class=\"textblock_span\" orig_html=\"<b>Use a mixture of lemon juice and water.<b><br>Use a mixture of lemon juice and water. The acidity in the lemon\" curr_html=\"<b>Use a mixture of lemon juice and water.<b><br>Use a mixture of lemon juice and water. The acidity in the lemon\">\\n                                <b>Use a mixture of lemon juice and water.<b><br>Use a mixture of lemon juice and water. The acidity in the lemon\\n                            </span>\\n                        </div>\\n                      \\n                        <div class=\"col-2 textblock draggable-group-2\" doc_id=\"18151\" block_id=\"6\">\\n                            \\n                                <img src=\"https://storage.cloud.google.com/usc-data/wikihow/assets-1/www.wikihow.com/images/thumb/4/48/Clean-Cast-Aluminum-Step-5-Version-2.jpg/v4-460px-Clean-Cast-Aluminum-Step-5-Version-2.jpg\">\\n                            \\n                            <span class=\"textblock_span\" orig_html=\"<b>Run the item through a self cleaning oven.<b><br>Run the item through a self cleaning oven. If you have access to\" curr_html=\"<b>Run the item through a self cleaning oven.<b><br>Run the item through a self cleaning oven. If you have access to\">\\n                                <b>Run the item through a self cleaning oven.<b><br>Run the item through a self cleaning oven. If you have access to\\n                            </span>\\n                        </div>\\n                      \\n                        <div class=\"col-2 textblock draggable-group-2\" doc_id=\"18151\" block_id=\"7\">\\n                            \\n                                <img src=\"https://storage.cloud.google.com/usc-data/wikihow/assets-1/www.wikihow.com/images/thumb/9/90/Clean-Cast-Aluminum-Step-4-Version-2.jpg/550px-nowatermark-Clean-Cast-Aluminum-Step-4-Version-2.jpg\">\\n                            \\n                            <span class=\"textblock_span\" orig_html=\"<b>Soak the item in dissolver spray and water.<b><br>Soak the item in dissolver spray and water. If you are looking to\" curr_html=\"<b>Soak the item in dissolver spray and water.<b><br>Soak the item in dissolver spray and water. If you are looking to\">\\n                                <b>Soak the item in dissolver spray and water.<b><br>Soak the item in dissolver spray and water. If you are looking to\\n                            </span>\\n                        </div>\\n                      \\n                        <div class=\"col-2 textblock draggable-group-2\" doc_id=\"18151\" block_id=\"8\">\\n                            \\n                                <img src=\"https://storage.cloud.google.com/usc-data/wikihow/assets-1/www.wikihow.com/images/thumb/9/9d/Clean-Cast-Aluminum-Step-7-Version-2.jpg/v4-460px-Clean-Cast-Aluminum-Step-7-Version-2.jpg\">\\n                            \\n                            <span class=\"textblock_span\" orig_html=\"<b>Wash cast aluminum furniture before storing it for the winter.<b><br>Wash cast aluminum furniture before storing it for the winter. You\" curr_html=\"<b>Wash cast aluminum furniture before storing it for the winter.<b><br>Wash cast aluminum furniture before storing it for the winter. You\">\\n                                <b>Wash cast aluminum furniture before storing it for the winter.<b><br>Wash cast aluminum furniture before storing it for the winter. You\\n                            </span>\\n                        </div>\\n                      \\n                  </div>\\n              </div>\\n        </div>\\n\\n        <!-- Droppable Buckets -->\\n        <div class=\"row\">\\n            \\n                <div class=\"col-2\">\\n                    <div class=\"ui-widget-header droppable slot-1 droppable-group-2\">\\n                        <span class=\"step_slot\">\\n                            <b>Step 1</b>\\n                        </span>\\n                    </div>\\n                </div>\\n            \\n                <div class=\"col-2\">\\n                    <div class=\"ui-widget-header droppable slot-2 droppable-group-2\">\\n                        <span class=\"step_slot\">\\n                            <b>Step 2</b>\\n                        </span>\\n                    </div>\\n                </div>\\n            \\n                <div class=\"col-2\">\\n                    <div class=\"ui-widget-header droppable slot-3 droppable-group-2\">\\n                        <span class=\"step_slot\">\\n                            <b>Step 3</b>\\n                        </span>\\n                    </div>\\n                </div>\\n            \\n                <div class=\"col-2\">\\n                    <div class=\"ui-widget-header droppable slot-4 droppable-group-2\">\\n                        <span class=\"step_slot\">\\n                            <b>Step 4</b>\\n                        </span>\\n                    </div>\\n                </div>\\n            \\n                <div class=\"col-2\">\\n                    <div class=\"ui-widget-header droppable slot-5 droppable-group-2\">\\n                        <span class=\"step_slot\">\\n                            <b>Step 5</b>\\n                        </span>\\n                    </div>\\n                </div>\\n            \\n                <div class=\"col-2\">\\n                    <div class=\"ui-widget-header droppable slot-6 droppable-group-2\">\\n                        <span class=\"step_slot\">\\n                            <b>Step 6</b>\\n                        </span>\\n                    </div>\\n                </div>\\n            \\n                <div class=\"col-2\">\\n                    <div class=\"ui-widget-header droppable slot-7 droppable-group-2\">\\n                        <span class=\"step_slot\">\\n                            <b>Step 7</b>\\n                        </span>\\n                    </div>\\n                </div>\\n            \\n                <div class=\"col-2\">\\n                    <div class=\"ui-widget-header droppable slot-8 droppable-group-2\">\\n                        <span class=\"step_slot\">\\n                            <b>Step 8</b>\\n                        </span>\\n                    </div>\\n                </div>\\n            \\n                <div class=\"col-2\">\\n                    <div class=\"ui-widget-header droppable slot-9 droppable-group-2\">\\n                        <span class=\"step_slot\">\\n                            <b>Step 9</b>\\n                        </span>\\n                    </div>\\n                </div>\\n            \\n        </div>\\n    </div>\\n\\n    <!-- Error Buttons -->\\n    <div class=\"row\">\\n          <div class=\"col-4\">\\n            <div class=\"error question\" doc_id=\"18151\" error_type=\\'error\\'>\\n              <p>\\n              <h4>Does this paragraph have errors?</h4>\\n              <div class=\"btn-group-vertical btn-group-toggle error_btn_grp\" role=\"group\" data-toggle=\"buttons\">\\n                  <div class=\"btn-group\">\\n                    <label class=\"btn btn-outline-success btn-sm active\" label=\"legit\">\\n                        <input type=\"radio\" name=\"options\" autocomplete=\"off\" checked>No errors</label>\\n                    <label class=\"btn btn-outline-danger btn-sm\" label=\"text_error\">\\n                        <input type=\"radio\" name=\"options\" autocomplete=\"off\" checked>Errors in Text</label>\\n                    <label class=\"btn btn-outline-danger btn-sm\" label=\"image_error\">\\n                     <input type=\"radio\" name=\"options\" autocomplete=\"off\" checked>Picture not Loading</label>\\n                  <!-- </div> -->\\n                  <!-- <div class=\"btn-group\"> -->\\n                    <label class=\"btn btn-outline-danger btn-sm otherbutton\" label=\"other\">\\n                        <input type=\"radio\" name=\"options\" autocomplete=\"off\" checked>Other</label>\\n                    <input type=\"text\" class=\"form-control hidden otherform\"\\n                           aria-label=\"Text input with radio button\" placeholder=\"S pecify...\">\\n                  </div>\\n              </div>\\n              </p>\\n            </div>\\n          </div>\\n    <!--</div><div class=\"row\">-->\\n          <div class=\"col-4\">\\n            <div class=\"error question\" doc_id=\"18151\" error_type=\\'confidence\\'>\\n              <p>\\n              <h4>How confident are you about your decision (1 low, 5 high)?</h4>\\n              <div class=\"btn-group-vertical btn-group-toggle\" role=\"group\" data-toggle=\"buttons\">\\n                  <div class=\"btn-group\">\\n                    <label class=\"btn btn-outline-success btn-sm\" label=\"redo\">\\n                        <input type=\"radio\" name=\"options\" autocomplete=\"off\" checked>1 - Not At All</label>\\n                    <label class=\"btn btn-outline-success btn-sm\" label=\"check\">\\n                        <input type=\"radio\" name=\"options\" autocomplete=\"off\" checked>2 - Somewhat</label>\\n                    <label class=\"btn btn-outline-success btn-sm\" label=\"glance\">\\n                        <input type=\"radio\" name=\"options\" autocomplete=\"off\" checked>3 - Moderately</label>\\n                  <!-- </div> -->\\n                  <!-- <div class=\"btn-group\"> -->\\n                    <label class=\"btn btn-outline-success btn-sm\" label=\"ok\">\\n                        <input type=\"radio\" name=\"options\" autocomplete=\"off\" checked>4 - Fairly</label>\\n                    <label class=\"btn btn-outline-success btn-sm\" label=\"perfect\">\\n                        <input type=\"radio\" name=\"options\" autocomplete=\"off\" checked>5 - Very</label>\\n                  </div>\\n              </div>\\n             </p>\\n            </div>\\n          </div>\\n    </div>\\n    <!---->\\n    <hr>\\n\\n    \\n    <h3><u>Set 3</u></h3>\\n    <div class=\"draggable_container\">\\n        <div class=\"row annotation hover\"> <!-- justify-content-center\">-->\\n              <div class=\"col-10\">\\n                  <div class=\"textblock_pool\" doc_id=\"22771\">\\n                      \\n                        <div class=\"col-2 textblock draggable-group-3\" doc_id=\"22771\" block_id=\"0\">\\n                            \\n                                <img src=\"https://storage.cloud.google.com/usc-data/wikihow/assets-1/www.wikihow.com/images/thumb/b/bb/Cook-Round-Courgettes-Step-1.jpg/v4-460px-Cook-Round-Courgettes-Step-1.jpg\">\\n                            \\n                            <span class=\"textblock_span\" orig_html=\"<b>Wash off your courgettes and dry them off.<b><br>Wash off your courgettes and dry them off. Soak each courgette under running\" curr_html=\"<b>Wash off your courgettes and dry them off.<b><br>Wash off your courgettes and dry them off. Soak each courgette under running\">\\n                                <b>Wash off your courgettes and dry them off.<b><br>Wash off your courgettes and dry them off. Soak each courgette under running\\n                            </span>\\n                        </div>\\n                      \\n                        <div class=\"col-2 textblock draggable-group-3\" doc_id=\"22771\" block_id=\"1\">\\n                            \\n                                <img src=\"https://storage.cloud.google.com/usc-data/wikihow/assets-1/www.wikihow.com/images/thumb/5/5b/Cook-Round-Courgettes-Step-6.jpg/v4-460px-Cook-Round-Courgettes-Step-6.jpg\">\\n                            \\n                            <span class=\"textblock_span\" orig_html=\"<b>Fry onions and garlic for several minutes.<b><br>Fry onions and garlic for several minutes. Pour another 1 US tbsp (15 mL)\" curr_html=\"<b>Fry onions and garlic for several minutes.<b><br>Fry onions and garlic for several minutes. Pour another 1 US tbsp (15 mL)\">\\n                                <b>Fry onions and garlic for several minutes.<b><br>Fry onions and garlic for several minutes. Pour another 1 US tbsp (15 mL)\\n                            </span>\\n                        </div>\\n                      \\n                        <div class=\"col-2 textblock draggable-group-3\" doc_id=\"22771\" block_id=\"2\">\\n                            \\n                                <img src=\"https://storage.cloud.google.com/usc-data/wikihow/assets-1/www.wikihow.com/images/thumb/0/00/Cook-Round-Courgettes-Step-10.jpg/550px-nowatermark-Cook-Round-Courgettes-Step-10.jpg\">\\n                            \\n                            <span class=\"textblock_span\" orig_html=\"<b>Mix the cooked chicken and vegetable filling together.<b><br>Mix the cooked chicken and vegetable filling together. Combine the chicken mince and\" curr_html=\"<b>Mix the cooked chicken and vegetable filling together.<b><br>Mix the cooked chicken and vegetable filling together. Combine the chicken mince and\">\\n                                <b>Mix the cooked chicken and vegetable filling together.<b><br>Mix the cooked chicken and vegetable filling together. Combine the chicken mince and\\n                            </span>\\n                        </div>\\n                      \\n                        <div class=\"col-2 textblock draggable-group-3\" doc_id=\"22771\" block_id=\"3\">\\n                            \\n                                <img src=\"https://storage.cloud.google.com/usc-data/wikihow/assets-1/www.wikihow.com/images/thumb/b/bd/Cook-Round-Courgettes-Step-2.jpg/550px-nowatermark-Cook-Round-Courgettes-Step-2.jpg\">\\n                            \\n                            <span class=\"textblock_span\" orig_html=\"<b>Slice off the tops of the courgettes.<b><br>Slice off the tops of the courgettes. Remove the top from each squash, setting\" curr_html=\"<b>Slice off the tops of the courgettes.<b><br>Slice off the tops of the courgettes. Remove the top from each squash, setting\">\\n                                <b>Slice off the tops of the courgettes.<b><br>Slice off the tops of the courgettes. Remove the top from each squash, setting\\n                            </span>\\n                        </div>\\n                      \\n                        <div class=\"col-2 textblock draggable-group-3\" doc_id=\"22771\" block_id=\"4\">\\n                            \\n                                <img src=\"https://storage.cloud.google.com/usc-data/wikihow/assets-1/www.wikihow.com/images/thumb/f/f7/Cook-Round-Courgettes-Step-9.jpg/550px-nowatermark-Cook-Round-Courgettes-Step-9.jpg\">\\n                            \\n                            <span class=\"textblock_span\" orig_html=\"<b>Saute the chicken mince on the stovetop.<b><br>Saute the chicken mince on the stovetop. Pour another 1 US tbsp (15 mL)\" curr_html=\"<b>Saute the chicken mince on the stovetop.<b><br>Saute the chicken mince on the stovetop. Pour another 1 US tbsp (15 mL)\">\\n                                <b>Saute the chicken mince on the stovetop.<b><br>Saute the chicken mince on the stovetop. Pour another 1 US tbsp (15 mL)\\n                            </span>\\n                        </div>\\n                      \\n                        <div class=\"col-2 textblock draggable-group-3\" doc_id=\"22771\" block_id=\"5\">\\n                            \\n                                <img src=\"https://storage.cloud.google.com/usc-data/wikihow/assets-1/www.wikihow.com/images/thumb/b/ba/Cook-Round-Courgettes-Step-11.jpg/v4-460px-Cook-Round-Courgettes-Step-11.jpg\">\\n                            \\n                            <span class=\"textblock_span\" orig_html=\"<b>Stuff the courgettes and bake them for 30 minutes.<b><br>Stuff the courgettes and bake them for 30 minutes. Ladle the savory\" curr_html=\"<b>Stuff the courgettes and bake them for 30 minutes.<b><br>Stuff the courgettes and bake them for 30 minutes. Ladle the savory\">\\n                                <b>Stuff the courgettes and bake them for 30 minutes.<b><br>Stuff the courgettes and bake them for 30 minutes. Ladle the savory\\n                            </span>\\n                        </div>\\n                      \\n                        <div class=\"col-2 textblock draggable-group-3\" doc_id=\"22771\" block_id=\"6\">\\n                            \\n                                <img src=\"https://storage.cloud.google.com/usc-data/wikihow/assets-1/www.wikihow.com/images/thumb/2/28/Cook-Round-Courgettes-Step-4.jpg/550px-nowatermark-Cook-Round-Courgettes-Step-4.jpg\">\\n                            \\n                            <span class=\"textblock_span\" orig_html=\"<b>Bake the courgette shells in a greased pan for 30-35 minutes.<b><br>Bake the courgette shells in a greased pan for 30-35\" curr_html=\"<b>Bake the courgette shells in a greased pan for 30-35 minutes.<b><br>Bake the courgette shells in a greased pan for 30-35\">\\n                                <b>Bake the courgette shells in a greased pan for 30-35 minutes.<b><br>Bake the courgette shells in a greased pan for 30-35\\n                            </span>\\n                        </div>\\n                      \\n                        <div class=\"col-2 textblock draggable-group-3\" doc_id=\"22771\" block_id=\"7\">\\n                            \\n                                <img src=\"https://storage.cloud.google.com/usc-data/wikihow/assets-1/www.wikihow.com/images/thumb/d/d6/Cook-Round-Courgettes-Step-5.jpg/v4-460px-Cook-Round-Courgettes-Step-5.jpg\">\\n                            \\n                            <span class=\"textblock_span\" orig_html=\"<b>Saute the courgette flesh until it’s tender.<b><br>Saute the courgette flesh until it’s tender. Pour 1 US tbsp (15 mL) of\" curr_html=\"<b>Saute the courgette flesh until it’s tender.<b><br>Saute the courgette flesh until it’s tender. Pour 1 US tbsp (15 mL) of\">\\n                                <b>Saute the courgette flesh until it’s tender.<b><br>Saute the courgette flesh until it’s tender. Pour 1 US tbsp (15 mL) of\\n                            </span>\\n                        </div>\\n                      \\n                        <div class=\"col-2 textblock draggable-group-3\" doc_id=\"22771\" block_id=\"8\">\\n                            \\n                                <img src=\"https://storage.cloud.google.com/usc-data/wikihow/assets-1/www.wikihow.com/images/thumb/d/dd/Cook-Round-Courgettes-Step-8.jpg/550px-nowatermark-Cook-Round-Courgettes-Step-8.jpg\">\\n                            \\n                            <span class=\"textblock_span\" orig_html=\"<b>Mix freshly chopped herbs with the cooked courgette filling.<b><br>Mix freshly chopped herbs with the cooked courgette filling. Grab the bowl\" curr_html=\"<b>Mix freshly chopped herbs with the cooked courgette filling.<b><br>Mix freshly chopped herbs with the cooked courgette filling. Grab the bowl\">\\n                                <b>Mix freshly chopped herbs with the cooked courgette filling.<b><br>Mix freshly chopped herbs with the cooked courgette filling. Grab the bowl\\n                            </span>\\n                        </div>\\n                      \\n                        <div class=\"col-2 textblock draggable-group-3\" doc_id=\"22771\" block_id=\"9\">\\n                            \\n                                <img src=\"https://storage.cloud.google.com/usc-data/wikihow/assets-1/www.wikihow.com/images/thumb/0/03/Cook-Round-Courgettes-Step-7.jpg/550px-nowatermark-Cook-Round-Courgettes-Step-7.jpg\">\\n                            \\n                            <span class=\"textblock_span\" orig_html=\"<b>Add the chopped tomatoes and tomato purée to the onion mixture.<b><br>Add the chopped tomatoes and tomato purée to the onion\" curr_html=\"<b>Add the chopped tomatoes and tomato purée to the onion mixture.<b><br>Add the chopped tomatoes and tomato purée to the onion\">\\n                                <b>Add the chopped tomatoes and tomato purée to the onion mixture.<b><br>Add the chopped tomatoes and tomato purée to the onion\\n                            </span>\\n                        </div>\\n                      \\n                        <div class=\"col-2 textblock draggable-group-3\" doc_id=\"22771\" block_id=\"10\">\\n                            \\n                                <img src=\"https://storage.cloud.google.com/usc-data/wikihow/assets-1/www.wikihow.com/images/thumb/c/cd/Cook-Round-Courgettes-Step-3.jpg/550px-nowatermark-Cook-Round-Courgettes-Step-3.jpg\">\\n                            \\n                            <span class=\"textblock_span\" orig_html=\"<b>Hollow out the middle of each courgette and set it aside.<b><br>Hollow out the middle of each courgette and set it\" curr_html=\"<b>Hollow out the middle of each courgette and set it aside.<b><br>Hollow out the middle of each courgette and set it\">\\n                                <b>Hollow out the middle of each courgette and set it aside.<b><br>Hollow out the middle of each courgette and set it\\n                            </span>\\n                        </div>\\n                      \\n                  </div>\\n              </div>\\n        </div>\\n\\n        <!-- Droppable Buckets -->\\n        <div class=\"row\">\\n            \\n                <div class=\"col-2\">\\n                    <div class=\"ui-widget-header droppable slot-1 droppable-group-3\">\\n                        <span class=\"step_slot\">\\n                            <b>Step 1</b>\\n                        </span>\\n                    </div>\\n                </div>\\n            \\n                <div class=\"col-2\">\\n                    <div class=\"ui-widget-header droppable slot-2 droppable-group-3\">\\n                        <span class=\"step_slot\">\\n                            <b>Step 2</b>\\n                        </span>\\n                    </div>\\n                </div>\\n            \\n                <div class=\"col-2\">\\n                    <div class=\"ui-widget-header droppable slot-3 droppable-group-3\">\\n                        <span class=\"step_slot\">\\n                            <b>Step 3</b>\\n                        </span>\\n                    </div>\\n                </div>\\n            \\n                <div class=\"col-2\">\\n                    <div class=\"ui-widget-header droppable slot-4 droppable-group-3\">\\n                        <span class=\"step_slot\">\\n                            <b>Step 4</b>\\n                        </span>\\n                    </div>\\n                </div>\\n            \\n                <div class=\"col-2\">\\n                    <div class=\"ui-widget-header droppable slot-5 droppable-group-3\">\\n                        <span class=\"step_slot\">\\n                            <b>Step 5</b>\\n                        </span>\\n                    </div>\\n                </div>\\n            \\n                <div class=\"col-2\">\\n                    <div class=\"ui-widget-header droppable slot-6 droppable-group-3\">\\n                        <span class=\"step_slot\">\\n                            <b>Step 6</b>\\n                        </span>\\n                    </div>\\n                </div>\\n            \\n                <div class=\"col-2\">\\n                    <div class=\"ui-widget-header droppable slot-7 droppable-group-3\">\\n                        <span class=\"step_slot\">\\n                            <b>Step 7</b>\\n                        </span>\\n                    </div>\\n                </div>\\n            \\n                <div class=\"col-2\">\\n                    <div class=\"ui-widget-header droppable slot-8 droppable-group-3\">\\n                        <span class=\"step_slot\">\\n                            <b>Step 8</b>\\n                        </span>\\n                    </div>\\n                </div>\\n            \\n                <div class=\"col-2\">\\n                    <div class=\"ui-widget-header droppable slot-9 droppable-group-3\">\\n                        <span class=\"step_slot\">\\n                            <b>Step 9</b>\\n                        </span>\\n                    </div>\\n                </div>\\n            \\n                <div class=\"col-2\">\\n                    <div class=\"ui-widget-header droppable slot-10 droppable-group-3\">\\n                        <span class=\"step_slot\">\\n                            <b>Step 10</b>\\n                        </span>\\n                    </div>\\n                </div>\\n            \\n                <div class=\"col-2\">\\n                    <div class=\"ui-widget-header droppable slot-11 droppable-group-3\">\\n                        <span class=\"step_slot\">\\n                            <b>Step 11</b>\\n                        </span>\\n                    </div>\\n                </div>\\n            \\n        </div>\\n    </div>\\n\\n    <!-- Error Buttons -->\\n    <div class=\"row\">\\n          <div class=\"col-4\">\\n            <div class=\"error question\" doc_id=\"22771\" error_type=\\'error\\'>\\n              <p>\\n              <h4>Does this paragraph have errors?</h4>\\n              <div class=\"btn-group-vertical btn-group-toggle error_btn_grp\" role=\"group\" data-toggle=\"buttons\">\\n                  <div class=\"btn-group\">\\n                    <label class=\"btn btn-outline-success btn-sm active\" label=\"legit\">\\n                        <input type=\"radio\" name=\"options\" autocomplete=\"off\" checked>No errors</label>\\n                    <label class=\"btn btn-outline-danger btn-sm\" label=\"text_error\">\\n                        <input type=\"radio\" name=\"options\" autocomplete=\"off\" checked>Errors in Text</label>\\n                    <label class=\"btn btn-outline-danger btn-sm\" label=\"image_error\">\\n                     <input type=\"radio\" name=\"options\" autocomplete=\"off\" checked>Picture not Loading</label>\\n                  <!-- </div> -->\\n                  <!-- <div class=\"btn-group\"> -->\\n                    <label class=\"btn btn-outline-danger btn-sm otherbutton\" label=\"other\">\\n                        <input type=\"radio\" name=\"options\" autocomplete=\"off\" checked>Other</label>\\n                    <input type=\"text\" class=\"form-control hidden otherform\"\\n                           aria-label=\"Text input with radio button\" placeholder=\"S pecify...\">\\n                  </div>\\n              </div>\\n              </p>\\n            </div>\\n          </div>\\n    <!--</div><div class=\"row\">-->\\n          <div class=\"col-4\">\\n            <div class=\"error question\" doc_id=\"22771\" error_type=\\'confidence\\'>\\n              <p>\\n              <h4>How confident are you about your decision (1 low, 5 high)?</h4>\\n              <div class=\"btn-group-vertical btn-group-toggle\" role=\"group\" data-toggle=\"buttons\">\\n                  <div class=\"btn-group\">\\n                    <label class=\"btn btn-outline-success btn-sm\" label=\"redo\">\\n                        <input type=\"radio\" name=\"options\" autocomplete=\"off\" checked>1 - Not At All</label>\\n                    <label class=\"btn btn-outline-success btn-sm\" label=\"check\">\\n                        <input type=\"radio\" name=\"options\" autocomplete=\"off\" checked>2 - Somewhat</label>\\n                    <label class=\"btn btn-outline-success btn-sm\" label=\"glance\">\\n                        <input type=\"radio\" name=\"options\" autocomplete=\"off\" checked>3 - Moderately</label>\\n                  <!-- </div> -->\\n                  <!-- <div class=\"btn-group\"> -->\\n                    <label class=\"btn btn-outline-success btn-sm\" label=\"ok\">\\n                        <input type=\"radio\" name=\"options\" autocomplete=\"off\" checked>4 - Fairly</label>\\n                    <label class=\"btn btn-outline-success btn-sm\" label=\"perfect\">\\n                        <input type=\"radio\" name=\"options\" autocomplete=\"off\" checked>5 - Very</label>\\n                  </div>\\n              </div>\\n             </p>\\n            </div>\\n          </div>\\n    </div>\\n    <!---->\\n    <hr>\\n\\n    \\n    <h3><u>Set 4</u></h3>\\n    <div class=\"draggable_container\">\\n        <div class=\"row annotation hover\"> <!-- justify-content-center\">-->\\n              <div class=\"col-10\">\\n                  <div class=\"textblock_pool\" doc_id=\"29551\">\\n                      \\n                        <div class=\"col-2 textblock draggable-group-4\" doc_id=\"29551\" block_id=\"0\">\\n                            \\n                                <img src=\"https://storage.cloud.google.com/usc-data/wikihow/assets-1/www.wikihow.com/images/thumb/6/6a/Determine-a-Square-and-Circle-of-Equal-Area-Step-6.jpg/v4-460px-Determine-a-Square-and-Circle-of-Equal-Area-Step-6.jpg\">\\n                            \\n                            <span class=\"textblock_span\" orig_html=\"<b>And it\\'s been learned that the square root of π means the relationship between the equal areas of a square\" curr_html=\"<b>And it\\'s been learned that the square root of π means the relationship between the equal areas of a square\">\\n                                <b>And it\\'s been learned that the square root of π means the relationship between the equal areas of a square\\n                            </span>\\n                        </div>\\n                      \\n                        <div class=\"col-2 textblock draggable-group-4\" doc_id=\"29551\" block_id=\"1\">\\n                            \\n                                <img src=\"https://storage.cloud.google.com/usc-data/wikihow/assets-1/www.wikihow.com/images/thumb/e/ec/Determine-a-Square-and-Circle-of-Equal-Area-Step-3.jpg/v4-460px-Determine-a-Square-and-Circle-of-Equal-Area-Step-3.jpg\">\\n                            \\n                            <span class=\"textblock_span\" orig_html=\"<b>Set A(s) = A(c) via r1^2 = πr2^2.<b><br>Set A(s) = A(c) via r1^2 = πr2^2.\" curr_html=\"<b>Set A(s) = A(c) via r1^2 = πr2^2.<b><br>Set A(s) = A(c) via r1^2 = πr2^2.\">\\n                                <b>Set A(s) = A(c) via r1^2 = πr2^2.<b><br>Set A(s) = A(c) via r1^2 = πr2^2.\\n                            </span>\\n                        </div>\\n                      \\n                        <div class=\"col-2 textblock draggable-group-4\" doc_id=\"29551\" block_id=\"2\">\\n                            \\n                                <img src=\"\">\\n                            \\n                            <span class=\"textblock_span\" orig_html=\"<b> <b><br>\" curr_html=\"<b> <b><br>\">\\n                                <b> <b><br>\\n                            </span>\\n                        </div>\\n                      \\n                        <div class=\"col-2 textblock draggable-group-4\" doc_id=\"29551\" block_id=\"3\">\\n                            \\n                                <img src=\"\">\\n                            \\n                            <span class=\"textblock_span\" orig_html=\"<b> <b><br>\" curr_html=\"<b> <b><br>\">\\n                                <b> <b><br>\\n                            </span>\\n                        </div>\\n                      \\n                        <div class=\"col-2 textblock draggable-group-4\" doc_id=\"29551\" block_id=\"4\">\\n                            \\n                                <img src=\"https://storage.cloud.google.com/usc-data/wikihow/assets-1/www.wikihow.com/images/thumb/2/20/Determine-a-Square-and-Circle-of-Equal-Area-Step-1.jpg/v4-460px-Determine-a-Square-and-Circle-of-Equal-Area-Step-1.jpg\">\\n                            \\n                            <span class=\"textblock_span\" orig_html=\"<b>Let r1^2 represent the area of the square, A(s).<b><br>Let r1^2 represent the area of the square, A(s).\" curr_html=\"<b>Let r1^2 represent the area of the square, A(s).<b><br>Let r1^2 represent the area of the square, A(s).\">\\n                                <b>Let r1^2 represent the area of the square, A(s).<b><br>Let r1^2 represent the area of the square, A(s).\\n                            </span>\\n                        </div>\\n                      \\n                        <div class=\"col-2 textblock draggable-group-4\" doc_id=\"29551\" block_id=\"5\">\\n                            \\n                                <img src=\"https://storage.cloud.google.com/usc-data/wikihow/assets-1/www.wikihow.com/images/thumb/d/de/Determine-a-Square-and-Circle-of-Equal-Area-Step-5.jpg/v4-460px-Determine-a-Square-and-Circle-of-Equal-Area-Step-5.jpg\">\\n                            \\n                            <span class=\"textblock_span\" orig_html=\"<b>Given either r1 or r2, we can determine the other one.<b><br>Given either r1 or r2, we can determine the other\" curr_html=\"<b>Given either r1 or r2, we can determine the other one.<b><br>Given either r1 or r2, we can determine the other\">\\n                                <b>Given either r1 or r2, we can determine the other one.<b><br>Given either r1 or r2, we can determine the other\\n                            </span>\\n                        </div>\\n                      \\n                        <div class=\"col-2 textblock draggable-group-4\" doc_id=\"29551\" block_id=\"6\">\\n                            \\n                                <img src=\"https://storage.cloud.google.com/usc-data/wikihow/assets-1/www.wikihow.com/images/thumb/2/27/Determine-a-Square-and-Circle-of-Equal-Area-Step-4.jpg/v4-460px-Determine-a-Square-and-Circle-of-Equal-Area-Step-4.jpg\">\\n                            \\n                            <span class=\"textblock_span\" orig_html=\"<b>Then r1^2 / r2^2 = π and r1 / r2 = sqrt(π).<b><br>Then r1^2 / r2^2 = π and r1 /\" curr_html=\"<b>Then r1^2 / r2^2 = π and r1 / r2 = sqrt(π).<b><br>Then r1^2 / r2^2 = π and r1 /\">\\n                                <b>Then r1^2 / r2^2 = π and r1 / r2 = sqrt(π).<b><br>Then r1^2 / r2^2 = π and r1 /\\n                            </span>\\n                        </div>\\n                      \\n                        <div class=\"col-2 textblock draggable-group-4\" doc_id=\"29551\" block_id=\"7\">\\n                            \\n                                <img src=\"\">\\n                            \\n                            <span class=\"textblock_span\" orig_html=\"<b>Make use of helper articles when proceeding through this tutorial:<b><br>Make use of helper articles when proceeding through this tutorial:<br>* See\" curr_html=\"<b>Make use of helper articles when proceeding through this tutorial:<b><br>Make use of helper articles when proceeding through this tutorial:<br>* See\">\\n                                <b>Make use of helper articles when proceeding through this tutorial:<b><br>Make use of helper articles when proceeding through this tutorial:<br>* See\\n                            </span>\\n                        </div>\\n                      \\n                        <div class=\"col-2 textblock draggable-group-4\" doc_id=\"29551\" block_id=\"8\">\\n                            \\n                                <img src=\"https://storage.cloud.google.com/usc-data/wikihow/assets-1/www.wikihow.com/images/thumb/4/44/Determine-a-Square-and-Circle-of-Equal-Area-Step-2.jpg/v4-460px-Determine-a-Square-and-Circle-of-Equal-Area-Step-2.jpg\">\\n                            \\n                            <span class=\"textblock_span\" orig_html=\"<b>Let πr2^2 = the area of the circle, A(c).<b><br>Let πr2^2 = the area of the circle, A(c).\" curr_html=\"<b>Let πr2^2 = the area of the circle, A(c).<b><br>Let πr2^2 = the area of the circle, A(c).\">\\n                                <b>Let πr2^2 = the area of the circle, A(c).<b><br>Let πr2^2 = the area of the circle, A(c).\\n                            </span>\\n                        </div>\\n                      \\n                  </div>\\n              </div>\\n        </div>\\n\\n        <!-- Droppable Buckets -->\\n        <div class=\"row\">\\n            \\n                <div class=\"col-2\">\\n                    <div class=\"ui-widget-header droppable slot-1 droppable-group-4\">\\n                        <span class=\"step_slot\">\\n                            <b>Step 1</b>\\n                        </span>\\n                    </div>\\n                </div>\\n            \\n                <div class=\"col-2\">\\n                    <div class=\"ui-widget-header droppable slot-2 droppable-group-4\">\\n                        <span class=\"step_slot\">\\n                            <b>Step 2</b>\\n                        </span>\\n                    </div>\\n                </div>\\n            \\n                <div class=\"col-2\">\\n                    <div class=\"ui-widget-header droppable slot-3 droppable-group-4\">\\n                        <span class=\"step_slot\">\\n                            <b>Step 3</b>\\n                        </span>\\n                    </div>\\n                </div>\\n            \\n                <div class=\"col-2\">\\n                    <div class=\"ui-widget-header droppable slot-4 droppable-group-4\">\\n                        <span class=\"step_slot\">\\n                            <b>Step 4</b>\\n                        </span>\\n                    </div>\\n                </div>\\n            \\n                <div class=\"col-2\">\\n                    <div class=\"ui-widget-header droppable slot-5 droppable-group-4\">\\n                        <span class=\"step_slot\">\\n                            <b>Step 5</b>\\n                        </span>\\n                    </div>\\n                </div>\\n            \\n                <div class=\"col-2\">\\n                    <div class=\"ui-widget-header droppable slot-6 droppable-group-4\">\\n                        <span class=\"step_slot\">\\n                            <b>Step 6</b>\\n                        </span>\\n                    </div>\\n                </div>\\n            \\n                <div class=\"col-2\">\\n                    <div class=\"ui-widget-header droppable slot-7 droppable-group-4\">\\n                        <span class=\"step_slot\">\\n                            <b>Step 7</b>\\n                        </span>\\n                    </div>\\n                </div>\\n            \\n                <div class=\"col-2\">\\n                    <div class=\"ui-widget-header droppable slot-8 droppable-group-4\">\\n                        <span class=\"step_slot\">\\n                            <b>Step 8</b>\\n                        </span>\\n                    </div>\\n                </div>\\n            \\n                <div class=\"col-2\">\\n                    <div class=\"ui-widget-header droppable slot-9 droppable-group-4\">\\n                        <span class=\"step_slot\">\\n                            <b>Step 9</b>\\n                        </span>\\n                    </div>\\n                </div>\\n            \\n        </div>\\n    </div>\\n\\n    <!-- Error Buttons -->\\n    <div class=\"row\">\\n          <div class=\"col-4\">\\n            <div class=\"error question\" doc_id=\"29551\" error_type=\\'error\\'>\\n              <p>\\n              <h4>Does this paragraph have errors?</h4>\\n              <div class=\"btn-group-vertical btn-group-toggle error_btn_grp\" role=\"group\" data-toggle=\"buttons\">\\n                  <div class=\"btn-group\">\\n                    <label class=\"btn btn-outline-success btn-sm active\" label=\"legit\">\\n                        <input type=\"radio\" name=\"options\" autocomplete=\"off\" checked>No errors</label>\\n                    <label class=\"btn btn-outline-danger btn-sm\" label=\"text_error\">\\n                        <input type=\"radio\" name=\"options\" autocomplete=\"off\" checked>Errors in Text</label>\\n                    <label class=\"btn btn-outline-danger btn-sm\" label=\"image_error\">\\n                     <input type=\"radio\" name=\"options\" autocomplete=\"off\" checked>Picture not Loading</label>\\n                  <!-- </div> -->\\n                  <!-- <div class=\"btn-group\"> -->\\n                    <label class=\"btn btn-outline-danger btn-sm otherbutton\" label=\"other\">\\n                        <input type=\"radio\" name=\"options\" autocomplete=\"off\" checked>Other</label>\\n                    <input type=\"text\" class=\"form-control hidden otherform\"\\n                           aria-label=\"Text input with radio button\" placeholder=\"S pecify...\">\\n                  </div>\\n              </div>\\n              </p>\\n            </div>\\n          </div>\\n    <!--</div><div class=\"row\">-->\\n          <div class=\"col-4\">\\n            <div class=\"error question\" doc_id=\"29551\" error_type=\\'confidence\\'>\\n              <p>\\n              <h4>How confident are you about your decision (1 low, 5 high)?</h4>\\n              <div class=\"btn-group-vertical btn-group-toggle\" role=\"group\" data-toggle=\"buttons\">\\n                  <div class=\"btn-group\">\\n                    <label class=\"btn btn-outline-success btn-sm\" label=\"redo\">\\n                        <input type=\"radio\" name=\"options\" autocomplete=\"off\" checked>1 - Not At All</label>\\n                    <label class=\"btn btn-outline-success btn-sm\" label=\"check\">\\n                        <input type=\"radio\" name=\"options\" autocomplete=\"off\" checked>2 - Somewhat</label>\\n                    <label class=\"btn btn-outline-success btn-sm\" label=\"glance\">\\n                        <input type=\"radio\" name=\"options\" autocomplete=\"off\" checked>3 - Moderately</label>\\n                  <!-- </div> -->\\n                  <!-- <div class=\"btn-group\"> -->\\n                    <label class=\"btn btn-outline-success btn-sm\" label=\"ok\">\\n                        <input type=\"radio\" name=\"options\" autocomplete=\"off\" checked>4 - Fairly</label>\\n                    <label class=\"btn btn-outline-success btn-sm\" label=\"perfect\">\\n                        <input type=\"radio\" name=\"options\" autocomplete=\"off\" checked>5 - Very</label>\\n                  </div>\\n              </div>\\n             </p>\\n            </div>\\n          </div>\\n    </div>\\n    <!---->\\n    <hr>\\n\\n    \\n    <h3><u>Set 5</u></h3>\\n    <div class=\"draggable_container\">\\n        <div class=\"row annotation hover\"> <!-- justify-content-center\">-->\\n              <div class=\"col-10\">\\n                  <div class=\"textblock_pool\" doc_id=\"59711\">\\n                      \\n                        <div class=\"col-2 textblock draggable-group-5\" doc_id=\"59711\" block_id=\"0\">\\n                            \\n                                <img src=\"https://storage.cloud.google.com/usc-data/wikihow/assets-2/www.wikihow.com/images/thumb/4/40/Make-Concrete-Pumpkins-Step-2.jpg/v4-460px-Make-Concrete-Pumpkins-Step-2.jpg\">\\n                            \\n                            <span class=\"textblock_span\" orig_html=\"<b>Mix up a 20 lb (9.1 kg) bag of <b><br>Mix up a 20 lb (9.1 kg) bag of concrete. Pour\" curr_html=\"<b>Mix up a 20 lb (9.1 kg) bag of <b><br>Mix up a 20 lb (9.1 kg) bag of concrete. Pour\">\\n                                <b>Mix up a 20 lb (9.1 kg) bag of <b><br>Mix up a 20 lb (9.1 kg) bag of concrete. Pour\\n                            </span>\\n                        </div>\\n                      \\n                        <div class=\"col-2 textblock draggable-group-5\" doc_id=\"59711\" block_id=\"1\">\\n                            \\n                                <img src=\"https://storage.cloud.google.com/usc-data/wikihow/assets-2/www.wikihow.com/images/thumb/7/7f/Make-Concrete-Pumpkins-Step-6.jpg/v4-460px-Make-Concrete-Pumpkins-Step-6.jpg\">\\n                            \\n                            <span class=\"textblock_span\" orig_html=\"<b>Let the concrete dry for 1-2 days.<b><br>Let the concrete dry for 1-2 days. Set your pumpkin in a dry place\" curr_html=\"<b>Let the concrete dry for 1-2 days.<b><br>Let the concrete dry for 1-2 days. Set your pumpkin in a dry place\">\\n                                <b>Let the concrete dry for 1-2 days.<b><br>Let the concrete dry for 1-2 days. Set your pumpkin in a dry place\\n                            </span>\\n                        </div>\\n                      \\n                        <div class=\"col-2 textblock draggable-group-5\" doc_id=\"59711\" block_id=\"2\">\\n                            \\n                                <img src=\"https://storage.cloud.google.com/usc-data/wikihow/assets-2/www.wikihow.com/images/thumb/2/22/Make-Concrete-Pumpkins-Step-5.jpg/v4-460px-Make-Concrete-Pumpkins-Step-5.jpg\">\\n                            \\n                            <span class=\"textblock_span\" orig_html=\"<b>Wrap rubber bands or string around the pantyhose to segment it.<b><br>Wrap rubber bands or string around the pantyhose to segment\" curr_html=\"<b>Wrap rubber bands or string around the pantyhose to segment it.<b><br>Wrap rubber bands or string around the pantyhose to segment\">\\n                                <b>Wrap rubber bands or string around the pantyhose to segment it.<b><br>Wrap rubber bands or string around the pantyhose to segment\\n                            </span>\\n                        </div>\\n                      \\n                        <div class=\"col-2 textblock draggable-group-5\" doc_id=\"59711\" block_id=\"3\">\\n                            \\n                                <img src=\"https://storage.cloud.google.com/usc-data/wikihow/assets-2/www.wikihow.com/images/thumb/5/5f/Make-Concrete-Pumpkins-Step-14.jpg/v4-460px-Make-Concrete-Pumpkins-Step-14.jpg\">\\n                            \\n                            <span class=\"textblock_span\" orig_html=\"<b>Let the concrete dry for at least 24-48 hours.<b><br>Let the concrete dry for at least 24-48 hours. Place the plastic\" curr_html=\"<b>Let the concrete dry for at least 24-48 hours.<b><br>Let the concrete dry for at least 24-48 hours. Place the plastic\">\\n                                <b>Let the concrete dry for at least 24-48 hours.<b><br>Let the concrete dry for at least 24-48 hours. Place the plastic\\n                            </span>\\n                        </div>\\n                      \\n                        <div class=\"col-2 textblock draggable-group-5\" doc_id=\"59711\" block_id=\"4\">\\n                            \\n                                <img src=\"https://storage.cloud.google.com/usc-data/wikihow/assets-2/www.wikihow.com/images/thumb/7/7b/Make-Concrete-Pumpkins-Step-16.jpg/v4-460px-Make-Concrete-Pumpkins-Step-16.jpg\">\\n                            \\n                            <span class=\"textblock_span\" orig_html=\"<b>Let the pumpkin finish drying for another 1-2 days.<b><br>Let the pumpkin finish drying for another 1-2 days. Even though the\" curr_html=\"<b>Let the pumpkin finish drying for another 1-2 days.<b><br>Let the pumpkin finish drying for another 1-2 days. Even though the\">\\n                                <b>Let the pumpkin finish drying for another 1-2 days.<b><br>Let the pumpkin finish drying for another 1-2 days. Even though the\\n                            </span>\\n                        </div>\\n                      \\n                        <div class=\"col-2 textblock draggable-group-5\" doc_id=\"59711\" block_id=\"5\">\\n                            \\n                                <img src=\"https://storage.cloud.google.com/usc-data/wikihow/assets-2/www.wikihow.com/images/thumb/e/e2/Make-Concrete-Pumpkins-Step-8.jpg/v4-460px-Make-Concrete-Pumpkins-Step-8.jpg\">\\n                            \\n                            <span class=\"textblock_span\" orig_html=\"<b>Wear a dust mask and protective clothing and lay down a tarp.<b><br>Wear a dust mask and protective clothing and lay\" curr_html=\"<b>Wear a dust mask and protective clothing and lay down a tarp.<b><br>Wear a dust mask and protective clothing and lay\">\\n                                <b>Wear a dust mask and protective clothing and lay down a tarp.<b><br>Wear a dust mask and protective clothing and lay\\n                            </span>\\n                        </div>\\n                      \\n                        <div class=\"col-2 textblock draggable-group-5\" doc_id=\"59711\" block_id=\"6\">\\n                            \\n                                <img src=\"https://storage.cloud.google.com/usc-data/wikihow/assets-2/www.wikihow.com/images/thumb/9/9a/Make-Concrete-Pumpkins-Step-7.jpg/v4-460px-Make-Concrete-Pumpkins-Step-7.jpg\">\\n                            \\n                            <span class=\"textblock_span\" orig_html=\"<b>Cut away the pantyhose with a craft knife.<b><br>Cut away the pantyhose with a craft knife. Once the pumpkin has had\" curr_html=\"<b>Cut away the pantyhose with a craft knife.<b><br>Cut away the pantyhose with a craft knife. Once the pumpkin has had\">\\n                                <b>Cut away the pantyhose with a craft knife.<b><br>Cut away the pantyhose with a craft knife. Once the pumpkin has had\\n                            </span>\\n                        </div>\\n                      \\n                        <div class=\"col-2 textblock draggable-group-5\" doc_id=\"59711\" block_id=\"7\">\\n                            \\n                                <img src=\"https://storage.cloud.google.com/usc-data/wikihow/assets-2/www.wikihow.com/images/thumb/4/40/Make-Concrete-Pumpkins-Step-4.jpg/v4-460px-Make-Concrete-Pumpkins-Step-4.jpg\">\\n                            \\n                            <span class=\"textblock_span\" orig_html=\"<b>Tie a knot in the pantyhose and cut off the excess.<b><br>Tie a knot in the pantyhose and cut off the\" curr_html=\"<b>Tie a knot in the pantyhose and cut off the excess.<b><br>Tie a knot in the pantyhose and cut off the\">\\n                                <b>Tie a knot in the pantyhose and cut off the excess.<b><br>Tie a knot in the pantyhose and cut off the\\n                            </span>\\n                        </div>\\n                      \\n                        <div class=\"col-2 textblock draggable-group-5\" doc_id=\"59711\" block_id=\"8\">\\n                            \\n                                <img src=\"https://storage.cloud.google.com/usc-data/wikihow/assets-2/www.wikihow.com/images/thumb/2/2f/Make-Concrete-Pumpkins-Step-3.jpg/v4-460px-Make-Concrete-Pumpkins-Step-3.jpg\">\\n                            \\n                            <span class=\"textblock_span\" orig_html=\"<b>Scoop a 10–12 in (25–30 cm) ball of concrete into a pair of pantyhose.<b><br>Scoop a 10–12 in (25–30 cm) ball\" curr_html=\"<b>Scoop a 10–12 in (25–30 cm) ball of concrete into a pair of pantyhose.<b><br>Scoop a 10–12 in (25–30 cm) ball\">\\n                                <b>Scoop a 10–12 in (25–30 cm) ball of concrete into a pair of pantyhose.<b><br>Scoop a 10–12 in (25–30 cm) ball\\n                            </span>\\n                        </div>\\n                      \\n                        <div class=\"col-2 textblock draggable-group-5\" doc_id=\"59711\" block_id=\"9\">\\n                            \\n                                <img src=\"https://storage.cloud.google.com/usc-data/wikihow/assets-2/www.wikihow.com/images/thumb/3/3d/Make-Concrete-Pumpkins-Step-10.jpg/v4-460px-Make-Concrete-Pumpkins-Step-10.jpg\">\\n                            \\n                            <span class=\"textblock_span\" orig_html=\"<b>Fill a plastic pumpkin with the concrete to about 1 in (2.5 cm) from the top.<b><br>Fill a plastic pumpkin with\" curr_html=\"<b>Fill a plastic pumpkin with the concrete to about 1 in (2.5 cm) from the top.<b><br>Fill a plastic pumpkin with\">\\n                                <b>Fill a plastic pumpkin with the concrete to about 1 in (2.5 cm) from the top.<b><br>Fill a plastic pumpkin with\\n                            </span>\\n                        </div>\\n                      \\n                        <div class=\"col-2 textblock draggable-group-5\" doc_id=\"59711\" block_id=\"10\">\\n                            \\n                                <img src=\"https://storage.cloud.google.com/usc-data/wikihow/assets-2/www.wikihow.com/images/thumb/9/9a/Make-Concrete-Pumpkins-Step-15.jpg/v4-460px-Make-Concrete-Pumpkins-Step-15.jpg\">\\n                            \\n                            <span class=\"textblock_span\" orig_html=\"<b>Use a utility knife to carefully remove the pail and cup.<b><br>Use a utility knife to carefully remove the pail and\" curr_html=\"<b>Use a utility knife to carefully remove the pail and cup.<b><br>Use a utility knife to carefully remove the pail and\">\\n                                <b>Use a utility knife to carefully remove the pail and cup.<b><br>Use a utility knife to carefully remove the pail and\\n                            </span>\\n                        </div>\\n                      \\n                        <div class=\"col-2 textblock draggable-group-5\" doc_id=\"59711\" block_id=\"11\">\\n                            \\n                                <img src=\"https://storage.cloud.google.com/usc-data/wikihow/assets-2/www.wikihow.com/images/thumb/b/b8/Make-Concrete-Pumpkins-Step-11.jpg/v4-460px-Make-Concrete-Pumpkins-Step-11.jpg\">\\n                            \\n                            <span class=\"textblock_span\" orig_html=\"<b>Push a disposable cup or bottle into the center of the wet concrete.<b><br>Push a disposable cup or bottle into the\" curr_html=\"<b>Push a disposable cup or bottle into the center of the wet concrete.<b><br>Push a disposable cup or bottle into the\">\\n                                <b>Push a disposable cup or bottle into the center of the wet concrete.<b><br>Push a disposable cup or bottle into the\\n                            </span>\\n                        </div>\\n                      \\n                        <div class=\"col-2 textblock draggable-group-5\" doc_id=\"59711\" block_id=\"12\">\\n                            \\n                                <img src=\"https://storage.cloud.google.com/usc-data/wikihow/assets-2/www.wikihow.com/images/thumb/8/85/Make-Concrete-Pumpkins-Step-1.jpg/v4-460px-Make-Concrete-Pumpkins-Step-1.jpg\">\\n                            \\n                            <span class=\"textblock_span\" orig_html=\"<b>Lay down a tarp and put on safety gear.<b><br>Lay down a tarp and put on safety gear. Working with concrete\" curr_html=\"<b>Lay down a tarp and put on safety gear.<b><br>Lay down a tarp and put on safety gear. Working with concrete\">\\n                                <b>Lay down a tarp and put on safety gear.<b><br>Lay down a tarp and put on safety gear. Working with concrete\\n                            </span>\\n                        </div>\\n                      \\n                        <div class=\"col-2 textblock draggable-group-5\" doc_id=\"59711\" block_id=\"13\">\\n                            \\n                                <img src=\"https://storage.cloud.google.com/usc-data/wikihow/assets-2/www.wikihow.com/images/thumb/7/7f/Make-Concrete-Pumpkins-Step-9.jpg/v4-460px-Make-Concrete-Pumpkins-Step-9.jpg\">\\n                            \\n                            <span class=\"textblock_span\" orig_html=\"<b>Mix a 40 lb (18 kg) bag of concrete in a plastic tub.<b><br>Mix a 40 lb (18 kg) bag of\" curr_html=\"<b>Mix a 40 lb (18 kg) bag of concrete in a plastic tub.<b><br>Mix a 40 lb (18 kg) bag of\">\\n                                <b>Mix a 40 lb (18 kg) bag of concrete in a plastic tub.<b><br>Mix a 40 lb (18 kg) bag of\\n                            </span>\\n                        </div>\\n                      \\n                        <div class=\"col-2 textblock draggable-group-5\" doc_id=\"59711\" block_id=\"14\">\\n                            \\n                                <img src=\"https://storage.cloud.google.com/usc-data/wikihow/assets-2/www.wikihow.com/images/thumb/c/c2/Make-Concrete-Pumpkins-Step-12.jpg/v4-460px-Make-Concrete-Pumpkins-Step-12.jpg\">\\n                            \\n                            <span class=\"textblock_span\" orig_html=\"<b>Tap the pumpkin firmly on the ground to remove air bubbles.<b><br>Tap the pumpkin firmly on the ground to remove air\" curr_html=\"<b>Tap the pumpkin firmly on the ground to remove air bubbles.<b><br>Tap the pumpkin firmly on the ground to remove air\">\\n                                <b>Tap the pumpkin firmly on the ground to remove air bubbles.<b><br>Tap the pumpkin firmly on the ground to remove air\\n                            </span>\\n                        </div>\\n                      \\n                        <div class=\"col-2 textblock draggable-group-5\" doc_id=\"59711\" block_id=\"15\">\\n                            \\n                                <img src=\"https://storage.cloud.google.com/usc-data/wikihow/assets-2/www.wikihow.com/images/thumb/1/19/Make-Concrete-Pumpkins-Step-13.jpg/v4-460px-Make-Concrete-Pumpkins-Step-13.jpg\">\\n                            \\n                            <span class=\"textblock_span\" orig_html=\"<b>Cover the top of the bucket with a brick or other heavy object.<b><br>Cover the top of the bucket with a\" curr_html=\"<b>Cover the top of the bucket with a brick or other heavy object.<b><br>Cover the top of the bucket with a\">\\n                                <b>Cover the top of the bucket with a brick or other heavy object.<b><br>Cover the top of the bucket with a\\n                            </span>\\n                        </div>\\n                      \\n                  </div>\\n              </div>\\n        </div>\\n\\n        <!-- Droppable Buckets -->\\n        <div class=\"row\">\\n            \\n                <div class=\"col-2\">\\n                    <div class=\"ui-widget-header droppable slot-1 droppable-group-5\">\\n                        <span class=\"step_slot\">\\n                            <b>Step 1</b>\\n                        </span>\\n                    </div>\\n                </div>\\n            \\n                <div class=\"col-2\">\\n                    <div class=\"ui-widget-header droppable slot-2 droppable-group-5\">\\n                        <span class=\"step_slot\">\\n                            <b>Step 2</b>\\n                        </span>\\n                    </div>\\n                </div>\\n            \\n                <div class=\"col-2\">\\n                    <div class=\"ui-widget-header droppable slot-3 droppable-group-5\">\\n                        <span class=\"step_slot\">\\n                            <b>Step 3</b>\\n                        </span>\\n                    </div>\\n                </div>\\n            \\n                <div class=\"col-2\">\\n                    <div class=\"ui-widget-header droppable slot-4 droppable-group-5\">\\n                        <span class=\"step_slot\">\\n                            <b>Step 4</b>\\n                        </span>\\n                    </div>\\n                </div>\\n            \\n                <div class=\"col-2\">\\n                    <div class=\"ui-widget-header droppable slot-5 droppable-group-5\">\\n                        <span class=\"step_slot\">\\n                            <b>Step 5</b>\\n                        </span>\\n                    </div>\\n                </div>\\n            \\n                <div class=\"col-2\">\\n                    <div class=\"ui-widget-header droppable slot-6 droppable-group-5\">\\n                        <span class=\"step_slot\">\\n                            <b>Step 6</b>\\n                        </span>\\n                    </div>\\n                </div>\\n            \\n                <div class=\"col-2\">\\n                    <div class=\"ui-widget-header droppable slot-7 droppable-group-5\">\\n                        <span class=\"step_slot\">\\n                            <b>Step 7</b>\\n                        </span>\\n                    </div>\\n                </div>\\n            \\n                <div class=\"col-2\">\\n                    <div class=\"ui-widget-header droppable slot-8 droppable-group-5\">\\n                        <span class=\"step_slot\">\\n                            <b>Step 8</b>\\n                        </span>\\n                    </div>\\n                </div>\\n            \\n                <div class=\"col-2\">\\n                    <div class=\"ui-widget-header droppable slot-9 droppable-group-5\">\\n                        <span class=\"step_slot\">\\n                            <b>Step 9</b>\\n                        </span>\\n                    </div>\\n                </div>\\n            \\n                <div class=\"col-2\">\\n                    <div class=\"ui-widget-header droppable slot-10 droppable-group-5\">\\n                        <span class=\"step_slot\">\\n                            <b>Step 10</b>\\n                        </span>\\n                    </div>\\n                </div>\\n            \\n                <div class=\"col-2\">\\n                    <div class=\"ui-widget-header droppable slot-11 droppable-group-5\">\\n                        <span class=\"step_slot\">\\n                            <b>Step 11</b>\\n                        </span>\\n                    </div>\\n                </div>\\n            \\n                <div class=\"col-2\">\\n                    <div class=\"ui-widget-header droppable slot-12 droppable-group-5\">\\n                        <span class=\"step_slot\">\\n                            <b>Step 12</b>\\n                        </span>\\n                    </div>\\n                </div>\\n            \\n                <div class=\"col-2\">\\n                    <div class=\"ui-widget-header droppable slot-13 droppable-group-5\">\\n                        <span class=\"step_slot\">\\n                            <b>Step 13</b>\\n                        </span>\\n                    </div>\\n                </div>\\n            \\n                <div class=\"col-2\">\\n                    <div class=\"ui-widget-header droppable slot-14 droppable-group-5\">\\n                        <span class=\"step_slot\">\\n                            <b>Step 14</b>\\n                        </span>\\n                    </div>\\n                </div>\\n            \\n                <div class=\"col-2\">\\n                    <div class=\"ui-widget-header droppable slot-15 droppable-group-5\">\\n                        <span class=\"step_slot\">\\n                            <b>Step 15</b>\\n                        </span>\\n                    </div>\\n                </div>\\n            \\n                <div class=\"col-2\">\\n                    <div class=\"ui-widget-header droppable slot-16 droppable-group-5\">\\n                        <span class=\"step_slot\">\\n                            <b>Step 16</b>\\n                        </span>\\n                    </div>\\n                </div>\\n            \\n        </div>\\n    </div>\\n\\n    <!-- Error Buttons -->\\n    <div class=\"row\">\\n          <div class=\"col-4\">\\n            <div class=\"error question\" doc_id=\"59711\" error_type=\\'error\\'>\\n              <p>\\n              <h4>Does this paragraph have errors?</h4>\\n              <div class=\"btn-group-vertical btn-group-toggle error_btn_grp\" role=\"group\" data-toggle=\"buttons\">\\n                  <div class=\"btn-group\">\\n                    <label class=\"btn btn-outline-success btn-sm active\" label=\"legit\">\\n                        <input type=\"radio\" name=\"options\" autocomplete=\"off\" checked>No errors</label>\\n                    <label class=\"btn btn-outline-danger btn-sm\" label=\"text_error\">\\n                        <input type=\"radio\" name=\"options\" autocomplete=\"off\" checked>Errors in Text</label>\\n                    <label class=\"btn btn-outline-danger btn-sm\" label=\"image_error\">\\n                     <input type=\"radio\" name=\"options\" autocomplete=\"off\" checked>Picture not Loading</label>\\n                  <!-- </div> -->\\n                  <!-- <div class=\"btn-group\"> -->\\n                    <label class=\"btn btn-outline-danger btn-sm otherbutton\" label=\"other\">\\n                        <input type=\"radio\" name=\"options\" autocomplete=\"off\" checked>Other</label>\\n                    <input type=\"text\" class=\"form-control hidden otherform\"\\n                           aria-label=\"Text input with radio button\" placeholder=\"S pecify...\">\\n                  </div>\\n              </div>\\n              </p>\\n            </div>\\n          </div>\\n    <!--</div><div class=\"row\">-->\\n          <div class=\"col-4\">\\n            <div class=\"error question\" doc_id=\"59711\" error_type=\\'confidence\\'>\\n              <p>\\n              <h4>How confident are you about your decision (1 low, 5 high)?</h4>\\n              <div class=\"btn-group-vertical btn-group-toggle\" role=\"group\" data-toggle=\"buttons\">\\n                  <div class=\"btn-group\">\\n                    <label class=\"btn btn-outline-success btn-sm\" label=\"redo\">\\n                        <input type=\"radio\" name=\"options\" autocomplete=\"off\" checked>1 - Not At All</label>\\n                    <label class=\"btn btn-outline-success btn-sm\" label=\"check\">\\n                        <input type=\"radio\" name=\"options\" autocomplete=\"off\" checked>2 - Somewhat</label>\\n                    <label class=\"btn btn-outline-success btn-sm\" label=\"glance\">\\n                        <input type=\"radio\" name=\"options\" autocomplete=\"off\" checked>3 - Moderately</label>\\n                  <!-- </div> -->\\n                  <!-- <div class=\"btn-group\"> -->\\n                    <label class=\"btn btn-outline-success btn-sm\" label=\"ok\">\\n                        <input type=\"radio\" name=\"options\" autocomplete=\"off\" checked>4 - Fairly</label>\\n                    <label class=\"btn btn-outline-success btn-sm\" label=\"perfect\">\\n                        <input type=\"radio\" name=\"options\" autocomplete=\"off\" checked>5 - Very</label>\\n                  </div>\\n              </div>\\n             </p>\\n            </div>\\n          </div>\\n    </div>\\n    <!---->\\n    <hr>\\n\\n<input type=\\'hidden\\' value=\\'\\' name=\\'data\\' id=\\'data\\'/>\\n<button type=\"button\" id=\"submitButton\" class=\"btn btn-danger btn-lg submit\">Submit</button>\\n</body>\\n\\n<script type=\"text/javascript\">\\n    $(\\'.textblock\\').each(function(){\\n        $(this).draggable({\\n            cancel: \\'.textblock_span\\', // cancels the drag action for highlighting.\\n            containment: $(this).parents(\\'.draggable_container\\'),\\n        })\\n    })\\n\\n    $(\\'.droppable\\').each(function () {\\n        $(this).droppable({\\n                classes: {\\n                    \"ui-droppable-active\": \"ui-state-active\",\\n                    \"ui-droppable-hover\": \"ui-state-hover\"\\n                },\\n                // filter so that only draggables of a specific step can be dropped here.\\n                accept: function (d) {\\n                    var group_num = $(this).attr(\\'class\\').split(\\' \\')\\n                        .filter(function(d) {return d.indexOf(\\'droppable-group\\') !== -1} )[0]\\n                        .split(\\'-\\')[2]\\n                    return $(d).hasClass(\\'draggable-group-\\' + group_num);\\n                },\\n                // when a draggable is dropped, then this happens.\\n                drop: function (event, ui) {\\n                    var step_num = $(this).attr(\\'class\\').split(\\' \\')\\n                        .filter(function (d) {\\n                            return d.indexOf(\\'slot\\') != -1\\n                        })[0]\\n                        .split(\\'-\\')[1]\\n                    $(ui.draggable).addClass(\"step-\" + step_num)\\n                },\\n                // when a draggable leaves the droppable div, then this happens.\\n                out: function (event, ui) {\\n                    var step_num = $(this).attr(\\'class\\').split(\\' \\')\\n                        .filter(function (d) {\\n                            return d.indexOf(\\'slot\\') != -1\\n                        })[0]\\n                        .split(\\'-\\')[1]\\n                    $(ui.draggable).removeClass(\"step-\" + step_num)\\n\\n                }\\n            });\\n    })\\n\\n    //\\n    var max_height = d3.max($(\\'.textblock\\').map(function(i, d){return $(d).height()}))\\n    $(\\'.droppable\\').css(\\'height\\', max_height * 1.2)\\n\\n    // highlight text\\n    function get_selection(element) {\\n        var start = 0, end = 0;\\n            var sel, range, priorRange;\\n            if (typeof window.getSelection != \"undefined\") {\\n                sel = window.getSelection()\\n                range = window.getSelection().getRangeAt(0);\\n                priorRange = range.cloneRange();\\n                priorRange.selectNodeContents(element);\\n                priorRange.setEnd(range.startContainer, range.startOffset);\\n                start = priorRange.toString().length;\\n                end = start + range.toString().length;\\n            } else if (typeof document.selection != \"undefined\" && (sel = document.selection).type != \"Control\") {\\n                range = sel.createRange();\\n                priorRange = document.body.createTextRange();\\n                priorRange.moveToElementText(element);\\n                priorRange.setEndPoint(\"EndToStart\", range);\\n                start = priorRange.text.length;\\n                end = start + range.text.length;\\n            }\\n        return [start, end, sel]\\n    }\\n\\n    function get_selection_html() {\\n        var html = \"\";\\n        if (typeof window.getSelection != \"undefined\") {\\n            var sel = window.getSelection();\\n            if (sel.rangeCount) {\\n                var container = document.createElement(\"div\");\\n                for (var i = 0, len = sel.rangeCount; i < len; ++i) {\\n                    container.appendChild(sel.getRangeAt(i).cloneContents());\\n                }\\n                html = container.innerHTML;\\n            }\\n        } else if (typeof document.selection != \"undefined\") {\\n            if (document.selection.type == \"Text\") {\\n                html = document.selection.createRange().htmlText;\\n            }\\n        }\\n        return html;\\n    }\\n\\n    function make_span(element, range){\\n        var span_elem = document.createElement(\\'span\\')\\n        $(span_elem).addClass(\\'highlighted\\')\\n        $(span_elem).append(element);\\n        range.insertNode(span_elem);\\n    }\\n\\n    function highlight_text(element){\\n        var [text_start, text_end, selection] = get_selection(element)\\n        sel_html = get_selection_html()\\n        curr_html = $(element).attr(\\'curr_html\\')\\n        var selected_text = selection.toString()\\n        var range = selection.getRangeAt(0)\\n\\n        // We\\'ll skip over this for now and use \\'*\\' bullets rather than ul/lis\\'.\\n        // if true, this means that the selected HTML overlaps with list elements.\\n        if (sel_html.indexOf(\\'<li>\\') != -1){\\n            // Case 1. The highlight starts and ends within list elements.\\n            if ($(range.startContainer).parent().is(\"li\") && $(range.endContainer).parent().is(\"li\")){\\n\\n            }\\n            // Case 2. The highlight starts in text and ends in list elements.\\n            else if (!$(range.startContainer).parent().is(\"li\") && $(range.endContainer).parent().is(\"li\")){\\n\\n            }\\n            // Case 3. The highlight starts in list elements and ends in text.\\n            else if ($(range.startContainer).parent().is(\"li\") && !$(range.endContainer).parent().is(\"li\")){}\\n            // Case 4. The highlight starts in text and ends in text. (Will this trigger true?)\\n            else if (!$(range.startContainer).parent().is(\"li\") && !$(range.endContainer).parent().is(\"li\")){}\\n        }\\n        else {\\n            // if false\\n            // get and update selection for text on the lefthand side\\n            // create span element\\n            make_span(range.extractContents(), range)\\n            return [text_start, text_end, selected_text]\\n        }\\n    }\\n\\n    $(\\'.textblock_span\\').on(\"mouseup\", function () {\\n        highlight_text(this)\\n        var par_div = $(this).parent()\\n        // handle the cancel highlight.\\n        if (par_div.find(\\'.cancel_highlight\\').length == 0){\\n            var span_elem_div = document.createElement(\\'div\\')\\n            var span_elem = document.createElement(\\'span\\')\\n            $(span_elem).html(\\'<em>Remove Highlight</em>\\')\\n\\n            $(span_elem_div).append(span_elem)\\n            $(span_elem_div).attr(\\'class\\', \\'cancel_highlight\\')\\n            $(span_elem_div).on(\\'click\\', function(e, d){\\n                var div = $(this).parent()\\n                remove_highlight(div)\\n            })\\n            par_div.append(span_elem_div)\\n        }\\n    });\\n\\n    function remove_highlight(step_block_div){\\n        var orig_html = step_block_div.find(\\'.textblock_span\\').attr(\\'orig_html\\')\\n        step_block_div.find(\\'.textblock_span\\').html(orig_html)\\n        step_block_div.find(\\'.cancel_highlight\\').remove()\\n    }\\n\\n    function submit_data() {\\n\\t\\talert(\\'submitting...\\')\\n\\t\\tvar output = []\\n\\t\\t// gather questions\\n\\t\\t$(\\'.question\\').each(function(i, d) {\\n\\t\\t\\tdoc_id = $(d).attr(\\'doc_id\\')\\n\\t\\t\\tquestion_class = $(d).attr(\\'class\\').split(\\' \\')[0]\\n\\t\\t\\tlabel = $(d).find(\\'label.active\\').attr(\\'label\\')\\n\\t\\t\\t//\\n\\t\\t\\toutput = output.concat({\\n\\t\\t\\t\\t\"doc_id\": doc_id,\\n\\t\\t\\t\\t\"question_class\": question_class,\\n\\t\\t\\t\\t\"label\": label\\n\\t\\t\\t})\\n\\t\\t})\\n        var step_list = []\\n\\t\\t$(\\'.textblock\\').each(function(i, d) {\\n            var doc_id = $(d).attr(\\'doc_id\\')\\n            var block_id = $(d).attr(\\'block_id\\')\\n            var step_label = $(d).attr(\\'class\\')\\n                                 .split(/\\\\s+/)\\n                                 .filter(function(d){return d.indexOf(\\'step\\') != -1})\\n\\n            var step_html = $(d).find(\\'span\\').html()\\n            if (step_label.length == 1) {\\n                step_label = step_label[0]\\n                var unique_step_id = \\'doc_id__\\' + doc_id + \\'__step_id__\\' + step_label\\n                if (step_list.indexOf(unique_step_id) != -1){\\n                    alert(\\'We found 2 or more text blocks in the same bin! Please make sure each text block is in \\' +\\n                        \\'it\\\\\\'s own bin. If you cannot decide the order of certain text blocks, just choose one order.\\'\\n                    )\\n                    return false\\n                }\\n                step_list = step_list.concat(unique_step_id)\\n            } else {\\n                alert(\\'We found text blocks unlabeled! Please place all the blocks in their step slots. \\' +\\n                    \\'(When you are moving the block, be sure to move it directly over the step slot, \\' +\\n                    \\'until it changes color.)\\'\\n                )\\n                return false\\n            }\\n\\n            var text = $(d).find(\\'span\\').html()\\n            output = output.concat({\\n                \\'doc_id\\': doc_id,\\n                \\'question_class\\': \\'block_label\\',\\n                \\'block_id\\': block_id,\\n                \\'step_label\\': step_label,\\n                \\'step_html\\': step_html,\\n                \\'is_highlighted\\': (text.indexOf(\\'span\\') != -1)\\n            })\\n        })\\n        // cache data for MTurk.\\n        $(\\'#data\\').attr(\\'value\\', JSON.stringify(output))\\n        return output\\n\\t}\\n\\n\\t// submit answers\\n\\t$(\\'#submitButton\\').on(\\'click\\', function(e) {\\n        var to_submit = submit_data()\\n        console.log(to_submit)\\n        if (!to_submit) {\\n            e.preventDefault();\\n        }\\n    })\\n\\n</script>\\n</body>\\n</html>\\n]]>\\n\\n</HTMLContent>\\n<FrameHeight>600</FrameHeight>\\n</HTMLQuestion>',\n",
       "  'Keywords': 'text, sorting, highlighting',\n",
       "  'HITStatus': 'Assignable',\n",
       "  'MaxAssignments': 3,\n",
       "  'Reward': '0.30',\n",
       "  'AutoApprovalDelayInSeconds': 28800,\n",
       "  'Expiration': datetime.datetime(2021, 4, 1, 15, 42, 14, tzinfo=tzlocal()),\n",
       "  'AssignmentDurationInSeconds': 6000,\n",
       "  'QualificationRequirements': [{'QualificationTypeId': '000000000000000000L0',\n",
       "    'Comparator': 'GreaterThanOrEqualTo',\n",
       "    'IntegerValues': [80],\n",
       "    'RequiredToPreview': False,\n",
       "    'ActionsGuarded': 'Accept'},\n",
       "   {'QualificationTypeId': '00000000000000000071',\n",
       "    'Comparator': 'EqualTo',\n",
       "    'LocaleValues': [{'Country': 'US'}],\n",
       "    'RequiredToPreview': True,\n",
       "    'ActionsGuarded': 'PreviewAndAccept'},\n",
       "   {'QualificationTypeId': '000000000000000000L0',\n",
       "    'Comparator': 'GreaterThanOrEqualTo',\n",
       "    'IntegerValues': [90],\n",
       "    'RequiredToPreview': False,\n",
       "    'ActionsGuarded': 'Accept'}],\n",
       "  'HITReviewStatus': 'NotReviewed',\n",
       "  'NumberOfAssignmentsPending': 0,\n",
       "  'NumberOfAssignmentsAvailable': 3,\n",
       "  'NumberOfAssignmentsCompleted': 0},\n",
       " 'ResponseMetadata': {'RequestId': '572b1dd0-fb21-447a-86b5-e3609c4cbdae',\n",
       "  'HTTPStatusCode': 200,\n",
       "  'HTTPHeaders': {'x-amzn-requestid': '572b1dd0-fb21-447a-86b5-e3609c4cbdae',\n",
       "   'content-type': 'application/x-amz-json-1.1',\n",
       "   'content-length': '100360',\n",
       "   'date': 'Tue, 30 Mar 2021 22:42:14 GMT'},\n",
       "  'RetryAttempts': 0}}"
      ]
     },
     "execution_count": 173,
     "metadata": {},
     "output_type": "execute_result"
    }
   ],
   "source": [
    "mj.launch_HIT(mturk, html_str, args=args)"
   ]
  },
  {
   "cell_type": "code",
   "execution_count": null,
   "metadata": {},
   "outputs": [],
   "source": []
  },
  {
   "cell_type": "code",
   "execution_count": null,
   "metadata": {},
   "outputs": [],
   "source": []
  },
  {
   "cell_type": "code",
   "execution_count": null,
   "metadata": {},
   "outputs": [],
   "source": []
  },
  {
   "cell_type": "code",
   "execution_count": null,
   "metadata": {},
   "outputs": [],
   "source": []
  },
  {
   "cell_type": "code",
   "execution_count": null,
   "metadata": {},
   "outputs": [],
   "source": []
  },
  {
   "cell_type": "code",
   "execution_count": null,
   "metadata": {},
   "outputs": [],
   "source": []
  },
  {
   "cell_type": "code",
   "execution_count": null,
   "metadata": {},
   "outputs": [],
   "source": []
  },
  {
   "cell_type": "code",
   "execution_count": null,
   "metadata": {},
   "outputs": [],
   "source": []
  },
  {
   "cell_type": "code",
   "execution_count": 16,
   "metadata": {},
   "outputs": [],
   "source": [
    "test_file = open(\"../mturk/html_files/sandbox_csv_mixmodal_v1/task-1-mixmodal1.html\").read()"
   ]
  },
  {
   "cell_type": "code",
   "execution_count": 159,
   "metadata": {
    "scrolled": true
   },
   "outputs": [
    {
     "ename": "TypeError",
     "evalue": "launch_HIT() got an unexpected keyword argument 'title'",
     "output_type": "error",
     "traceback": [
      "\u001b[0;31m---------------------------------------------------------------------------\u001b[0m",
      "\u001b[0;31mTypeError\u001b[0m                                 Traceback (most recent call last)",
      "\u001b[0;32m<ipython-input-159-50e151ecc531>\u001b[0m in \u001b[0;36m<module>\u001b[0;34m\u001b[0m\n\u001b[0;32m----> 1\u001b[0;31m \u001b[0mmj\u001b[0m\u001b[0;34m.\u001b[0m\u001b[0mlaunch_HIT\u001b[0m\u001b[0;34m(\u001b[0m\u001b[0mmturk\u001b[0m\u001b[0;34m,\u001b[0m \u001b[0mtest_file\u001b[0m\u001b[0;34m,\u001b[0m \u001b[0mtitle\u001b[0m\u001b[0;34m=\u001b[0m\u001b[0;34m\"Test Wikihow\"\u001b[0m\u001b[0;34m,\u001b[0m \u001b[0mdescription\u001b[0m\u001b[0;34m=\u001b[0m\u001b[0;34m\"Put some tasks in order!\"\u001b[0m\u001b[0;34m)\u001b[0m\u001b[0;34m\u001b[0m\u001b[0;34m\u001b[0m\u001b[0m\n\u001b[0m",
      "\u001b[0;31mTypeError\u001b[0m: launch_HIT() got an unexpected keyword argument 'title'"
     ]
    }
   ],
   "source": [
    "mj.launch_HIT(mturk, test_file, title=\"Test Wikihow\", description=\"Put some tasks in order!\")"
   ]
  },
  {
   "cell_type": "code",
   "execution_count": null,
   "metadata": {},
   "outputs": [],
   "source": []
  },
  {
   "cell_type": "code",
   "execution_count": null,
   "metadata": {},
   "outputs": [],
   "source": []
  },
  {
   "cell_type": "code",
   "execution_count": null,
   "metadata": {},
   "outputs": [],
   "source": []
  },
  {
   "cell_type": "code",
   "execution_count": null,
   "metadata": {},
   "outputs": [],
   "source": []
  },
  {
   "cell_type": "code",
   "execution_count": null,
   "metadata": {},
   "outputs": [],
   "source": []
  }
 ],
 "metadata": {
  "hide_input": false,
  "kernelspec": {
   "display_name": "Python 3",
   "language": "python",
   "name": "python3"
  },
  "language_info": {
   "codemirror_mode": {
    "name": "ipython",
    "version": 3
   },
   "file_extension": ".py",
   "mimetype": "text/x-python",
   "name": "python",
   "nbconvert_exporter": "python",
   "pygments_lexer": "ipython3",
   "version": "3.7.6"
  }
 },
 "nbformat": 4,
 "nbformat_minor": 4
}
