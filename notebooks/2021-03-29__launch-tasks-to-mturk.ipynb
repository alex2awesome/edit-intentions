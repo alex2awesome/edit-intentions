{
 "cells": [
  {
   "cell_type": "code",
   "execution_count": 34,
   "metadata": {},
   "outputs": [],
   "source": [
    "from tqdm.auto import tqdm\n",
    "import boto3\n",
    "from boto.mturk.connection import MTurkConnection\n",
    "from boto.mturk.question import HTMLQuestion\n",
    "from boto.mturk.question import ExternalQuestion\n",
    "\n",
    "\n",
    "from IPython.display import display, HTML\n",
    "from boto.mturk.qualification import (\n",
    "    Qualifications,\n",
    "    PercentAssignmentsApprovedRequirement, \n",
    "    NumberHitsApprovedRequirement\n",
    ")\n",
    "\n",
    "import sys, os, json, re\n",
    "sys.path.insert(0, '../')\n",
    "from mturk import mturk_handler as um"
   ]
  },
  {
   "cell_type": "markdown",
   "metadata": {},
   "source": [
    "# Make file from template"
   ]
  },
  {
   "cell_type": "code",
   "execution_count": 35,
   "metadata": {},
   "outputs": [
    {
     "data": {
      "text/plain": [
       "<module 'mturk.make_mturk_from_json' from '../mturk/make_mturk_from_json.py'>"
      ]
     },
     "execution_count": 35,
     "metadata": {},
     "output_type": "execute_result"
    }
   ],
   "source": [
    "from mturk import make_mturk_from_json as mj\n",
    "from importlib import reload\n",
    "reload(mj)"
   ]
  },
  {
   "cell_type": "code",
   "execution_count": 36,
   "metadata": {},
   "outputs": [],
   "source": [
    "data_file = os.path.join('..', 'app', 'data', 'data-downsampled.json')"
   ]
  },
  {
   "cell_type": "code",
   "execution_count": 37,
   "metadata": {},
   "outputs": [],
   "source": [
    "with open(data_file) as f:\n",
    "    input_data = json.load(f)"
   ]
  },
  {
   "cell_type": "code",
   "execution_count": 38,
   "metadata": {
    "scrolled": true
   },
   "outputs": [
    {
     "name": "stdout",
     "output_type": "stream",
     "text": [
      "sample keys:\n",
      "('nyt', 810619, 0, 1)\n",
      "('independent', 976785, 0, 1)\n",
      "('ap', 1548, 4, 5)\n",
      "('ap', 3571, 14, 15)\n",
      "('ap', 767, 1, 2)\n",
      "\n",
      "num documents:\n",
      "400\n"
     ]
    }
   ],
   "source": [
    "PRINT_DETAILS = True\n",
    "keys = list(input_data.keys())\n",
    "if PRINT_DETAILS:\n",
    "    print('sample keys:')\n",
    "    print('\\n'.join(keys[:5]))\n",
    "    print('\\nnum documents:')\n",
    "    print(len(keys))\n",
    "\n",
    "SHUFFLE_DATA = False\n",
    "if SHUFFLE_DATA:\n",
    "    import random\n",
    "    random.shuffle(keys)"
   ]
  },
  {
   "cell_type": "code",
   "execution_count": 39,
   "metadata": {},
   "outputs": [],
   "source": [
    "# select file\n",
    "k = keys[0]"
   ]
  },
  {
   "cell_type": "code",
   "execution_count": 40,
   "metadata": {},
   "outputs": [],
   "source": [
    "# get data\n",
    "datum = input_data[k]\n",
    "nodes = datum['nodes']\n",
    "arcs = datum['arcs']\n",
    "for n in nodes:\n",
    "    n['sentence'] = n['sentence'].replace('\"', '')\n",
    "datum['nodes'] = nodes\n",
    "datum['arcs'] = arcs"
   ]
  },
  {
   "cell_type": "code",
   "execution_count": 41,
   "metadata": {},
   "outputs": [],
   "source": [
    "data_id = re.split('\\(\\'|\\'\\, |\\, |\\)', k)\n",
    "data_id = list(filter(lambda x: x != '', data_id))\n",
    "data_id = '-'.join(data_id)"
   ]
  },
  {
   "cell_type": "code",
   "execution_count": 42,
   "metadata": {
    "scrolled": true
   },
   "outputs": [],
   "source": [
    "output = mj.render_page(\n",
    "    datum, \n",
    "    data_id,\n",
    "    write=True, \n",
    "    template_folder='../app/templates/', \n",
    "    template_fn='visualize-doc-level-edits-d3.html',\n",
    "    output_dir='../mturk/tasks_to_launch'\n",
    ")"
   ]
  },
  {
   "cell_type": "code",
   "execution_count": null,
   "metadata": {},
   "outputs": [],
   "source": []
  },
  {
   "cell_type": "code",
   "execution_count": null,
   "metadata": {},
   "outputs": [],
   "source": []
  },
  {
   "cell_type": "code",
   "execution_count": null,
   "metadata": {},
   "outputs": [],
   "source": []
  },
  {
   "cell_type": "code",
   "execution_count": null,
   "metadata": {},
   "outputs": [],
   "source": []
  },
  {
   "cell_type": "markdown",
   "metadata": {},
   "source": [
    "# Launch to MTurk"
   ]
  },
  {
   "cell_type": "code",
   "execution_count": 43,
   "metadata": {},
   "outputs": [],
   "source": [
    "mturk = um.MTurkHandler(environment='sandbox')"
   ]
  },
  {
   "cell_type": "code",
   "execution_count": 45,
   "metadata": {},
   "outputs": [
    {
     "data": {
      "text/plain": [
       "({'HIT': {'HITId': '3PMR2DOWPRB17PZMLOHVD0RYLTP45F',\n",
       "   'HITTypeId': '32SAKJ4DTTIFV66DDI6I5I7TJIOVDH',\n",
       "   'HITGroupId': '398WDAEDRHHD9GC8J1KXQKE1AYHUHD',\n",
       "   'CreationTime': datetime.datetime(2022, 11, 1, 17, 32, 46, tzinfo=tzlocal()),\n",
       "   'Title': 'Edit-Intentions Task v3.3',\n",
       "   'Description': 'Label the intentions behind each edit-action from a dropdown menu.',\n",
       "   'Question': '\\n\\n<HTMLQuestion xmlns=\"http://mechanicalturk.amazonaws.com/AWSMechanicalTurkDataSchemas/2011-11-11/HTMLQuestion.xsd\">\\n<HTMLContent><![CDATA[\\n\\n\\n\\n<!-- YOUR HTML BEGINS -->\\n<!DOCTYPE html>\\n<html>\\n<head>\\n<meta http-equiv=\\'Content-Type\\' content=\\'text/html; charset=UTF-8\\'/>\\n</head>\\n\\n\\n\\n<script src=\"https://code.jquery.com/jquery-3.5.1.min.js\" crossorigin=\"anonymous\"></script>\\n<script src=\"https://cdn.jsdelivr.net/npm/bootstrap@5.2.2/dist/js/bootstrap.bundle.min.js\"></script>\\n<script src=\"https://d3js.org/d3.v5.min.js\"></script>\\n<script src=\"https://cdnjs.cloudflare.com/ajax/libs/AlertifyJS/1.13.1/alertify.min.js\"></script>\\n<script type=\\'text/javascript\\' src=\\'https://s3.amazonaws.com/mturk-public/externalHIT_v1.js\\'></script>\\n<script src=\"https://cdn.jsdelivr.net/gh/qiao/difflib.js/dist/difflib-browser.js\" crossorigin=\"anonymous\"></script>\\n\\n<link rel=\"stylesheet\" href=\"https://cdn.jsdelivr.net/npm/bootstrap@5.2.2/dist/css/bootstrap.min.css\">\\n<link rel=\"stylesheet\" href=\"https://cdnjs.cloudflare.com/ajax/libs/AlertifyJS/1.13.1/css/alertify.min.css\">\\n<script src=\"https://cdn.jsdelivr.net/gh/alex2awesome/edit-intentions@master/app/static/js/util.js\"></script>\\n\\n\\n\\n\\n\\n\\n\\n\\n\\n\\n<!-- jquery connections -->\\n<body>\\n\\n    <div class=\"row instructions\">\\n        <div class=\"col-12\">\\n            <div id=\"accordion\">\\n              <div class=\"card\">\\n                <div class=\"card-header\" id=\"hello_header\">\\n                  <h5 class=\"mb-0\">\\n                    <button class=\"btn btn-link\" type=\"button\" data-toggle=\"collapse\" data-target=\"#hello\">\\n                      Hello, about us, and thank you for your help!\\n                    </button>\\n                  </h5>\\n                </div>\\n                <div id=\"hello\" class=\"collapse show\" aria-labelledby=\"hello_header\" data-parent=\"#accordion\">\\n                  <div class=\"card-body\">\\n                    Hello! We are small research collaboration at University of Southern California, University of Illinois Urbana-Champaign and\\n                      University of California Los Angeles trying to build AI tools to help better understand the work journalists do.\\n                    <br><br>\\n                    Our goal in this work is to study how articles unfold over time — ultimately we\\'d like to build tools to help local news rooms allocate resources for breaking stories.\\n                      First, we need to study how seasoned editors go about editing and updating stories.\\n                    <br><br>\\n                    We are calibrating our payment scheme <b>to meet a $25 per hour wage</b>. Apologies if at first it is miscalibrated, we\\'re not sure at\\n                      this moment how long the tasks will take.\\n                      <br><br>\\n                    Please take a moment to review some of the <b><u>Examples</u></b> and skim the <b><u>Instructions</u></b> in the sections below. If you\\'ve already watched the <b><u>Video</u></b> and have a good idea of the task, feel free to skip that section.\\n                  </div>\\n                </div>\\n              </div>\\n              <div class=\"card\">\\n                <div class=\"card-header\" id=\"headingOne\">\\n                  <h5 class=\"mb-0\">\\n                    <button class=\"btn btn-link collapsed\" data-toggle=\"collapse\" type=\"button\" data-target=\"#collapseTwo\" aria-expanded=\"false\" aria-controls=\"collapseTwo\">\\n                      Instructions\\n                    </button>\\n                  </h5>\\n                </div>\\n                <div id=\"collapseTwo\" class=\"collapse\" aria-labelledby=\"headingOne\" data-parent=\"#accordion\">\\n                    <div class=\"card-body\">\\n                        <i><u><b>NOTE: THIS SECTION IS OLD. The updated instructions should go here.</b></u></i>\\n                        <br><br>\\n                        You will be adding, deleting and moving sentences around in a news article to anticipate what a future version looks like.\\n                        <br><br>\\n                        * <b><u>Add a sentence</u></b> either <i>below</i> or <i>above</i> the current sentence by pressing the <span style=\"background-color: rgba(0,160,0,0.63)\">Add &uarr;</span> or <span style=\"background-color: rgba(0,160,0,0.63)\">Add &darr;</span> buttons. Adding a sentence means that you feel there is substantially new information, a novel viewpoint or quote, or necessary background\\n                        information that needs to be present.\\n                        <br><br>\\n                        * <b><u>Move a sentence</u></b> by dragging it around on the canvas. Moving a sentence,  (or what we\\'re calling <b><i>refactoring</i></b>) means that the importance of a sentence should be either increased or decreased within the article. <b><u>Please note:</u></b> refactors are rare!\\n                        <br><br>\\n                        * <b><u>Delete a sentence</u></b> by hitting the <span style=\"background-color: rgba(0,160,0,0.63)\">Delete</span> button. Deleting an <b>Added</b> sentence just reverses that action - we will not record this. Deleting a sentence that is present means you feel it needs to be (a) substantially rewritten (ergo: a new sentence should also be <b>Added</b>), or (b) the sentence no longer applies given new information that was added.\\n                        <br><br>\\n                        * <b><u>Edit a sentence</u></b> by hitting the <span style=\"background-color: rgba(0,160,0,0.63)\">Edit</span> button. Editing a sentence means that the wording might change a little bit due to other changes happening around the sentence or events within the sentence being updated.\\n                        <br><br>\\n                        * <b><u>Leaving a sentence unchanged</u></b> means that you don\\'t really expect the sentence to change at all in the next version of the article.\\n                        <br><br>\\n                        When you\\'re ready to submit, please hit the <span style=\"background-color: rgba(0,160,0,0.63)\">Submit</span> button and please check to see what the actual edits were so you can improve for next task!\\n                    </div>\\n                </div>\\n              </div>\\n              <div class=\"card\">\\n                <div class=\"card-header\" id=\"headingOne\">\\n                  <h5 class=\"mb-0\">\\n                    <button class=\"btn btn-link collapsed\" data-toggle=\"collapse\" type=\"button\" data-target=\"#collapseFour\" aria-expanded=\"false\" aria-controls=\"collapseFour\">\\n                      Video\\n                    </button>\\n                  </h5>\\n                </div>\\n                <div id=\"collapseFour\" class=\"collapse\" aria-labelledby=\"headingOne\" data-parent=\"#accordion\">\\n                    <div class=\"card-body\">\\n                        <i><b><u>NOTE: THIS SECTION IS OLD. An updated video can go here.</u></b></i>\\n                        <br><br>\\n                        Here is a video showing how to interact with our page and a demonstration of the thought process I think is appropriate for this task. However, you are professional journalists and you know better than I do!\\n                        <br><br>\\n                        <iframe width=\"560\" height=\"315\" src=\"https://www.youtube.com/embed/nEF6uVoSZdE\" title=\"YouTube video player\" frameborder=\"0\" allow=\"accelerometer; autoplay; clipboard-write; encrypted-media; gyroscope; picture-in-picture\" allowfullscreen></iframe>\\n                    </div>\\n                </div>\\n              </div>\\n              <div class=\"card\">\\n                <div class=\"card-header\" id=\"headingOne\">\\n                  <h5 class=\"mb-0\">\\n                    <button class=\"btn btn-link collapsed\" data-toggle=\"collapse\" type=\"button\" data-target=\"#collapseThree\" aria-expanded=\"false\" aria-controls=\"collapseThree\">\\n                      Examples\\n                    </button>\\n                  </h5>\\n                </div>\\n                <div id=\"collapseThree\" class=\"collapse\" aria-labelledby=\"headingOne\" data-parent=\"#accordion\">\\n                    <div class=\"card-body\">\\n                        <i><u><b>NOTE: THIS SECTION IS OLD. Updated examples links can go here if we find good ones, and I can host them on app-engine pretty easily. Or, we can just take screenshots.</b></u></i>\\n                        <h5>Local Crime</h5>\\n                        <div class=\"example\">\\n                            <a target=\\'_blank\\' rel=\\'noopener noreferrer\\' href=\"https://news-edits-dot-usc-research.appspot.com/check_task?source=reuters&doc_id=2436&v_x=0&v_y=1\">https://news-edits-dot-usc-research.appspot.com/check_task?source=reuters&doc_id=2436&v_x=0&v_y=1</a>\\n                        </div>\\n                        The above example is a good example of a local crime article where the phrase \"...no mention of...\" indicates that an upcoming draft will include deletions (of that sentence) and additions of new information.\\n                        <hr>\\n                        <!--                        -->\\n                        <h5>Events update:</h5>\\n                        <div class=\"example\">\\n                            <a target=\\'_blank\\' rel=\\'noopener noreferrer\\' href=\"\">https://news-edits-dot-usc-research.appspot.com/check_task?source=independent&doc_id=1587638&v_x=1&v_y=2</a>\\n                            <br>\\n                            <a target=\\'_blank\\' rel=\\'noopener noreferrer\\' href=\"\">https://news-edits-dot-usc-research.appspot.com/check_task?source=nyt&doc_id=1828967&v_x=1&v_y=2</a>\\n                        </div>\\n                        In both of these articles, an event is unfolding. They are both clearly breaking news, so as more information about the main event comes in, we will update the article.\\n                        <hr>\\n                        <!--                        -->\\n                        <h5>More information about the main event</h5>\\n                        <div class=\"example\">\\n                            <a target=\\'_blank\\' rel=\\'noopener noreferrer\\' href=\"\">https://news-edits-dot-usc-research.appspot.com/check_task?source=nyt&doc_id=1870033&v_x=0&v_y=1</a>\\n                        </div>\\n                        The phrase \"This is a developing story\" is really a good clue in this example.\\n                        <hr>\\n                        <!--                        -->\\n                        <h5>More background:</h5>\\n                        <div class=\"example\">\\n                            <a target=\\'_blank\\' rel=\\'noopener noreferrer\\' href=\"\">https://news-edits-dot-usc-research.appspot.com/check_task?source=wp&doc_id=1115575&v_x=0&v_y=1</a>\\n                        </div>\\n                        This article needed a lot more background.\\n                        <hr>\\n                        <!--                        -->\\n                        <h5>More viewpoints:</h5>\\n                        <div class=\"example\">\\n                            <a target=\\'_blank\\' rel=\\'noopener noreferrer\\' href=\"\">https://news-edits-dot-usc-research.appspot.com/check_task?source=wp&doc_id=1125102&v_x=0&v_y=1</a>\\n                        </div>\\n                         This is a good example of a piece where we really need to hear from more voices, like parents, anonymous sources, etc.\\n                        <hr>\\n                        <h5>Article Rewrite</h5>\\n                        <div class=\"example\">\\n                            <a target=\\'_blank\\' rel=\\'noopener noreferrer\\' href=\"\">https://news-edits-dot-usc-research.appspot.com/check_task?source=ap&doc_id=220&v_x=2&v_y=3</a>\\n                        </div>\\n                        Good example of when the old article wasn\\'t really written in a newsy style and needed to be updated.\\n                        <hr>\\n                        <!--                        -->\\n                        <h5>Many Edits</h5>\\n                        <div class=\"example\">\\n                            <a target=\\'_blank\\' rel=\\'noopener noreferrer\\' href=\"\">https://news-edits-dot-usc-research.appspot.com/check_task?source=bbc&doc_id=1248390&v_x=1&v_y=2</a>\\n                        </div>\\n                        This article is really dense. There are a lot of time-dependent numbers here, so it\\'s likely that a lot of them will be updated. Also, an additional viewpoint is added.\\n                    </div>\\n                </div>\\n              </div>\\n              <div class=\"card\">\\n                <div class=\"card-header\" id=\"todoHeader\">\\n                  <h5 class=\"mb-0\">\\n                    <button class=\"btn btn-link collapsed\" data-toggle=\"collapse\" type=\"button\" data-target=\"#toDo\" aria-expanded=\"false\" aria-controls=\"collapseThree\">\\n                      TO-DO Before Launch\\n                    </button>\\n                  </h5>\\n                </div>\\n                <div id=\"toDo\" class=\"collapse\" aria-labelledby=\"todoHeader\" data-parent=\"#accordion\">\\n                    <div class=\"card-body\">\\n                        We have the following items on our to-do list for the interface before we launch it:\\n                        <br>\\n                        <br>\\n                        <ul>\\n                            <li>Task Semantics:\\n                                <ul>\\n                                    <li>Finalize schema with appropriate addition/deletion/edit sub-schemas</li>\\n                                    <li>Write instructions</li>\\n                                </ul>\\n                            </li>\\n                            <li>Annotation: Annotate a subset of documents ourselves, in order to:\\n                                <ul>\\n                                    <li>Collect good challenging/interesting/pedagogical examples for the instructions.</li>\\n                                    <li>Collect a gold dataset with which to recruit workers.</li>\\n                                </ul>\\n                            </li>\\n                            <li>Visual/Technical Interface Upgrades:\\n                                <ul>\\n                                    <li>Put labels for edit-dropdown on the bezier-curves </li>\\n                                    <li>Put an additional textfield or dropdown in each addition/deletion box so that the user can note if the addition/deletion corresponds to an update.</li>\\n                                    <li>Put an additional \"+\" sign by each dropdown so that we can allow users to add >1 intention per edit.</li>\\n                                    <li>Make the entire layout response to size-changes for dropdowns results from the previous two changes.</li>\\n                                    <li>Make sure we\\'re collecting all the data on submission, test on Amazon.</li>\\n                                </ul>\\n                            </li>\\n\\n                        </ul>\\n                    </div>\\n                </div>\\n              </div>\\n            </div>\\n            </div>\\n        </div>\\n\\n\\n<style>\\n    svg {\\n      position: absolute;\\n        width: 100%;\\n        height: 100%;\\n        z-index: 2;\\n    }\\n    circle {\\n        \\n    }\\n    .labelblock {\\n        z-index: 3;\\n    }\\n\\n    .textblock_pool_version_x{\\n        padding-right: 0;\\n    }\\n\\n    .textblock_pool_version_y{\\n        padding-left: 0;\\n    }\\n    .blank_column{\\n        padding-left: 0;\\n        padding-right: 0;\\n    }\\n\\n    .textblockwrapper{\\n        padding: 0;\\n    }\\n    .labelblockwrapper{\\n        padding: 0;\\n    }\\n\\n    #main-svg{\\n        width: 100%;\\n        height: 100%;\\n        pointer-events: none;\\n    }\\n\\n    .link {\\n        fill: none;\\n        stroke: black;\\n    }\\n\\n    .hidden {\\n        transition: opacity 1s ease-out;\\n        opacity: 0;\\n        height: 0;\\n        overflow: hidden;\\n    }\\n\\n    .example{\\n        background-color: #efefef;\\n        margin-left: 20px;\\n        margin-right: 50px;\\n        padding: 10px;\\n        padding-bottom: 1px;\\n    }\\n\\n    .highlighted {\\n        background-color: yellow;\\n    }\\n\\n    .text-mouseover{\\n        border-style: solid;\\n    }\\n\\n    #moving_div {\\n        position: fixed;\\n        width: 1px;\\n        height: 1px;\\n        z-index: -1;\\n    }\\n    .moving_line {\\n        z-index: -1;\\n    }\\n\\n    /* Handle the question text-boxes */\\n    .textblock {\\n      border-radius: 4px;\\n      background: rgba(237, 245, 241, 0.87);\\n      border: 2px solid Black;\\n      padding: 5px 10px 5px 10px;\\n      margin: 10px 10px 10px 10px;\\n      z-index: 1;\\n    }\\n\\n    .labelblock {\\n      border-radius: 1px;\\n      background: rgba(187, 198, 188, 0.8);\\n      border: 2px solid Black;\\n      padding: 5px 10px 5px 10px;\\n      margin: 10px 10px 10px 10px;\\n      z-index: 1;\\n    }\\n\\n    .textblock_pool {\\n        height: 200px;\\n    }\\n\\n    .textblock_span {\\n        padding-right: 10px;\\n    }\\n\\n    .shaded {\\n        border-color: #55f;\\n        stroke: #55f !important;\\n        stroke-width: 2;\\n        /*border-radius: 20px;*/\\n        border-width: 2px;\\n    }\\n\\n    .deleted{\\n        background-color:rgba(241,114,114,0.68)\\n    }\\n\\n    .added{\\n        background-color:rgba(175, 255, 141, 0.6);\\n    }\\n\\n    #submitButton{\\n        z-index: 5;\\n    }\\n\\n    hr.hr-medium{\\n        border: 3px solid black;\\n    }\\n\\n    body{\\n        margin: 10px !important;\\n    }\\n</style>\\n\\n    <form name=\\'mturk_form\\' method=\\'post\\' id=\\'mturk_form\\' action=\\'/mturk/externalSubmit\\'>\\n\\n<input type=\\'hidden\\' value=\\'\\' name=\\'assignmentId\\' id=\\'assignmentId\\'/>\\n    <div class=\"container-fluid\">\\n    <p>Article Key: nyt-810619-0-1</p>\\n    <br>\\n    <div class=\"row header\">\\n        <div class=\"col-3\"></div>\\n        <div class=\"col-2\"><h4>Old Version</h4></div>\\n        <div class=\"col-2\"></div>\\n        <div class=\"col-2\"><h4>New Version</h4></div>\\n        <div class=\"col-3\"></div>\\n    </div>\\n    <svg id=\"main-svg\">\\n        <div class=\"row text\" id=\"main-div\">\\n            <div class=\"col-5 textblock_pool_version_x\" doc_id=\"nyt-810619-0-1\" ></div>\\n            <div class=\"col-2 blank_column\"></div>\\n            <div class=\"col-5 textblock_pool_version_y\" doc_id=\"nyt-810619-0-1\" ></div>\\n        </div>\\n    </svg>\\n</div>\\n\\n<button type=\"submit\" id=\\'submitButton\\' value=\\'Submit\\'>Submit form</button>\\n</form>\\n\\n<script language=\\'Javascript\\'>\\n\\n    var edit_select_html =`\\n        <select class=\"edit-intention form-select\">\\n            <option value=\"\" selected disabled></option>\\n            <option value=\"\" disabled>Clarification</option>\\n            <option value=\"\">&#160;&#160;&#160;Simplification</option>\\n            <option value=\"\">&#160;&#160;&#160;Define term</option>\\n            <option value=\"\" disabled>Copy Editing</option>\\n            <option value=\"\">&#160;&#160;&#160;Style Changes</option>\\n            <option value=\"\">&#160;&#160;&#160;Syntax Correction</option>\\n            <option value=\"\" disabled>Elaboration</option>\\n            <option value=\"\">&#160;&#160;&#160;Background</option>\\n            <option value=\"\">&#160;&#160;&#160;Analysis</option>\\n            <option value=\"\" disabled>Fact Update</option>\\n            <option value=\"\">&#160;&#160;&#160;Event Update</option>\\n            <option value=\"\">&#160;&#160;&#160;Quote Update</option>\\n            <option value=\"\">&#160;&#160;&#160;Document Update</option>\\n            <option value=\"\" disabled>Verification</option>\\n            <option value=\"\">&#160;&#160;&#160;Correction</option>\\n            <option value=\"\">&#160;&#160;&#160;Additional Sourcing</option>\\n        </select>\\n    `\\n\\n    // page handling\\n    class PageManager {\\n        constructor(\\n            data,\\n            textblock_dim,\\n            demo,\\n            check,\\n            doc_key,\\n            textblock_pool_min\\n        ) {\\n            this.data = data\\n            this.demo = demo\\n            this.check = check\\n            this.doc_key = doc_key\\n            // dimensions for textblock divs\\n            this.textblock_pool_min = textblock_pool_min\\n            this.textblock_dim = textblock_dim;\\n            this.start_line_id = null\\n            // z-index for dropdown needs to increase every click :/ maybe not the best implementation\\n            this.curr_dropdown_zindex = 3\\n            this.num_lines = 0\\n\\n\\n            // endpoint side-length\\n            this.l = \\'10px\\'\\n            var that = this\\n            this.link = d3.linkHorizontal()\\n                .source(function(d) {\\n                    var node = $(\\'#sentence-x-\\' + d.source).find(\\'circle\\')\\n                    return that._get_offset_to_svg_circle(node)\\n                })\\n                .target(function(d) {\\n                    var node = $(\\'#sentence-y-\\' + d.target).find(\\'circle\\')\\n                    return that._get_offset_to_svg_circle(node)\\n                });\\n        }\\n\\n        _process_data(){\\n            var that = this\\n\\n            that.versions = this.data[\\'nodes\\'].map(function(d){return d[\\'version\\']})\\n            that.x_vers = d3.min(that.versions)\\n            that.y_vers = d3.max(that.versions)\\n            that.version_mapper = {[that.x_vers]: \\'x\\', [that.y_vers] : \\'y\\'}\\n\\n            that.node_edit_action_dict = {\\'x\\': {}, \\'y\\': {}}\\n            that.data_by_version = {\\'x\\': [], \\'y\\': []}\\n            that.node_to_arc_dict = {\\'x\\': {}, \\'y\\': {}} // map each node to a list of arcs\\n            that.arc_to_node_dict = {} // map each arc to the nodes on either side of it\\n\\n            var add_del_redundancy = {\\'x\\': [], \\'y\\': [] } // not all arcs are marked.\\n\\n            // create textblocks\\n            $(that.data.nodes)\\n                .sort(function(a, b) {return a.sent_idx - b.sent_idx})\\n                .each(function (i, d) {\\n                    var vers = that.version_mapper[d.version]\\n                    that.data_by_version[vers].push(d)\\n                    that.node_edit_action_dict[vers][d.sent_idx] = {\\'action\\': \\'unchanged\\'}\\n                    add_del_redundancy[vers].push(d.sent_idx)\\n                })\\n\\n            // find which nodes have been edited. Those that haven\\'t are either added/deleted based on version.\\n            that.data.arcs\\n                .forEach( function(d){\\n                    // edited nodes\\n                    if((d.sent_idx_x != null) & (d.sent_idx_y != null)) {\\n                        var line_selector = \\'line-\\' + that.num_lines++\\n                        that.node_edit_action_dict[\\'x\\'][d.sent_idx_x] = {\\'action\\': \\'edited\\', \\'other\\': d.sent_idx_y}\\n                        that.node_edit_action_dict[\\'y\\'][d.sent_idx_y] = {\\'action\\': \\'edited\\', \\'other\\': d.sent_idx_x}\\n                        // update node data\\n                        // that.data.nodes.filter(e=> (e.sent_idx == d.sent_idx_x) & (e.version == that.x_vers))[0]\\n                        that.node_to_arc_dict[\\'x\\'][d.sent_idx_x] = (that.node_to_arc_dict[\\'x\\'][d.sent_idx_x] || []).concat(line_selector)\\n                        that.node_to_arc_dict[\\'y\\'][d.sent_idx_y] = (that.node_to_arc_dict[\\'y\\'][d.sent_idx_y] || []).concat(line_selector)\\n                        that.arc_to_node_dict[line_selector] = {\\'x\\': d.sent_idx_x, \\'y\\': d.sent_idx_y}\\n\\n                        add_del_redundancy[\\'x\\'].remove_by_value(d.sent_idx_x)\\n                        add_del_redundancy[\\'y\\'].remove_by_value(d.sent_idx_y)\\n                    }\\n                })\\n\\n            // deleted nodes\\n            add_del_redundancy[\\'x\\'].forEach(function(d){\\n                that.node_edit_action_dict[\\'x\\'][d] = {\\'action\\': \\'deleted\\'}\\n            })\\n\\n            // added nodes\\n            add_del_redundancy[\\'y\\'].forEach(function(d){\\n                that.node_edit_action_dict[\\'y\\'][d] = {\\'action\\': \\'added\\'}\\n            })\\n        }\\n\\n        _make_rows(version){\\n            var that = this\\n            return d3.select(\\'.textblock_pool_version_\\' + version)\\n                    .selectAll(\\'textblock\\')\\n                    .data(that.data_by_version[version]).enter()\\n                    .append(\\'div\\').classed(\\'row\\', true)\\n        }\\n\\n        _draw_textblocks(rows_obj, version){\\n            function _helper_get_textblock_html(d, that){\\n                var this_vers = that.version_mapper[d.version]\\n                var action = that.node_edit_action_dict[this_vers][d.sent_idx].action\\n                if (action != \\'edited\\') {\\n                    return d.sentence\\n                } else {\\n                    var other_vers = this_vers == \\'x\\' ? \\'y\\' : \\'x\\'\\n                    var arcs = that.node_to_arc_dict[this_vers][d.sent_idx]\\n                    var all_incoming_text = arcs\\n                        .map(d => that.arc_to_node_dict[d][other_vers]).sort() // connecting textblocks on other side\\n                        .map(d => that.data_by_version[other_vers][d].sentence)\\n\\n                    if (other_vers == \\'y\\') {\\n                        return html_compare_sentences(d.sentence, all_incoming_text.join(\\' \\'))[0]\\n                    } else {\\n                        return html_compare_sentences(all_incoming_text.join(\\' \\'), d.sentence)[1]\\n                    }\\n                }\\n            }\\n\\n            var that = this\\n\\n            return rows_obj\\n                    .append(\\'div\\').classed(\\'textblockwrapper\\', true).classed(\\'col-6\\', true) // so that the margin goes on the inside\\n                    .append(\\'div\\').classed(\\'textblock\\', true)\\n                    .attr(\\'doc_id\\', that.doc_key)\\n                    .attr(\\'id\\', d => \\'sentence-\\' + version + \\'-\\' + d.sent_idx)\\n                    .attr(\\'version\\', d => that.version_mapper[d.version])\\n                    .attr(\\'class\\', function(d){\\n                        return $(this).attr(\\'class\\') + \" \" + that.node_edit_action_dict[version][d.sent_idx].action\\n                    })\\n                    .attr(\\'orig-text\\', d => d.sentence)\\n                    .append(\\'span\\').classed(\\'textblock_span\\', true)\\n                    //.text(d => d.sentence)\\n                    .html(d=>_helper_get_textblock_html(d, that))\\n        }\\n\\n        _draw_labelblocks(rows_obj, version){\\n            var that = this\\n            function _helper_get_labelblock_html(d, that){\\n                var this_vers = that.version_mapper[d.version]\\n                var action = that.node_edit_action_dict[this_vers][d.sent_idx].action\\n                switch(action){\\n                    case \\'added\\': var header = \\'Addition Intention\\'; break;\\n                    case \\'edited\\': var header = \\'Edit Intention\\'; break;\\n                    case \\'deleted\\': var header = \\'Deletion Intention\\'; break;\\n                }\\n                return \\'<p>\\' + header + \\'</p>\\'\\n            }\\n            function _is_hidden(d){\\n                var vers = that.version_mapper[d.version]\\n                var datum = that.node_edit_action_dict[vers][d.sent_idx]\\n                if ((datum.action == undefined) | (datum.action == \\'unchanged\\'))\\n                    return true\\n                else\\n                    return ((vers == \\'y\\') & (datum.action == \\'edited\\'))\\n            }\\n\\n            var labelblock_obj = rows_obj.append(\\'div\\').classed(\\'labelblockwrapper\\', true).classed(\\'col-6\\', true)\\n                    .append(\\'div\\').classed(\\'labelblock\\', true).classed(\\'row\\', true)\\n                    .classed(\\'hidden\\', _is_hidden)\\n                    .attr(\\'doc_id\\', that.doc_key)\\n                    .attr(\\'num_slots\\', 1).attr(\\'version\\', version)\\n                    .attr(\\'id\\', d => \\'label-\\' + version + \\'-\\' + d.sent_idx)\\n                    .html(d => _helper_get_labelblock_html(d, that))\\n\\n                labelblock_obj.append(\\'div\\').classed(\\'dropdown_column\\', true).classed(\\'col-8\\', true)\\n                    .append(\\'div\\').classed(\\'input_fields\\', true).classed(\\'slot_num_1\\', true).attr(\\'slot_num\\', 1)\\n                    .html(edit_select_html)\\n\\n            var button_obj = labelblock_obj.append(\\'div\\')\\n                                            .classed(\\'button_column\\', true).classed(\\'col-4\\', true)\\n                button_obj.append(\\'div\\').classed(\\'btn\\', true).classed(\\'btn-secondary\\', true)\\n                                        .style(\\'width\\', \\'50%\\').html(\\'+\\')\\n                                        .classed(\\'labelblock_\\' + version + \\'_button_plus\\', true)\\n                button_obj.append(\\'div\\').classed(\\'btn\\', true).classed(\\'btn-secondary\\', true)\\n                                        .style(\\'width\\', \\'50%\\').html(\\'-\\')\\n                                        .classed(\\'labelblock_\\' + version + \\'_button_minus\\', true)\\n\\n            $(\\'.labelblock_\\' + version + \\'_button_plus\\').on(\\'click\\', function(){\\n                var existing_slots = $(this).parents(\\'.labelblock\\').attr(\\'num_slots\\')\\n                var slot_num = parseInt(existing_slots) + 1\\n                $(this).parents(\\'.labelblock\\').attr(\\'num_slots\\', slot_num)\\n                var col = $(this).parents(\\'.labelblock\\').find(\\'.dropdown_column\\')\\n                $(\\'<div>\\' + edit_select_html + \\'</div>\\').appendTo(col)\\n                    .addClass(\\'slot_num_\\' + slot_num).addClass(\\'input_fields\\')\\n                    .attr(\\'slot_num\\', slot_num)\\n            })\\n\\n            $(\\'.labelblock_\\' + version + \\'_button_minus\\').on(\\'click\\', function(){\\n                var existing_slots = $(this).parents(\\'.labelblock\\').attr(\\'num_slots\\')\\n                if (existing_slots > 1) {\\n                    var slot_num = parseInt(existing_slots) - 1\\n                    $(this).parents(\\'.labelblock\\').find(\\'.slot_num_\\' + existing_slots).remove()\\n                    $(this).parents(\\'.labelblock\\').attr(\\'num_slots\\', slot_num)\\n                }\\n            })\\n\\n\\n        }\\n\\n        draw_canvas(){\\n            this._process_data()\\n\\n            // create textblock rows ( x => label pool, textblock pool)\\n            var rows_x = this._make_rows(\\'x\\')\\n            this._draw_labelblocks(rows_x, \\'x\\')\\n            this._draw_textblocks(rows_x, \\'x\\')\\n            // create textblock rows ( y => textblock pool, label pool)\\n            var rows_y = this._make_rows(\\'y\\')\\n            this._draw_textblocks(rows_y, \\'y\\')\\n            this._draw_labelblocks(rows_y, \\'y\\')\\n\\n            // draw connections\\n            this._draw_all_connections()\\n        }\\n\\n        _add_endpoint(textblock_id, side){\\n            var side_class = side == \\'x\\' ? \\'start-100\\' : \\'start-0\\'\\n            d3.select(\\'#\\' + textblock_id)\\n                .classed(\\'position-relative\\', true)\\n            .append(\\'div\\').style(\\'width\\', this.l).style(\\'height\\', this.l)\\n                .classed(\\'anchor\\', true)\\n                .classed(\\'position-absolute\\', true)\\n                .classed(\\'top-50\\', true)\\n                .classed(side_class, true)\\n                .classed(\\'translate-middle\\', true)\\n            .append(\\'svg\\').style(\\'height\\', \\'100%\\').style(\\'width\\', \\'100%\\')\\n                .append(\\'circle\\')\\n                .attr(\\'r\\', \\'50%\\')\\n                .attr(\\'cx\\', \\'50%\\').attr(\\'cy\\', \\'50%\\').style(\\'fill\\', \\'gray\\')\\n        }\\n\\n        _get_offset_to_svg_circle(d){\\n            var svg_off_l = $(\\'#main-svg\\').offset().left,\\n                svg_off_t = $(\\'#main-svg\\').offset().top,\\n                el_off_l = $(d).offset().left,\\n                el_off_t = $(d).offset().top,\\n                el_r = parseFloat(this.l.replace(\\'px\\', \\'\\')) / 2\\n            return [el_off_l - svg_off_l + el_r, el_off_t - svg_off_t + el_r]\\n        }\\n\\n        _draw_all_connections(){\\n            var that = this\\n            $(\\'#main-svg\\').height($(\\'#main-div\\').height())\\n            var data = Object.entries(pm.arc_to_node_dict)\\n                .map(function(d){return {\\'line\\': d[0], \\'source\\': d[1].x, \\'target\\': d[1].y}})\\n\\n            // add endpoints\\n            data.forEach(function(d){\\n                that._add_endpoint(\\'sentence-x-\\' + d.source, \\'x\\')\\n                that._add_endpoint(\\'sentence-y-\\' + d.target, \\'y\\')\\n            })\\n\\n            // add connections\\n            d3.select(\\'#main-svg\\')\\n                .selectAll(\\'path\\')\\n                .data(data).enter().append(\\'path\\')\\n                .attr(\\'d\\', that.link)\\n                .classed(\\'link\\', true) // .classed(\\'connection\\', true) // one is for CSS properties, the other is for\\n                .attr(\\'id\\', d=>d.line)\\n\\n        }\\n\\n        _post_drawing_page(){\\n            function _update_connection_position(that){\\n                $(\\'#main-svg\\').height($(\\'#main-div\\').height())\\n                d3.selectAll(\\'.link\\').attr(\\'d\\', that.link)\\n            }\\n\\n            // handle mouseovers\\n            const this_pagemanager = this\\n            $(\\'.textblock, .labelblock\\')\\n                .on(\\'mouseover\\', function(){\\n                    var this_block = this\\n                    var block_num = this.id.split(\\'-\\')[2]\\n                    $(this_block).parent().parent().find(\\'.textblock,.labelblock\\').addClass(\\'shaded\\')\\n\\n                    // update all the nodes on the other side as this node.\\n                    var version = $(this_block).attr(\\'version\\')\\n                    var version_swap = {\\'x\\':\\'y\\', \\'y\\':\\'x\\'}\\n                    var other_version = version_swap[version]\\n                    var node_arcs = this_pagemanager.node_to_arc_dict[version][block_num] || []\\n                    node_arcs.forEach(function(d){\\n                        // shade the arc itself\\n                        $(\\'#\\' + d).addClass(\\'shaded\\')\\n                        // get other textblock and the html that it should update to.\\n                        var other_sel = this_pagemanager.arc_to_node_dict[d][other_version]\\n                        // shade the other textblock that the arc connects\\n                        $(\\'#sentence-\\' + other_version + \\'-\\' + other_sel).addClass(\\'shaded\\')\\n                        $(\\'#label-\\' + other_version + \\'-\\' + other_sel).addClass(\\'shaded\\')\\n                    })\\n                })\\n                .on(\\'mouseout\\', function(d) {\\n                    $(\\'.link\\').removeClass(\\'shaded\\')\\n                    $(\\'.textblock\\').removeClass(\\'shaded\\')\\n                    $(\\'.labelblock\\').removeClass(\\'shaded\\')\\n                })\\n\\n            // handle movements\\n            $(window).on(\\'load resize\\', function() { _update_connection_position(this_pagemanager) })\\n            $(\\'.btn\\').on(\\'click\\', function() { _update_connection_position(this_pagemanager) })\\n        }\\n    }\\n\\n    textblock_dims = {\\n\\t\\t\\'margin\\': 5,\\n\\t\\t\\'border\\': 2,\\n\\t\\t\\'padding\\': 10\\n\\t}\\n\\n\\ttextblock_pool_min_height = 200\\n\\n    var data = JSON.parse(\\'{\"arcs\": [{\"avg_sentence_distance_x\": NaN, \"avg_sentence_distance_y\": NaN, \"sent_idx_x\": NaN, \"sent_idx_y\": 1.0, \"version_x\": 0, \"version_y\": 1}, {\"avg_sentence_distance_x\": NaN, \"avg_sentence_distance_y\": NaN, \"sent_idx_x\": 2.0, \"sent_idx_y\": NaN, \"version_x\": 0, \"version_y\": 1}, {\"avg_sentence_distance_x\": NaN, \"avg_sentence_distance_y\": NaN, \"sent_idx_x\": NaN, \"sent_idx_y\": 2.0, \"version_x\": 0, \"version_y\": 1}, {\"avg_sentence_distance_x\": NaN, \"avg_sentence_distance_y\": NaN, \"sent_idx_x\": NaN, \"sent_idx_y\": 5.0, \"version_x\": 0, \"version_y\": 1}, {\"avg_sentence_distance_x\": 0.0, \"avg_sentence_distance_y\": 0.0, \"sent_idx_x\": 6.0, \"sent_idx_y\": 7.0, \"version_x\": 0, \"version_y\": 1}, {\"avg_sentence_distance_x\": NaN, \"avg_sentence_distance_y\": NaN, \"sent_idx_x\": 3.0, \"sent_idx_y\": NaN, \"version_x\": 0, \"version_y\": 1}, {\"avg_sentence_distance_x\": 0.4028614298221585, \"avg_sentence_distance_y\": 0.4028614298221584, \"sent_idx_x\": 0.0, \"sent_idx_y\": 4.0, \"version_x\": 0, \"version_y\": 1}, {\"avg_sentence_distance_x\": NaN, \"avg_sentence_distance_y\": NaN, \"sent_idx_x\": 4.0, \"sent_idx_y\": NaN, \"version_x\": 0, \"version_y\": 1}, {\"avg_sentence_distance_x\": NaN, \"avg_sentence_distance_y\": NaN, \"sent_idx_x\": NaN, \"sent_idx_y\": 6.0, \"version_x\": 0, \"version_y\": 1}, {\"avg_sentence_distance_x\": 0.4325973263835057, \"avg_sentence_distance_y\": 0.4297093500544741, \"sent_idx_x\": 1.0, \"sent_idx_y\": 0.0, \"version_x\": 0, \"version_y\": 1}], \"nodes\": [{\"sent_idx\": 0, \"sentence\": \"MOSCOW -- Malaysia Airlines reported Thursday it had lost contact with a flight bound from Amsterdam to Kuala Lumpur over Ukraine.\", \"version\": 0}, {\"sent_idx\": 1, \"sentence\": \"The Interfax news agency said the airliner, with 295 people on board, crashed in Ukraine near the Russian border and that it may have been shot down.\", \"version\": 0}, {\"sent_idx\": 2, \"sentence\": \"The Interfax report said the plane came down 20 miles short of entering Russian airspace.\", \"version\": 0}, {\"sent_idx\": 3, \"sentence\": \"\\\\u0027\\\\u0027Malaysia Airlines has lost contact of MH17 from Amsterdam,\\\\u0027\\\\u0027 a Malaysia Airlines Twitter post said.\", \"version\": 0}, {\"sent_idx\": 4, \"sentence\": \"\\\\u0027\\\\u0027The last known position was over Ukrainian airspace.\", \"version\": 0}, {\"sent_idx\": 5, \"sentence\": \"More details to follow.\", \"version\": 0}, {\"sent_idx\": 6, \"sentence\": \"\\\\u0027\\\\u0027\", \"version\": 0}, {\"sent_idx\": 0, \"sentence\": \"MOSCOW -- A Malaysia Airlines flight with nearly 300 people aboard crashed over eastern Ukraine near the Russian border on Thursday, the Ukraine government and a regional European aviation official reported, and the Interfax news agency said it had been shot down.\", \"version\": 1}, {\"sent_idx\": 1, \"sentence\": \"Ukraine\\\\u0027s president, Petro O. Poroshenko, said in a statement that he was calling for an immediate investigation of the crashed flight, a Boeing 777.\", \"version\": 1}, {\"sent_idx\": 2, \"sentence\": \"He did not rule out that it might have been shot down.\", \"version\": 1}, {\"sent_idx\": 3, \"sentence\": \"Eastern Ukraine has been roiled for months by a violent pro-Russian political separatist movement.\", \"version\": 1}, {\"sent_idx\": 4, \"sentence\": \"Malaysia Airlines said it had lost contact with a flight, MH17, from Amsterdam to Kuala Lumpur over Ukraine but offered no further details immediately.\", \"version\": 1}, {\"sent_idx\": 5, \"sentence\": \"Hishammuddin Hussein, Malaysia\\\\u0027s defense minister, responded to reports that the aircraft had disappeared and might have been shot down by posting a series of terse messages on Twitter: \\\\u0027\\\\u0027Monitoring this closely,\\\\u0027\\\\u0027 said one.\", \"version\": 1}, {\"sent_idx\": 6, \"sentence\": \"In another, he referred to the ministry of defense in saying that, \\\\u0027\\\\u0027I have directed MINDEF to get confirmation.\", \"version\": 1}, {\"sent_idx\": 7, \"sentence\": \"\\\\u0027\\\\u0027\", \"version\": 1}]}\\'.replaceAll(\\'NaN\\', \\'null\\'))\\n    pm = new PageManager(data, textblock_dims, false, false, \"nyt-810619-0-1\", textblock_pool_min_height)\\n    pm.draw_canvas()\\n    pm._post_drawing_page()\\n\\n\\n    //\\n    // mturk\\n    // handle data\\n    class SubmitHandler{\\n        constructor() {\\n            \\n                turkSetAssignmentID();\\n            \\n            this.GENERIC_THANKS_MESSAGE = \\'Thank you so much for your help with our task!\\'\\n        }\\n\\n        get_data_from_dom() {\\n            this.output = []\\n            var that = this\\n            var ids = $(\\'.labelblock\\').map(function(i, d){return $(d).attr(\\'id\\')})\\n            var versions = $(ids).map(function(i, d){return d.split(\\'-\\')[1]})\\n            var sent_idxs = $(ids).map(function(i, d){return d.split(\\'-\\')[2]})\\n            var is_hidden = $(\\'.labelblock\\').map(function(i, d){return $(d).hasClass(\\'hidden\\')})\\n\\n            //\\n            $(\\'.labelblock\\').each(function(i, label_block){\\n                var labels = $(label_block).find(\\'.input_fields\\').map(function(i, d){\\n                    return {\\n                        \\'label\\': $(d).find(\":selected\").text(),\\n                        \\'intention_num\\': $(d).attr(\\'slot_num\\')\\n                    }\\n                })\\n\\n                var datum = {}\\n                datum[\\'version\\'] = versions[i]\\n                datum[\\'sent_idx\\'] = sent_idxs[i]\\n                var action = pm.node_edit_action_dict[versions[i]][sent_idxs[i]]\\n                if (action.action == \\'edited\\'){\\n                    datum[\\'action\\'] = \\'edited\\'\\n                    datum[\\'other_version_sent_idx\\'] = action.other\\n                } else {\\n                    datum[\\'action\\'] = action.action\\n                }\\n                datum[\\'is_hidden\\'] = is_hidden[i]\\n                datum[\\'labels\\'] = labels.toArray()\\n                that.output.push(datum)\\n            })\\n        }\\n\\n        gather_and_submit_data(submit_button, submit_click_event) {\\n            this.submit_button = submit_button\\n            this.submit_click_event = submit_click_event\\n            this.get_data_from_dom()\\n            this.first_confirm() // -> second_confirm -> third_confirm -> submit_data\\n        }\\n\\n        first_confirm(){\\n            var that = this\\n            // First question\\n            var non_hidden_data = that.output.filter(function(d, i){ return d[\\'is_hidden\\'] == false })\\n            var uncompleted = non_hidden_data.flatMap(function(d){return d.labels.map(function(d){return d.label})})\\n            if (d3.sum(uncompleted) > 0){\\n                alert(\\'You have at least one unfilled intention-box. Please check and resubmit!!\\')\\n            } else {\\n                that.second_confirm()\\n            }\\n        }\\n\\n        second_confirm(){\\n            var that = this\\n            setTimeout(function() {\\n                alertify.confirm(\\n                    \"Great! Your submission is valid. Do you want to recheck your answers?\"\\n                ).set(\\'header\\', \\'<em>Looks good! Ready to Submit?</em>\\')\\n                    .set(\\'labels\\', {\\n                        ok: \"Continue, submit!\",\\n                        cancel: \"Let me recheck...\"\\n                    })\\n                    .set(\\'onok\\', function () {\\n                        alertify.success(\\'Ok! Submitting...\\')\\n                        alertify.success(that.GENERIC_THANKS_MESSAGE)\\n                        that.submit_data()\\n                    })\\n                    .set(\\'oncancel\\', function () {\\n                        alertify.error(\\'Thanks for being diligent! Please recheck and resubmit!\\')\\n                    })\\n            }, 700)\\n        }\\n        submit_data(){\\n            \\n            // submit mturk\\n            $(\\'#data\\').attr(\\'value\\', JSON.stringify(this.output))\\n            $(this.submit_button).trigger(this.submit_click_event.type);\\n            \\n        }\\n    }\\n\\n    // submit button click\\n    var clicked=false\\n    $(\\'#submitButton\\').on(\\'click\\', function(submit_click_event){\\n        var sh = new SubmitHandler()\\n        var submit_button = this\\n        submit_click_event.preventDefault();\\n        sh.gather_and_submit_data(submit_button, submit_click_event);\\n    })\\n\\n</script>\\n</body>\\n</html>\\n<!-- YOUR HTML ENDS -->\\n\\n\\n]]>\\n</HTMLContent>\\n<FrameHeight>600</FrameHeight>\\n</HTMLQuestion>\\n\\n\\n\\n\\n\\n\\n\\n\\n\\n\\n\\n\\n\\n\\n\\n\\n\\n\\n\\n\\n\\n\\n\\n\\n\\n\\n\\n\\n',\n",
       "   'Keywords': 'text, sorting, highlighting',\n",
       "   'HITStatus': 'Assignable',\n",
       "   'MaxAssignments': 3,\n",
       "   'Reward': '0.30',\n",
       "   'AutoApprovalDelayInSeconds': 28800,\n",
       "   'Expiration': datetime.datetime(2022, 11, 3, 17, 32, 46, tzinfo=tzlocal()),\n",
       "   'AssignmentDurationInSeconds': 6000,\n",
       "   'QualificationRequirements': [{'QualificationTypeId': '000000000000000000L0',\n",
       "     'Comparator': 'GreaterThanOrEqualTo',\n",
       "     'IntegerValues': [80],\n",
       "     'RequiredToPreview': False,\n",
       "     'ActionsGuarded': 'Accept'},\n",
       "    {'QualificationTypeId': '00000000000000000071',\n",
       "     'Comparator': 'EqualTo',\n",
       "     'LocaleValues': [{'Country': 'US'}],\n",
       "     'RequiredToPreview': True,\n",
       "     'ActionsGuarded': 'PreviewAndAccept'},\n",
       "    {'QualificationTypeId': '000000000000000000L0',\n",
       "     'Comparator': 'GreaterThanOrEqualTo',\n",
       "     'IntegerValues': [90],\n",
       "     'RequiredToPreview': False,\n",
       "     'ActionsGuarded': 'Accept'}],\n",
       "   'HITReviewStatus': 'NotReviewed',\n",
       "   'NumberOfAssignmentsPending': 0,\n",
       "   'NumberOfAssignmentsAvailable': 3,\n",
       "   'NumberOfAssignmentsCompleted': 0},\n",
       "  'ResponseMetadata': {'RequestId': '4f221aae-b04d-4d81-9898-963d909fe4c8',\n",
       "   'HTTPStatusCode': 200,\n",
       "   'HTTPHeaders': {'x-amzn-requestid': '4f221aae-b04d-4d81-9898-963d909fe4c8',\n",
       "    'content-type': 'application/x-amz-json-1.1',\n",
       "    'content-length': '44602',\n",
       "    'date': 'Wed, 02 Nov 2022 00:32:45 GMT'},\n",
       "   'RetryAttempts': 0}},\n",
       " '3PMR2DOWPRB17PZMLOHVD0RYLTP45F')"
      ]
     },
     "execution_count": 45,
     "metadata": {},
     "output_type": "execute_result"
    }
   ],
   "source": [
    "mj.launch_HIT(\n",
    "    mturk_handler=mturk, \n",
    "    question_html=output['html'],\n",
    "    title='Edit-Intentions Task v3.3',\n",
    "    description='Label the intentions behind each edit-action from a dropdown menu.'\n",
    ")"
   ]
  },
  {
   "cell_type": "code",
   "execution_count": null,
   "metadata": {},
   "outputs": [],
   "source": []
  },
  {
   "cell_type": "code",
   "execution_count": null,
   "metadata": {},
   "outputs": [],
   "source": []
  },
  {
   "cell_type": "code",
   "execution_count": null,
   "metadata": {},
   "outputs": [],
   "source": []
  },
  {
   "cell_type": "code",
   "execution_count": null,
   "metadata": {},
   "outputs": [],
   "source": []
  },
  {
   "cell_type": "code",
   "execution_count": null,
   "metadata": {},
   "outputs": [],
   "source": []
  },
  {
   "cell_type": "code",
   "execution_count": null,
   "metadata": {},
   "outputs": [],
   "source": []
  }
 ],
 "metadata": {
  "hide_input": false,
  "kernelspec": {
   "display_name": "Python 3",
   "language": "python",
   "name": "python3"
  },
  "language_info": {
   "codemirror_mode": {
    "name": "ipython",
    "version": 3
   },
   "file_extension": ".py",
   "mimetype": "text/x-python",
   "name": "python",
   "nbconvert_exporter": "python",
   "pygments_lexer": "ipython3",
   "version": "3.7.6"
  }
 },
 "nbformat": 4,
 "nbformat_minor": 4
}
